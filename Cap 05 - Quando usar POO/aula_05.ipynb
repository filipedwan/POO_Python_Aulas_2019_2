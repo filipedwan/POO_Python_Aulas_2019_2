{
 "cells": [
  {
   "cell_type": "markdown",
   "metadata": {},
   "source": [
    "<center>\n",
    "    <table>\n",
    "        <tr>\n",
    "            <th> <img src=\"figures/ufrr_logo.png\" width=75px> </th>\n",
    "            <th> <img src=\"figures/dcc.jpg\" width=100px> </th>\n",
    "        </tr>\n",
    "    <table>\n",
    "    <font size=4>\n",
    "    Universidade Federal de Roriama\n",
    "    <br>\n",
    "    Departamento de Ciência da Computação\n",
    "    <br>\n",
    "    Professor: Filipe Dwan Pereira\n",
    "    <br>\n",
    "    Código da disciplina: DCC305\n",
    "    <br>\n",
    "    Período: 2019.2\n",
    "    </font>\n",
    "</center>"
   ]
  },
  {
   "cell_type": "markdown",
   "metadata": {},
   "source": [
    "## Disclaimer\n",
    "\n",
    "Esta aula é uma adaptação do capítulo 5 do livro:\n",
    "\n",
    "* Phillips, Dusty. Python 3 Object-oriented Programming - Unleash the power of Python 3 objects. \"Packt Publishing\", 2015. Second Edition."
   ]
  },
  {
   "cell_type": "markdown",
   "metadata": {},
   "source": [
    "* Nesta aula aprenderemos:\n",
    "\n",
    "    * Juntando dados e comportamento usando *properties*.\n",
    "    * Restringir dados usando comportamento;\n",
    "    * Não permitir código repetido;"
   ]
  },
  {
   "cell_type": "markdown",
   "metadata": {},
   "source": [
    "## Adicionando comportamento as dados da classe com properties\n",
    "\n",
    "* Em linguagens de programação orientada a objetos é comum que atributos sejam acessados via métodos.\n",
    "* Para tanto, tais linguagens usam modificadores de visibilidade, deixando os atributos como privados e os métodos que dão acesso aos atributos como públicos.\n",
    "* Por exemplo, a classe Conta simula esse conceito:"
   ]
  },
  {
   "cell_type": "code",
   "execution_count": 1,
   "metadata": {},
   "outputs": [],
   "source": [
    "class Conta:\n",
    "    def __init__(self, titular):\n",
    "        self._titular = titular;\n",
    "        self._saldo = 0.0\n",
    "        self._limite = 100.0\n",
    "    def set_titular(self, titular):\n",
    "        if not isinstance(titular, str):\n",
    "            raise TypeError('Titular:: entre com uma string')\n",
    "        if len(titular) < 3:\n",
    "            raise TypeError('Nome:: entre com seu nome completo')\n",
    "        self._titular = titular;\n",
    "    def get_titular(self):\n",
    "        return self._titular\n",
    "    def set_limite(self, limite):\n",
    "        if limite<0:\n",
    "            raise ValueError('Limite::Valor Inválido: ', limite)\n",
    "        self._limite = limite;\n",
    "    def get_limite(self):\n",
    "        return self._limite    \n",
    "    def get_saldo(self):\n",
    "        return self._saldo + self._limite\n",
    "    '''\n",
    "    set_saldo() não faz sentido, pois devemos usar os métodos \n",
    "    depositar e sacar para modificar o saldo:\n",
    "    '''\n",
    "    def depositar(self, valor):\n",
    "        if valor<0:\n",
    "            raise ValueError('Depósito::Valor Inválido: ', valor)\n",
    "        self._saldo+=valor\n",
    "    def sacar(self, valor):\n",
    "        if valor<0:\n",
    "            raise ValueError('Sacar::Valor Inválido: ', valor)\n",
    "        if valor > (self._saldo + self._limite):\n",
    "            raise ValueError('Sacar::Saldo Insuficiente')\n",
    "        self._saldo-=valor"
   ]
  },
  {
   "cell_type": "markdown",
   "metadata": {},
   "source": [
    "* Primeiramente, vamos testar nossa classe:"
   ]
  },
  {
   "cell_type": "code",
   "execution_count": 2,
   "metadata": {},
   "outputs": [
    {
     "data": {
      "text/plain": [
       "400.0"
      ]
     },
     "execution_count": 2,
     "metadata": {},
     "output_type": "execute_result"
    }
   ],
   "source": [
    "conta1 = Conta('Filipe')\n",
    "conta1.depositar(500)\n",
    "conta1.sacar(200)\n",
    "conta1.get_saldo()"
   ]
  },
  {
   "cell_type": "markdown",
   "metadata": {},
   "source": [
    "* O underscore prefixado nos atributos sugere que eles sejam \"privados\";\n",
    "* Além disso, os métodos gettters and setters são públicos e dão acesso a tais atributos \"privados\";\n",
    "* Usar getters e setters pode parecer trocar 6 por meia dúzia, mas essas linguagens fazem isso por um motivo:\n",
    "    * Por exemplo, um banco mal intencionado (como na classe que fizemos) pode retornar o saldo + limite no método *get_saldo*, para incentivar o cliente a entrar no cheque especial;\n",
    "    * Em outras palavras, não necessariamente o método getX() vai retornar X;\n",
    "    * Além disso, observe os métodos *set_titular* e *set_limite*, onde validamos os valores de entrada antes de simplemente atribuí-los aos atributos;\n",
    "* Por fim, perceba que não faz sentido termos um método *set_saldo*, pois movimentaramos o saldo usando os métodos depositar e sacar;"
   ]
  },
  {
   "cell_type": "markdown",
   "metadata": {},
   "source": [
    "* Em python, como já sabemos, não existe conceito de membros privados;\n",
    "    * Assim podemos quebrar o código da classe Conta, acessando diretamente os atributos.\n",
    "* Veja:"
   ]
  },
  {
   "cell_type": "code",
   "execution_count": 30,
   "metadata": {},
   "outputs": [
    {
     "data": {
      "text/plain": [
       "-1000"
      ]
     },
     "execution_count": 30,
     "metadata": {},
     "output_type": "execute_result"
    }
   ],
   "source": [
    "conta2 = Conta(titular='Fulano')\n",
    "conta2._saldo = -1000 #deveria ser um valor inválido\n",
    "conta2._saldo #deveria mostrar o saldo+limite"
   ]
  },
  {
   "cell_type": "markdown",
   "metadata": {},
   "source": [
    "* O python permite a implementação desses conceitos importantíssimos de linguagens orientada a objetos.\n",
    "    * No python, fazer isso sem precisar mudar a interface pública do usuário, usando a palavra-chave **property**;\n",
    "* Em outras palavras, em python o usuário acessa ao atributo X, com um simples **\\<objeto\\>.x**, ao invés de **\\<objeto\\>.get_X()**;\n",
    "* Para tanto, o python realiza uma fusão de dados e comportamento usando property:\n",
    "    * Os atributos poderão ter comportamentos também.\n",
    "    * Para tanto, devemos associar o atributo X com os métodos get_X() e set_X();\n",
    "* Veja o nosso exemplo da classe Conta usando property:"
   ]
  },
  {
   "cell_type": "code",
   "execution_count": 4,
   "metadata": {},
   "outputs": [],
   "source": [
    "class Conta:\n",
    "    def __init__(self, titular):\n",
    "        self._titular = titular;\n",
    "        self._saldo = 0.0\n",
    "        self._limite = 100.0\n",
    "    def _set_titular(self, titular):\n",
    "        if not isinstance(titular, str):\n",
    "            raise TypeError('Titular:: entre com uma string')\n",
    "        if len(titular) < 3:\n",
    "            raise TypeError('Nome:: entre com seu nome completo')\n",
    "        self._titular = titular;\n",
    "    def _get_titular(self):\n",
    "        return self._titular\n",
    "    def _set_limite(self, limite):\n",
    "        if limite<0:\n",
    "            raise ValueError('Limite::Valor Inválido: '+ str(limite))\n",
    "        self._limite = limite;\n",
    "    def _get_limite(self):\n",
    "        return self._limite    \n",
    "    def _get_saldo(self):\n",
    "        return self._saldo + self._limite\n",
    "    def _set_saldo(self, saldo):\n",
    "        raise Exception('Saldo:: use os métodos Sacar e Depositar para movimentar o saldo')\n",
    "    def depositar(self, valor):\n",
    "        if valor<0:\n",
    "            raise ValueError('Depósito::Valor Inválido: '+ str(valor))\n",
    "        self._saldo+=valor\n",
    "    def sacar(self, valor):\n",
    "        if valor<0:\n",
    "            raise ValueError('Sacar::Valor Inválido: '+ str(valor))\n",
    "        if valor > (self._saldo + self._limite):\n",
    "            raise ValueError('Sacar::Saldo Insuficiente')\n",
    "        self._saldo-=valor\n",
    "    \n",
    "    titular = property(_get_titular, _set_titular)\n",
    "    limite = property(_get_limite, _set_limite)\n",
    "    saldo = property(_get_saldo, _set_saldo)"
   ]
  },
  {
   "cell_type": "markdown",
   "metadata": {},
   "source": [
    "* Nas linhas [35-37] foram criadas as propriedades titular, limite e saldo.\n",
    "    * Agora ao acessar *objeto_conta.titular*, você na verdade estará acessando indiretamente o método *_get_titular*;\n",
    "    * Ao atribuir um valor ao *objeto_conta.titular*, você estará usando inderamente o método *set_titular*;\n",
    "* Essas propriedades funcionarão como atributos que possuem regras:\n",
    "    * Por exemplo, Não podemos mais atribuir valores negativos para o saldo:"
   ]
  },
  {
   "cell_type": "code",
   "execution_count": 5,
   "metadata": {},
   "outputs": [
    {
     "ename": "Exception",
     "evalue": "Saldo:: use os métodos Sacar e Depositar para movimentar o saldo",
     "output_type": "error",
     "traceback": [
      "\u001b[0;31m---------------------------------------------------------------------------\u001b[0m",
      "\u001b[0;31mException\u001b[0m                                 Traceback (most recent call last)",
      "\u001b[0;32m<ipython-input-5-caa60bad367c>\u001b[0m in \u001b[0;36m<module>\u001b[0;34m\u001b[0m\n\u001b[1;32m      1\u001b[0m \u001b[0mconta2\u001b[0m \u001b[0;34m=\u001b[0m \u001b[0mConta\u001b[0m\u001b[0;34m(\u001b[0m\u001b[0mtitular\u001b[0m\u001b[0;34m=\u001b[0m\u001b[0;34m'Fulano'\u001b[0m\u001b[0;34m)\u001b[0m\u001b[0;34m\u001b[0m\u001b[0;34m\u001b[0m\u001b[0m\n\u001b[0;32m----> 2\u001b[0;31m \u001b[0mconta2\u001b[0m\u001b[0;34m.\u001b[0m\u001b[0msaldo\u001b[0m \u001b[0;34m=\u001b[0m \u001b[0;34m-\u001b[0m\u001b[0;36m1000\u001b[0m\u001b[0;34m\u001b[0m\u001b[0;34m\u001b[0m\u001b[0m\n\u001b[0m",
      "\u001b[0;32m<ipython-input-4-7dff6f6bea15>\u001b[0m in \u001b[0;36m_set_saldo\u001b[0;34m(self, saldo)\u001b[0m\n\u001b[1;32m     21\u001b[0m         \u001b[0;32mreturn\u001b[0m \u001b[0mself\u001b[0m\u001b[0;34m.\u001b[0m\u001b[0m_saldo\u001b[0m \u001b[0;34m+\u001b[0m \u001b[0mself\u001b[0m\u001b[0;34m.\u001b[0m\u001b[0m_limite\u001b[0m\u001b[0;34m\u001b[0m\u001b[0;34m\u001b[0m\u001b[0m\n\u001b[1;32m     22\u001b[0m     \u001b[0;32mdef\u001b[0m \u001b[0m_set_saldo\u001b[0m\u001b[0;34m(\u001b[0m\u001b[0mself\u001b[0m\u001b[0;34m,\u001b[0m \u001b[0msaldo\u001b[0m\u001b[0;34m)\u001b[0m\u001b[0;34m:\u001b[0m\u001b[0;34m\u001b[0m\u001b[0;34m\u001b[0m\u001b[0m\n\u001b[0;32m---> 23\u001b[0;31m         \u001b[0;32mraise\u001b[0m \u001b[0mException\u001b[0m\u001b[0;34m(\u001b[0m\u001b[0;34m'Saldo:: use os métodos Sacar e Depositar para movimentar o saldo'\u001b[0m\u001b[0;34m)\u001b[0m\u001b[0;34m\u001b[0m\u001b[0;34m\u001b[0m\u001b[0m\n\u001b[0m\u001b[1;32m     24\u001b[0m     \u001b[0;32mdef\u001b[0m \u001b[0mdepositar\u001b[0m\u001b[0;34m(\u001b[0m\u001b[0mself\u001b[0m\u001b[0;34m,\u001b[0m \u001b[0mvalor\u001b[0m\u001b[0;34m)\u001b[0m\u001b[0;34m:\u001b[0m\u001b[0;34m\u001b[0m\u001b[0;34m\u001b[0m\u001b[0m\n\u001b[1;32m     25\u001b[0m         \u001b[0;32mif\u001b[0m \u001b[0mvalor\u001b[0m\u001b[0;34m<\u001b[0m\u001b[0;36m0\u001b[0m\u001b[0;34m:\u001b[0m\u001b[0;34m\u001b[0m\u001b[0;34m\u001b[0m\u001b[0m\n",
      "\u001b[0;31mException\u001b[0m: Saldo:: use os métodos Sacar e Depositar para movimentar o saldo"
     ]
    }
   ],
   "source": [
    "conta2 = Conta(titular='Fulano')\n",
    "conta2.saldo = -1000"
   ]
  },
  {
   "cell_type": "markdown",
   "metadata": {},
   "source": [
    "* Não podemos atribuir nomes muito curtos (menos que 3 letras) para o titular:"
   ]
  },
  {
   "cell_type": "code",
   "execution_count": 6,
   "metadata": {},
   "outputs": [
    {
     "ename": "TypeError",
     "evalue": "Nome:: entre com seu nome completo",
     "output_type": "error",
     "traceback": [
      "\u001b[0;31m---------------------------------------------------------------------------\u001b[0m",
      "\u001b[0;31mTypeError\u001b[0m                                 Traceback (most recent call last)",
      "\u001b[0;32m<ipython-input-6-c155891a8f02>\u001b[0m in \u001b[0;36m<module>\u001b[0;34m\u001b[0m\n\u001b[0;32m----> 1\u001b[0;31m \u001b[0mconta2\u001b[0m\u001b[0;34m.\u001b[0m\u001b[0mtitular\u001b[0m \u001b[0;34m=\u001b[0m \u001b[0;34m'a'\u001b[0m\u001b[0;34m\u001b[0m\u001b[0;34m\u001b[0m\u001b[0m\n\u001b[0m",
      "\u001b[0;32m<ipython-input-4-7dff6f6bea15>\u001b[0m in \u001b[0;36m_set_titular\u001b[0;34m(self, titular)\u001b[0m\n\u001b[1;32m      8\u001b[0m             \u001b[0;32mraise\u001b[0m \u001b[0mTypeError\u001b[0m\u001b[0;34m(\u001b[0m\u001b[0;34m'Titular:: entre com uma string'\u001b[0m\u001b[0;34m)\u001b[0m\u001b[0;34m\u001b[0m\u001b[0;34m\u001b[0m\u001b[0m\n\u001b[1;32m      9\u001b[0m         \u001b[0;32mif\u001b[0m \u001b[0mlen\u001b[0m\u001b[0;34m(\u001b[0m\u001b[0mtitular\u001b[0m\u001b[0;34m)\u001b[0m \u001b[0;34m<\u001b[0m \u001b[0;36m3\u001b[0m\u001b[0;34m:\u001b[0m\u001b[0;34m\u001b[0m\u001b[0;34m\u001b[0m\u001b[0m\n\u001b[0;32m---> 10\u001b[0;31m             \u001b[0;32mraise\u001b[0m \u001b[0mTypeError\u001b[0m\u001b[0;34m(\u001b[0m\u001b[0;34m'Nome:: entre com seu nome completo'\u001b[0m\u001b[0;34m)\u001b[0m\u001b[0;34m\u001b[0m\u001b[0;34m\u001b[0m\u001b[0m\n\u001b[0m\u001b[1;32m     11\u001b[0m         \u001b[0mself\u001b[0m\u001b[0;34m.\u001b[0m\u001b[0m_titular\u001b[0m \u001b[0;34m=\u001b[0m \u001b[0mtitular\u001b[0m\u001b[0;34m;\u001b[0m\u001b[0;34m\u001b[0m\u001b[0;34m\u001b[0m\u001b[0m\n\u001b[1;32m     12\u001b[0m     \u001b[0;32mdef\u001b[0m \u001b[0m_get_titular\u001b[0m\u001b[0;34m(\u001b[0m\u001b[0mself\u001b[0m\u001b[0;34m)\u001b[0m\u001b[0;34m:\u001b[0m\u001b[0;34m\u001b[0m\u001b[0;34m\u001b[0m\u001b[0m\n",
      "\u001b[0;31mTypeError\u001b[0m: Nome:: entre com seu nome completo"
     ]
    }
   ],
   "source": [
    "conta2.titular = 'a'"
   ]
  },
  {
   "cell_type": "markdown",
   "metadata": {},
   "source": [
    "* Também não podemos atribuir valores negativos pra o limite da conta:"
   ]
  },
  {
   "cell_type": "code",
   "execution_count": 19,
   "metadata": {},
   "outputs": [
    {
     "ename": "ValueError",
     "evalue": "Limite::Valor Inválido: -100",
     "output_type": "error",
     "traceback": [
      "\u001b[1;31m---------------------------------------------------------------------------\u001b[0m",
      "\u001b[1;31mValueError\u001b[0m                                Traceback (most recent call last)",
      "\u001b[1;32m<ipython-input-19-beb87490df24>\u001b[0m in \u001b[0;36m<module>\u001b[1;34m\u001b[0m\n\u001b[1;32m----> 1\u001b[1;33m \u001b[0mconta2\u001b[0m\u001b[1;33m.\u001b[0m\u001b[0mlimite\u001b[0m \u001b[1;33m=\u001b[0m \u001b[1;33m-\u001b[0m\u001b[1;36m100\u001b[0m\u001b[1;33m\u001b[0m\u001b[1;33m\u001b[0m\u001b[0m\n\u001b[0m",
      "\u001b[1;32m<ipython-input-16-7dff6f6bea15>\u001b[0m in \u001b[0;36m_set_limite\u001b[1;34m(self, limite)\u001b[0m\n\u001b[0;32m     14\u001b[0m     \u001b[1;32mdef\u001b[0m \u001b[0m_set_limite\u001b[0m\u001b[1;33m(\u001b[0m\u001b[0mself\u001b[0m\u001b[1;33m,\u001b[0m \u001b[0mlimite\u001b[0m\u001b[1;33m)\u001b[0m\u001b[1;33m:\u001b[0m\u001b[1;33m\u001b[0m\u001b[1;33m\u001b[0m\u001b[0m\n\u001b[0;32m     15\u001b[0m         \u001b[1;32mif\u001b[0m \u001b[0mlimite\u001b[0m\u001b[1;33m<\u001b[0m\u001b[1;36m0\u001b[0m\u001b[1;33m:\u001b[0m\u001b[1;33m\u001b[0m\u001b[1;33m\u001b[0m\u001b[0m\n\u001b[1;32m---> 16\u001b[1;33m             \u001b[1;32mraise\u001b[0m \u001b[0mValueError\u001b[0m\u001b[1;33m(\u001b[0m\u001b[1;34m'Limite::Valor Inválido: '\u001b[0m\u001b[1;33m+\u001b[0m \u001b[0mstr\u001b[0m\u001b[1;33m(\u001b[0m\u001b[0mlimite\u001b[0m\u001b[1;33m)\u001b[0m\u001b[1;33m)\u001b[0m\u001b[1;33m\u001b[0m\u001b[1;33m\u001b[0m\u001b[0m\n\u001b[0m\u001b[0;32m     17\u001b[0m         \u001b[0mself\u001b[0m\u001b[1;33m.\u001b[0m\u001b[0m_limite\u001b[0m \u001b[1;33m=\u001b[0m \u001b[0mlimite\u001b[0m\u001b[1;33m;\u001b[0m\u001b[1;33m\u001b[0m\u001b[1;33m\u001b[0m\u001b[0m\n\u001b[0;32m     18\u001b[0m     \u001b[1;32mdef\u001b[0m \u001b[0m_get_limite\u001b[0m\u001b[1;33m(\u001b[0m\u001b[0mself\u001b[0m\u001b[1;33m)\u001b[0m\u001b[1;33m:\u001b[0m\u001b[1;33m\u001b[0m\u001b[1;33m\u001b[0m\u001b[0m\n",
      "\u001b[1;31mValueError\u001b[0m: Limite::Valor Inválido: -100"
     ]
    }
   ],
   "source": [
    "conta2.limite = -100"
   ]
  },
  {
   "cell_type": "markdown",
   "metadata": {},
   "source": [
    "* Lembre-se que mesmo com uso de property, o código ainda não está totalmente seguro;\n",
    "* Ainda é possível acessar o _nameattribute diretamente. \n",
    "* Mas se alguém acessar um atributo marcado com undescore para sugerir que é privado, esse alguém que deve arcar com as consequências disso, não quem fez a classe."
   ]
  },
  {
   "cell_type": "code",
   "execution_count": 20,
   "metadata": {},
   "outputs": [],
   "source": [
    "conta2._limite = -100 ##não faça isso"
   ]
  },
  {
   "cell_type": "code",
   "execution_count": 21,
   "metadata": {},
   "outputs": [
    {
     "data": {
      "text/plain": [
       "-100"
      ]
     },
     "execution_count": 21,
     "metadata": {},
     "output_type": "execute_result"
    }
   ],
   "source": [
    "conta2.limite"
   ]
  },
  {
   "cell_type": "markdown",
   "metadata": {},
   "source": [
    "### Um pouco mais sobre property\n",
    "\n",
    "* Além dos setters e getters, O property pode aceitar mais dois argumentos:\n",
    "    1. Um método para remoção do atributo\n",
    "    2. O docstring da propriedade\n",
    "* Nota: a função delete é raramente utilizada;\n",
    "* Veja o exemplo abaixo:"
   ]
  },
  {
   "cell_type": "code",
   "execution_count": 9,
   "metadata": {},
   "outputs": [],
   "source": [
    "class Cliente:\n",
    "    def _get_nome(self):\n",
    "        print('Você acessou o nome do cliente')\n",
    "        return self._nome\n",
    "    def _set_nome(self, nome):\n",
    "        print('O nome do cliente eh: '+nome)\n",
    "        self._nome = nome\n",
    "    def _del_nome(self):\n",
    "        print('Você deletou o nome do cliente')\n",
    "        del self._nome\n",
    "    nome = property(_get_nome, _set_nome,\n",
    "                    _del_nome, \"docstring: nome do cliente\")"
   ]
  },
  {
   "cell_type": "code",
   "execution_count": 10,
   "metadata": {},
   "outputs": [
    {
     "name": "stdout",
     "output_type": "stream",
     "text": [
      "O nome do cliente eh: Ciclano\n"
     ]
    }
   ],
   "source": [
    "cliente = Cliente()\n",
    "cliente.nome = 'Ciclano'"
   ]
  },
  {
   "cell_type": "code",
   "execution_count": 11,
   "metadata": {},
   "outputs": [
    {
     "name": "stdout",
     "output_type": "stream",
     "text": [
      "Você acessou o nome do cliente\n"
     ]
    },
    {
     "data": {
      "text/plain": [
       "'Ciclano'"
      ]
     },
     "execution_count": 11,
     "metadata": {},
     "output_type": "execute_result"
    }
   ],
   "source": [
    "cliente.nome"
   ]
  },
  {
   "cell_type": "code",
   "execution_count": 12,
   "metadata": {},
   "outputs": [
    {
     "name": "stdout",
     "output_type": "stream",
     "text": [
      "Você deletou o nome do cliente\n"
     ]
    }
   ],
   "source": [
    "del cliente.nome"
   ]
  },
  {
   "cell_type": "code",
   "execution_count": 13,
   "metadata": {},
   "outputs": [
    {
     "name": "stdout",
     "output_type": "stream",
     "text": [
      "Você acessou o nome do cliente\n"
     ]
    },
    {
     "ename": "AttributeError",
     "evalue": "'Cliente' object has no attribute '_nome'",
     "output_type": "error",
     "traceback": [
      "\u001b[0;31m---------------------------------------------------------------------------\u001b[0m",
      "\u001b[0;31mAttributeError\u001b[0m                            Traceback (most recent call last)",
      "\u001b[0;32m<ipython-input-13-af3724e1243a>\u001b[0m in \u001b[0;36m<module>\u001b[0;34m\u001b[0m\n\u001b[0;32m----> 1\u001b[0;31m \u001b[0mcliente\u001b[0m\u001b[0;34m.\u001b[0m\u001b[0mnome\u001b[0m\u001b[0;34m\u001b[0m\u001b[0;34m\u001b[0m\u001b[0m\n\u001b[0m",
      "\u001b[0;32m<ipython-input-9-45a6e15e0e9b>\u001b[0m in \u001b[0;36m_get_nome\u001b[0;34m(self)\u001b[0m\n\u001b[1;32m      2\u001b[0m     \u001b[0;32mdef\u001b[0m \u001b[0m_get_nome\u001b[0m\u001b[0;34m(\u001b[0m\u001b[0mself\u001b[0m\u001b[0;34m)\u001b[0m\u001b[0;34m:\u001b[0m\u001b[0;34m\u001b[0m\u001b[0;34m\u001b[0m\u001b[0m\n\u001b[1;32m      3\u001b[0m         \u001b[0mprint\u001b[0m\u001b[0;34m(\u001b[0m\u001b[0;34m'Você acessou o nome do cliente'\u001b[0m\u001b[0;34m)\u001b[0m\u001b[0;34m\u001b[0m\u001b[0;34m\u001b[0m\u001b[0m\n\u001b[0;32m----> 4\u001b[0;31m         \u001b[0;32mreturn\u001b[0m \u001b[0mself\u001b[0m\u001b[0;34m.\u001b[0m\u001b[0m_nome\u001b[0m\u001b[0;34m\u001b[0m\u001b[0;34m\u001b[0m\u001b[0m\n\u001b[0m\u001b[1;32m      5\u001b[0m     \u001b[0;32mdef\u001b[0m \u001b[0m_set_nome\u001b[0m\u001b[0;34m(\u001b[0m\u001b[0mself\u001b[0m\u001b[0;34m,\u001b[0m \u001b[0mnome\u001b[0m\u001b[0;34m)\u001b[0m\u001b[0;34m:\u001b[0m\u001b[0;34m\u001b[0m\u001b[0;34m\u001b[0m\u001b[0m\n\u001b[1;32m      6\u001b[0m         \u001b[0mprint\u001b[0m\u001b[0;34m(\u001b[0m\u001b[0;34m'O nome do cliente eh: '\u001b[0m\u001b[0;34m+\u001b[0m\u001b[0mnome\u001b[0m\u001b[0;34m)\u001b[0m\u001b[0;34m\u001b[0m\u001b[0;34m\u001b[0m\u001b[0m\n",
      "\u001b[0;31mAttributeError\u001b[0m: 'Cliente' object has no attribute '_nome'"
     ]
    }
   ],
   "source": [
    "cliente.nome"
   ]
  },
  {
   "cell_type": "markdown",
   "metadata": {},
   "source": [
    "## Properties com Decorators\n",
    "\n",
    "* Outra forma de criar properties é usando decorators.\n",
    "    * Com decorators, o código fica mais fácil de ler;\n",
    "* Veja abaixo um exemplo para que tornar um getter em uma property:"
   ]
  },
  {
   "cell_type": "code",
   "execution_count": 14,
   "metadata": {},
   "outputs": [],
   "source": [
    "class Cliente:    \n",
    "    def __init__(self, nome):\n",
    "        self._nome = nome\n",
    "    @property\n",
    "    def nome(self):\n",
    "        print('Acessando o nome do cliente')\n",
    "        return self._nome"
   ]
  },
  {
   "cell_type": "code",
   "execution_count": 15,
   "metadata": {},
   "outputs": [],
   "source": [
    "cliente = Cliente('Fulano de Tal')"
   ]
  },
  {
   "cell_type": "code",
   "execution_count": 16,
   "metadata": {},
   "outputs": [
    {
     "name": "stdout",
     "output_type": "stream",
     "text": [
      "Acessando o nome do cliente\n"
     ]
    },
    {
     "data": {
      "text/plain": [
       "'Fulano de Tal'"
      ]
     },
     "execution_count": 16,
     "metadata": {},
     "output_type": "execute_result"
    }
   ],
   "source": [
    "cliente.nome"
   ]
  },
  {
   "cell_type": "markdown",
   "metadata": {},
   "source": [
    "* Ao usarmos @property, nós não precisamos fazer:\n",
    "    * nome = property(_get_nome)\n",
    "* Vamos refazer as propriedades da nossa conta usando decorators:"
   ]
  },
  {
   "cell_type": "code",
   "execution_count": 47,
   "metadata": {},
   "outputs": [],
   "source": [
    "class Conta:\n",
    "    def __init__(self, titular):\n",
    "        \"informe o nome do titular da conta\"\n",
    "        self._titular = titular;\n",
    "        self._saldo = 0.0\n",
    "        self._limite = 100.0\n",
    "    @property\n",
    "    def titular(self):\n",
    "        \"nome do titular da conta\"\n",
    "        return self._titular\n",
    "    @titular.setter\n",
    "    def titular(self, titular):\n",
    "        if not isinstance(titular, str):\n",
    "            raise TypeError('Titular:: entre com uma string')\n",
    "        if len(titular) < 3:\n",
    "            raise TypeError('Nome:: entre com seu nome completo')\n",
    "        self._titular = titular;\n",
    "    @property\n",
    "    def limite(self):\n",
    "        \"limite da conta para cheque especial\"\n",
    "        return self._limite \n",
    "    @limite.setter\n",
    "    def limite(self, limite):\n",
    "        if limite<0:\n",
    "            raise ValueError('Limite::Valor Inválido: '+ str(limite))\n",
    "        self._limite = limite;\n",
    "    @property\n",
    "    def saldo(self):\n",
    "        return self._saldo + self._limite        \n",
    "    @saldo.setter\n",
    "    def saldo(self, saldo):\n",
    "        raise Exception('Saldo:: use os métodos Sacar e Depositar para movimentar o saldo')\n",
    "    def depositar(self, valor):\n",
    "        if valor<0:\n",
    "            raise ValueError('Depósito::Valor Inválido: '+ str(valor))\n",
    "        self._saldo+=valor\n",
    "    def sacar(self, valor):\n",
    "        if valor<0:\n",
    "            raise ValueError('Sacar::Valor Inválido: '+ str(valor))\n",
    "        if valor > (self._saldo + self._limite):\n",
    "            raise ValueError('Sacar::Saldo Insuficiente')\n",
    "        self._saldo-=valor"
   ]
  },
  {
   "cell_type": "code",
   "execution_count": 50,
   "metadata": {},
   "outputs": [],
   "source": [
    "nova_conta = Conta('Beltrano')"
   ]
  },
  {
   "cell_type": "code",
   "execution_count": 52,
   "metadata": {},
   "outputs": [],
   "source": [
    "nova_conta.limite = 1000"
   ]
  },
  {
   "cell_type": "code",
   "execution_count": 53,
   "metadata": {},
   "outputs": [
    {
     "data": {
      "text/plain": [
       "1000"
      ]
     },
     "execution_count": 53,
     "metadata": {},
     "output_type": "execute_result"
    }
   ],
   "source": [
    "nova_conta.limite"
   ]
  },
  {
   "cell_type": "code",
   "execution_count": 54,
   "metadata": {},
   "outputs": [
    {
     "ename": "Exception",
     "evalue": "Saldo:: use os métodos Sacar e Depositar para movimentar o saldo",
     "output_type": "error",
     "traceback": [
      "\u001b[1;31m---------------------------------------------------------------------------\u001b[0m",
      "\u001b[1;31mException\u001b[0m                                 Traceback (most recent call last)",
      "\u001b[1;32m<ipython-input-54-ca61ca47b353>\u001b[0m in \u001b[0;36m<module>\u001b[1;34m\u001b[0m\n\u001b[1;32m----> 1\u001b[1;33m \u001b[0mnova_conta\u001b[0m\u001b[1;33m.\u001b[0m\u001b[0msaldo\u001b[0m \u001b[1;33m=\u001b[0m \u001b[1;36m1000\u001b[0m\u001b[1;33m\u001b[0m\u001b[1;33m\u001b[0m\u001b[0m\n\u001b[0m",
      "\u001b[1;32m<ipython-input-47-7449868a280f>\u001b[0m in \u001b[0;36msaldo\u001b[1;34m(self, saldo)\u001b[0m\n\u001b[0;32m     30\u001b[0m     \u001b[1;33m@\u001b[0m\u001b[0msaldo\u001b[0m\u001b[1;33m.\u001b[0m\u001b[0msetter\u001b[0m\u001b[1;33m\u001b[0m\u001b[1;33m\u001b[0m\u001b[0m\n\u001b[0;32m     31\u001b[0m     \u001b[1;32mdef\u001b[0m \u001b[0msaldo\u001b[0m\u001b[1;33m(\u001b[0m\u001b[0mself\u001b[0m\u001b[1;33m,\u001b[0m \u001b[0msaldo\u001b[0m\u001b[1;33m)\u001b[0m\u001b[1;33m:\u001b[0m\u001b[1;33m\u001b[0m\u001b[1;33m\u001b[0m\u001b[0m\n\u001b[1;32m---> 32\u001b[1;33m         \u001b[1;32mraise\u001b[0m \u001b[0mException\u001b[0m\u001b[1;33m(\u001b[0m\u001b[1;34m'Saldo:: use os métodos Sacar e Depositar para movimentar o saldo'\u001b[0m\u001b[1;33m)\u001b[0m\u001b[1;33m\u001b[0m\u001b[1;33m\u001b[0m\u001b[0m\n\u001b[0m\u001b[0;32m     33\u001b[0m     \u001b[1;32mdef\u001b[0m \u001b[0mdepositar\u001b[0m\u001b[1;33m(\u001b[0m\u001b[0mself\u001b[0m\u001b[1;33m,\u001b[0m \u001b[0mvalor\u001b[0m\u001b[1;33m)\u001b[0m\u001b[1;33m:\u001b[0m\u001b[1;33m\u001b[0m\u001b[1;33m\u001b[0m\u001b[0m\n\u001b[0;32m     34\u001b[0m         \u001b[1;32mif\u001b[0m \u001b[0mvalor\u001b[0m\u001b[1;33m<\u001b[0m\u001b[1;36m0\u001b[0m\u001b[1;33m:\u001b[0m\u001b[1;33m\u001b[0m\u001b[1;33m\u001b[0m\u001b[0m\n",
      "\u001b[1;31mException\u001b[0m: Saldo:: use os métodos Sacar e Depositar para movimentar o saldo"
     ]
    }
   ],
   "source": [
    "nova_conta.saldo = 1000"
   ]
  },
  {
   "cell_type": "markdown",
   "metadata": {},
   "source": [
    "## Caso de Uso\n",
    "\n",
    "* Neste estudo de caso criaramos uma classe Document que representa um documento que pode ser processado por um editor de texto;\n",
    "* Precisaremos de uma string para armazenar o conteúdo do documento;\n",
    "    * No entanto, strings são imutáveis em python e, assim, é inviável deixarmos nosso atributo conteúdo como string;\n",
    "    * Faremos dele uma lista de caracteres;\n",
    "* Precisaremos ainda de um cursor que apontará para o caractere corrente na lista;\n",
    "* Por fim, precisaremos armazenar o nome do documento;\n",
    "* Precisaremos de alguns métodos simples como para inserir um caractere, deletar e etc.\n",
    "* Veja abaixo nossa primeira versão da classe Documento:"
   ]
  },
  {
   "cell_type": "code",
   "execution_count": 4,
   "metadata": {},
   "outputs": [],
   "source": [
    "class Document:\n",
    "    def __init__(self):\n",
    "        self.characters = []\n",
    "        self.cursor = 0\n",
    "        self.filename = ''\n",
    "    def insert(self, character):\n",
    "        self.characters.insert(self.cursor, character)\n",
    "        self.cursor += 1\n",
    "    def delete(self):\n",
    "        del self.characters[self.cursor]\n",
    "    def save(self):\n",
    "        with open(self.filename, 'w') as f:\n",
    "            f.write(''.join(self.characters))\n",
    "    def forward(self):\n",
    "        self.cursor += 1\n",
    "    def back(self):\n",
    "        self.cursor -= 1"
   ]
  },
  {
   "cell_type": "markdown",
   "metadata": {},
   "source": [
    "* Vamos testar nossa classe:"
   ]
  },
  {
   "cell_type": "code",
   "execution_count": 5,
   "metadata": {},
   "outputs": [],
   "source": [
    "doc = Document()\n",
    "doc.filename = 'documento_teste.txt'\n",
    "doc.insert('p')\n",
    "doc.insert('r')\n",
    "doc.insert('o')\n",
    "doc.insert('g')\n",
    "doc.insert('r')\n",
    "doc.insert('a')\n",
    "doc.insert('m')\n",
    "doc.insert('a')\n",
    "doc.insert('r')\n",
    "doc.insert(' ')\n",
    "doc.insert('é')\n",
    "doc.insert(' ')\n",
    "doc.insert('b')\n",
    "doc.insert('o')\n",
    "doc.insert('m')\n",
    "doc.save()"
   ]
  },
  {
   "cell_type": "code",
   "execution_count": 6,
   "metadata": {},
   "outputs": [
    {
     "name": "stdout",
     "output_type": "stream",
     "text": [
      "programar é bom"
     ]
    }
   ],
   "source": [
    "!cat documento_teste.txt"
   ]
  },
  {
   "cell_type": "code",
   "execution_count": 7,
   "metadata": {},
   "outputs": [],
   "source": [
    "doc.back()\n",
    "doc.delete()\n",
    "doc.insert('M')\n",
    "doc.save()"
   ]
  },
  {
   "cell_type": "code",
   "execution_count": 8,
   "metadata": {},
   "outputs": [
    {
     "name": "stdout",
     "output_type": "stream",
     "text": [
      "programar é boM"
     ]
    }
   ],
   "source": [
    "!cat documento_teste.txt"
   ]
  },
  {
   "cell_type": "markdown",
   "metadata": {},
   "source": [
    "* Observe que em um teclado existem, além do forward e back, as teclas end, home, page up e etc.\n",
    "* Assim sendo, faz mais sentido o cursos ser uma classe que consegue se locomover pelo documento dependendo da opção usada:"
   ]
  },
  {
   "cell_type": "code",
   "execution_count": 10,
   "metadata": {},
   "outputs": [],
   "source": [
    "class Cursor:\n",
    "    def __init__(self, document):\n",
    "        self.document = document\n",
    "        self.position = 0\n",
    "    def forward(self):\n",
    "        self.position += 1\n",
    "    def back(self):\n",
    "        self.position -= 1\n",
    "    def home(self):\n",
    "        while self.document.characters[self.position-1] != '\\n':\n",
    "            self.position -= 1\n",
    "            if self.position == 0:        \n",
    "                break\n",
    "    def end(self):\n",
    "        while self.position < len(self.document.characters) and self.document.characters[self.position] != '\\n':\n",
    "            self.position += 1"
   ]
  },
  {
   "cell_type": "markdown",
   "metadata": {},
   "source": [
    "* Precisamos atualizar nossa classe Document:\n",
    "    * Vamos adicionar, além do objeto cursor, uma propriedade para mostrar o conteúdo do documento;"
   ]
  },
  {
   "cell_type": "code",
   "execution_count": 11,
   "metadata": {},
   "outputs": [],
   "source": [
    "class Document:\n",
    "    def __init__(self):\n",
    "        self.characters = []\n",
    "        self.cursor = Cursor(self)\n",
    "        self.filename = ''\n",
    "    def insert(self, character):\n",
    "        self.characters.insert(self.cursor.position,character)\n",
    "        self.cursor.forward()\n",
    "    def delete(self):\n",
    "        del self.characters[self.cursor.position]\n",
    "    def save(self):\n",
    "        f = open(self.filename, 'w')\n",
    "        f.write(''.join(self.characters))\n",
    "        f.close()\n",
    "    @property\n",
    "    def content(self):\n",
    "        return \"\".join(self.characters)"
   ]
  },
  {
   "cell_type": "code",
   "execution_count": 12,
   "metadata": {},
   "outputs": [
    {
     "name": "stdout",
     "output_type": "stream",
     "text": [
      "programar\n",
      "é\n",
      "bom\n"
     ]
    }
   ],
   "source": [
    "doc = Document()\n",
    "doc.filename = 'documento_teste.txt'\n",
    "doc.insert('p')\n",
    "doc.insert('r')\n",
    "doc.insert('o')\n",
    "doc.insert('g')\n",
    "doc.insert('r')\n",
    "doc.insert('a')\n",
    "doc.insert('m')\n",
    "doc.insert('a')\n",
    "doc.insert('r')\n",
    "doc.insert('\\n')\n",
    "doc.insert('é')\n",
    "doc.insert('\\n')\n",
    "doc.insert('b')\n",
    "doc.insert('o')\n",
    "doc.insert('m')\n",
    "print(doc.content)"
   ]
  },
  {
   "cell_type": "code",
   "execution_count": 13,
   "metadata": {},
   "outputs": [],
   "source": [
    "doc.cursor.home()\n",
    "doc.insert('+')"
   ]
  },
  {
   "cell_type": "code",
   "execution_count": 14,
   "metadata": {},
   "outputs": [
    {
     "name": "stdout",
     "output_type": "stream",
     "text": [
      "programar\n",
      "é\n",
      "+bom\n"
     ]
    }
   ],
   "source": [
    "print(doc.content)"
   ]
  },
  {
   "cell_type": "markdown",
   "metadata": {},
   "source": [
    "* Vamos aumentar um pouco mais as funcionalidades do documento;\n",
    "* Queremos ter caracteres em negrito, sublinhado e itálico;\n",
    "* Para tanto, criaremos uma classe caractere que terá esses atributos;\n",
    "    * Dessa forma, se o atributo negrito estiver configurado como True, significa que o caractere está em negrito;\n",
    "* Além disso, iremos sobreescrever o método \\_\\_str\\_\\_ da classe object.\n",
    "    * Assim, ao invés de imprimir o nome da classe e o endereço de memória do objeto, podemos imprimir uma mensagem significativa do objeto dentro de um comando print. Veja um simple exemplo:"
   ]
  },
  {
   "cell_type": "code",
   "execution_count": 15,
   "metadata": {},
   "outputs": [],
   "source": [
    "class Pessoa:\n",
    "    def __init__(self, nome):\n",
    "        self.nome = nome"
   ]
  },
  {
   "cell_type": "code",
   "execution_count": 16,
   "metadata": {},
   "outputs": [
    {
     "name": "stdout",
     "output_type": "stream",
     "text": [
      "<__main__.Pessoa object at 0x7f31fc80ddd8>\n"
     ]
    }
   ],
   "source": [
    "p = Pessoa('Fulano')\n",
    "print(p)"
   ]
  },
  {
   "cell_type": "code",
   "execution_count": 17,
   "metadata": {},
   "outputs": [],
   "source": [
    "class Pessoa:\n",
    "    def __init__(self, nome):\n",
    "        self.nome = nome\n",
    "    def __str__(self):\n",
    "        return 'Meu nome é '+self.nome"
   ]
  },
  {
   "cell_type": "code",
   "execution_count": 38,
   "metadata": {},
   "outputs": [
    {
     "name": "stdout",
     "output_type": "stream",
     "text": [
      "Meu nome eh Fulano\n"
     ]
    }
   ],
   "source": [
    "p = Pessoa('Fulano')\n",
    "print(p)"
   ]
  },
  {
   "cell_type": "markdown",
   "metadata": {},
   "source": [
    "* Agora vamos voltar para a nossa classe que representa um caractere do documento:"
   ]
  },
  {
   "cell_type": "code",
   "execution_count": 19,
   "metadata": {},
   "outputs": [],
   "source": [
    "class Character:\n",
    "    def __init__(self, character,bold=False, italic=False, underline=False):\n",
    "        assert len(character) == 1\n",
    "        self.character = character\n",
    "        self.bold = bold\n",
    "        self.italic = italic\n",
    "        self.underline = underline\n",
    "    def __str__(self):\n",
    "        #colocaremos um prefixo em caracteres formatados\n",
    "        bold = \"*\" if self.bold else ''\n",
    "        italic = \"/\" if self.italic else ''\n",
    "        underline = \"_\" if self.underline else ''\n",
    "        return bold + italic + underline + self.character"
   ]
  },
  {
   "cell_type": "markdown",
   "metadata": {},
   "source": [
    "* Agora precisamos fazer pequenas mudanças no método insert e na propriedade content da classe documento;\n",
    "* Além disso mudaremos os métodos home e end para acessarmos os atributos *character* de cada objeto da classe Character;\n",
    "* Nosso módulo ficará assim:"
   ]
  },
  {
   "cell_type": "code",
   "execution_count": 20,
   "metadata": {},
   "outputs": [],
   "source": [
    "class Document:\n",
    "    def __init__(self):\n",
    "        self.characters = []\n",
    "        self.cursor = Cursor(self)\n",
    "        self.filename = ''\n",
    "    def insert(self, character):\n",
    "        if not hasattr(character, 'character'):\n",
    "            character = Character(character)\n",
    "        self.characters.insert(self.cursor.position,character)\n",
    "        self.cursor.forward()\n",
    "    def delete(self):\n",
    "        del self.characters[self.cursor.position]\n",
    "    def save(self):\n",
    "        f = open(self.filename, 'w')\n",
    "        f.write(''.join(self.characters))\n",
    "        f.close()\n",
    "    @property\n",
    "    def content(self):    \n",
    "        for c in self.characters:\n",
    "            print(c, end='')\n",
    "        return ''\n",
    "\n",
    "class Character:\n",
    "    def __init__(self, character,bold=False, italic=False, underline=False):\n",
    "        assert len(character) == 1\n",
    "        self.character = character\n",
    "        self.bold = bold\n",
    "        self.italic = italic\n",
    "        self.underline = underline\n",
    "    def __str__(self):\n",
    "        #colocaremos um prefixo em caracteres formatados\n",
    "        bold = \"*\" if self.bold else ''\n",
    "        italic = \"/\" if self.italic else ''\n",
    "        underline = \"_\" if self.underline else ''\n",
    "        return bold + italic + underline + self.character\n",
    "\n",
    "class Cursor:\n",
    "    def __init__(self, document):\n",
    "        self.document = document\n",
    "        self.position = 0\n",
    "    def forward(self):\n",
    "        self.position += 1\n",
    "    def back(self):\n",
    "        self.position -= 1\n",
    "    def home(self):\n",
    "        while self.document.characters[self.position-1].character != '\\n':\n",
    "            self.position -= 1\n",
    "            if self.position == 0:\n",
    "                break\n",
    "    def end(self):\n",
    "        while self.position < len(self.document.characters) and self.document.characters[self.position].character != '\\n':\n",
    "            self.position += 1"
   ]
  },
  {
   "cell_type": "markdown",
   "metadata": {},
   "source": [
    "* Agora vamos testar nosso código:"
   ]
  },
  {
   "cell_type": "code",
   "execution_count": 21,
   "metadata": {},
   "outputs": [
    {
     "name": "stdout",
     "output_type": "stream",
     "text": [
      "pr*o/gram_ar\n",
      "é\n",
      "bom\n"
     ]
    }
   ],
   "source": [
    "doc = Document()\n",
    "doc.filename = 'documento_teste_2.txt'\n",
    "doc.insert('p')\n",
    "doc.insert('r')\n",
    "doc.insert(Character('o', bold=True))\n",
    "doc.insert(Character('g', italic=True))\n",
    "doc.insert('r')\n",
    "doc.insert('a')\n",
    "doc.insert('m')\n",
    "doc.insert(Character('a', underline=True))\n",
    "doc.insert('r')\n",
    "doc.insert('\\n')\n",
    "doc.insert('é')\n",
    "doc.insert('\\n')\n",
    "doc.insert('b')\n",
    "doc.insert('o')\n",
    "doc.insert('m')\n",
    "print(doc.content)"
   ]
  },
  {
   "cell_type": "markdown",
   "metadata": {},
   "source": [
    "**Nota:** O *hasattr* verifica se o valor passado como parâmetro possui o atributo *character*;\n",
    "* Caso não tenha, encapsulamos ele em um objeto Character;\n",
    "* Para ilustrar, veja abaixo um exemplo de uso dessa função:"
   ]
  },
  {
   "cell_type": "code",
   "execution_count": 48,
   "metadata": {
    "scrolled": true
   },
   "outputs": [
    {
     "name": "stdout",
     "output_type": "stream",
     "text": [
      "True\n",
      "False\n"
     ]
    }
   ],
   "source": [
    "class Pessoa:\n",
    "    nome = 'Fulano'\n",
    "    idade = 28\n",
    "\n",
    "p = Pessoa()\n",
    "print(hasattr(p, 'nome'))#verifica se o objeto p tem o atributo nome -> True\n",
    "print(hasattr(p, 'altura'))#verifica se o objeto p tem o atributo altura -> False"
   ]
  }
 ],
 "metadata": {
  "kernelspec": {
   "display_name": "Python 3",
   "language": "python",
   "name": "python3"
  },
  "language_info": {
   "codemirror_mode": {
    "name": "ipython",
    "version": 3
   },
   "file_extension": ".py",
   "mimetype": "text/x-python",
   "name": "python",
   "nbconvert_exporter": "python",
   "pygments_lexer": "ipython3",
   "version": "3.6.9"
  }
 },
 "nbformat": 4,
 "nbformat_minor": 2
}
