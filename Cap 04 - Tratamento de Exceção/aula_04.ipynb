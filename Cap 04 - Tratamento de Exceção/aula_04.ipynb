{
 "cells": [
  {
   "cell_type": "markdown",
   "metadata": {},
   "source": [
    "<center>\n",
    "    <table>\n",
    "        <tr>\n",
    "            <th> <img src=\"figures/ufrr_logo.png\" width=75px> </th>\n",
    "            <th> <img src=\"figures/dcc.jpg\" width=100px> </th>\n",
    "        </tr>\n",
    "    <table>\n",
    "    <font size=4>\n",
    "    Universidade Federal de Roriama\n",
    "    <br>\n",
    "    Departamento de Ciência da Computação\n",
    "    <br>\n",
    "    Professor: Filipe Dwan Pereira\n",
    "    <br>\n",
    "    Código da disciplina: DCC305\n",
    "    <br>\n",
    "    Período: 2019.2\n",
    "    </font>\n",
    "</center>"
   ]
  },
  {
   "cell_type": "markdown",
   "metadata": {},
   "source": [
    "## Disclaimer\n",
    "\n",
    "Esta aula é uma adaptação do capítulo 4 do livro:\n",
    "\n",
    "* Phillips, Dusty. Python 3 Object-oriented Programming - Unleash the power of Python 3 objects. \"Packt Publishing\", 2015. Second Edition."
   ]
  },
  {
   "cell_type": "markdown",
   "metadata": {},
   "source": [
    "Nesta aula aprenderemos:\n",
    "\n",
    "* Como lançar exceções;\n",
    "* Como se recuperar de uma exceção lançada;\n",
    "* Como lidar com diferentes exceções de maneiras diferentes;\n",
    "* Criar novos tipos de exceções;\n",
    "* Usar a sintaxe de exceções para um fluxo de controle;"
   ]
  },
  {
   "cell_type": "markdown",
   "metadata": {},
   "source": [
    "## Introdução\n",
    "\n",
    "* Seria ideal se o código sempre retornasse um resultado válido, mas às vezes um resultado válido não pode ser calculado.\n",
    "    * Por exemplo, não é possível dividir por zero ou acessar o oitavo item em uma lista de cinco itens.\n",
    "* Antigamente, a única maneira de contornar isso era verificar rigorosamente as entradas de todas as funções para garantir que elas fizessem sentido.\n",
    "* Tipicamente, funções tem valores de retorno especiais para indicar uma condição de erro;\n",
    "    * por exemplo, eles poderiam retornar um número negativo para indicar que um valor positivo não pôde ser calculado;\n",
    "    * Números diferentes podem significar erros diferentes;\n",
    "    * Qualquer código que chamasse essa função teria que verificar explicitamente uma condição de erro e agir em conformidade.\n",
    "    * Muito código não se deu ao trabalho de fazer isso, e programas simplesmente falharam;\n",
    "* Em programação orientada a objetos usamos o conceito de exceptions, um tipo especial de objeto que é manipulado quando faz sentido manipulá-lo;"
   ]
  },
  {
   "cell_type": "markdown",
   "metadata": {},
   "source": [
    "## Lançando exceções\n",
    "\n"
   ]
  },
  {
   "cell_type": "code",
   "execution_count": null,
   "metadata": {},
   "outputs": [],
   "source": []
  },
  {
   "cell_type": "code",
   "execution_count": null,
   "metadata": {},
   "outputs": [],
   "source": []
  },
  {
   "cell_type": "code",
   "execution_count": null,
   "metadata": {},
   "outputs": [],
   "source": []
  },
  {
   "cell_type": "code",
   "execution_count": null,
   "metadata": {},
   "outputs": [],
   "source": []
  }
 ],
 "metadata": {
  "kernelspec": {
   "display_name": "Python 3",
   "language": "python",
   "name": "python3"
  },
  "language_info": {
   "codemirror_mode": {
    "name": "ipython",
    "version": 3
   },
   "file_extension": ".py",
   "mimetype": "text/x-python",
   "name": "python",
   "nbconvert_exporter": "python",
   "pygments_lexer": "ipython3",
   "version": "3.6.9"
  }
 },
 "nbformat": 4,
 "nbformat_minor": 2
}
