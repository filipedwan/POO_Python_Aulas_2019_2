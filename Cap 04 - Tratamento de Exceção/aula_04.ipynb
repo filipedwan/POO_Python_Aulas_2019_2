{
 "cells": [
  {
   "cell_type": "markdown",
   "metadata": {},
   "source": [
    "<center>\n",
    "    <table>\n",
    "        <tr>\n",
    "            <th> <img src=\"figures/ufrr_logo.png\" width=75px> </th>\n",
    "            <th> <img src=\"figures/dcc.jpg\" width=100px> </th>\n",
    "        </tr>\n",
    "    <table>\n",
    "    <font size=4>\n",
    "    Universidade Federal de Roriama\n",
    "    <br>\n",
    "    Departamento de Ciência da Computação\n",
    "    <br>\n",
    "    Professor: Filipe Dwan Pereira\n",
    "    <br>\n",
    "    Código da disciplina: DCC305\n",
    "    <br>\n",
    "    Período: 2019.2\n",
    "    </font>\n",
    "</center>"
   ]
  },
  {
   "cell_type": "markdown",
   "metadata": {},
   "source": [
    "## Disclaimer\n",
    "\n",
    "Esta aula é uma adaptação do capítulo 4 do livro:\n",
    "\n",
    "* Phillips, Dusty. Python 3 Object-oriented Programming - Unleash the power of Python 3 objects. \"Packt Publishing\", 2015. Second Edition."
   ]
  },
  {
   "cell_type": "markdown",
   "metadata": {},
   "source": [
    "Nesta aula aprenderemos:\n",
    "\n",
    "* Como lançar exceções;\n",
    "* Como se recuperar de uma exceção lançada;\n",
    "* Como lidar com diferentes exceções de maneiras diferentes;\n",
    "* Criar novos tipos de exceções;\n",
    "* Usar a sintaxe de exceções para um fluxo de controle;"
   ]
  },
  {
   "cell_type": "markdown",
   "metadata": {},
   "source": [
    "## Introdução\n",
    "\n",
    "* Seria ideal se o código sempre retornasse um resultado válido, mas às vezes um resultado válido não pode ser calculado.\n",
    "    * Por exemplo, não é possível dividir por zero ou acessar o oitavo item em uma lista de cinco itens.\n",
    "* Antigamente, a única maneira de contornar isso era verificar rigorosamente as entradas de todas as funções para garantir que elas fizessem sentido.\n",
    "* Tipicamente, funções tem valores de retorno especiais para indicar uma condição de erro;\n",
    "    * por exemplo, eles poderiam retornar um número negativo para indicar que um valor positivo não pôde ser calculado;\n",
    "    * Números diferentes podem significar erros diferentes;\n",
    "    * Qualquer código que chamasse essa função teria que verificar explicitamente uma condição de erro e agir em conformidade.\n",
    "    * Muito código não se deu ao trabalho de fazer isso, e programas simplesmente falharam;\n",
    "* Em programação orientada a objetos usamos o conceito de exceptions, um tipo especial de objeto que é manipulado quando faz sentido manipulá-lo;\n",
    "* As exceções são objetos especiais tratados dentro do fluxo de controle do programa;"
   ]
  },
  {
   "cell_type": "markdown",
   "metadata": {},
   "source": [
    "## Um pouco sobre exceções no python\n",
    "\n",
    "* Uma exceção é um objeto;\n",
    "* Existem várias classes de exceções diferentes;\n",
    "* Todas as classes herdam da classe **BaseException**;"
   ]
  },
  {
   "cell_type": "markdown",
   "metadata": {},
   "source": [
    "Para ilustrar, veja um exemplo em que uma exceção é lançada, onde iremos tentar imprimir uma string sem usar os parentêses (estamos usando o python 3):"
   ]
  },
  {
   "cell_type": "code",
   "execution_count": 1,
   "metadata": {},
   "outputs": [
    {
     "ename": "SyntaxError",
     "evalue": "Missing parentheses in call to 'print'. Did you mean print(\"hello world\")? (<ipython-input-1-6d29d8fb337c>, line 1)",
     "output_type": "error",
     "traceback": [
      "\u001b[1;36m  File \u001b[1;32m\"<ipython-input-1-6d29d8fb337c>\"\u001b[1;36m, line \u001b[1;32m1\u001b[0m\n\u001b[1;33m    print \"hello world\"\u001b[0m\n\u001b[1;37m                      ^\u001b[0m\n\u001b[1;31mSyntaxError\u001b[0m\u001b[1;31m:\u001b[0m Missing parentheses in call to 'print'. Did you mean print(\"hello world\")?\n"
     ]
    }
   ],
   "source": [
    "print \"hello world\""
   ]
  },
  {
   "cell_type": "markdown",
   "metadata": {},
   "source": [
    "* Sempre que o python se depara com uma linha do seu programa que ele não consegue entender, então é lançado um SyntaxError, que é um tipo de exceção;\n",
    "* Veja outros exemplos de exceções:"
   ]
  },
  {
   "cell_type": "code",
   "execution_count": 2,
   "metadata": {},
   "outputs": [
    {
     "ename": "ZeroDivisionError",
     "evalue": "division by zero",
     "output_type": "error",
     "traceback": [
      "\u001b[1;31m---------------------------------------------------------------------------\u001b[0m",
      "\u001b[1;31mZeroDivisionError\u001b[0m                         Traceback (most recent call last)",
      "\u001b[1;32m<ipython-input-2-fc2abf138dd5>\u001b[0m in \u001b[0;36m<module>\u001b[1;34m\u001b[0m\n\u001b[1;32m----> 1\u001b[1;33m \u001b[0mx\u001b[0m \u001b[1;33m=\u001b[0m \u001b[1;36m5\u001b[0m\u001b[1;33m/\u001b[0m\u001b[1;36m0\u001b[0m\u001b[1;33m\u001b[0m\u001b[1;33m\u001b[0m\u001b[0m\n\u001b[0m",
      "\u001b[1;31mZeroDivisionError\u001b[0m: division by zero"
     ]
    }
   ],
   "source": [
    "x = 5/0"
   ]
  },
  {
   "cell_type": "code",
   "execution_count": 9,
   "metadata": {},
   "outputs": [
    {
     "ename": "IndexError",
     "evalue": "range object index out of range",
     "output_type": "error",
     "traceback": [
      "\u001b[1;31m---------------------------------------------------------------------------\u001b[0m",
      "\u001b[1;31mIndexError\u001b[0m                                Traceback (most recent call last)",
      "\u001b[1;32m<ipython-input-9-f38cd5df3ef1>\u001b[0m in \u001b[0;36m<module>\u001b[1;34m\u001b[0m\n\u001b[0;32m      1\u001b[0m \u001b[0mlista\u001b[0m \u001b[1;33m=\u001b[0m \u001b[0mrange\u001b[0m\u001b[1;33m(\u001b[0m\u001b[1;36m5\u001b[0m\u001b[1;33m)\u001b[0m\u001b[1;33m\u001b[0m\u001b[1;33m\u001b[0m\u001b[0m\n\u001b[1;32m----> 2\u001b[1;33m \u001b[0mprint\u001b[0m\u001b[1;33m(\u001b[0m\u001b[0mlista\u001b[0m\u001b[1;33m[\u001b[0m\u001b[1;36m10\u001b[0m\u001b[1;33m]\u001b[0m\u001b[1;33m)\u001b[0m\u001b[1;33m\u001b[0m\u001b[1;33m\u001b[0m\u001b[0m\n\u001b[0m",
      "\u001b[1;31mIndexError\u001b[0m: range object index out of range"
     ]
    }
   ],
   "source": [
    "lista = range(5)\n",
    "print(lista[10])"
   ]
  },
  {
   "cell_type": "code",
   "execution_count": 10,
   "metadata": {},
   "outputs": [
    {
     "ename": "TypeError",
     "evalue": "unsupported operand type(s) for +: 'range' and 'float'",
     "output_type": "error",
     "traceback": [
      "\u001b[1;31m---------------------------------------------------------------------------\u001b[0m",
      "\u001b[1;31mTypeError\u001b[0m                                 Traceback (most recent call last)",
      "\u001b[1;32m<ipython-input-10-42ce0bfd3c54>\u001b[0m in \u001b[0;36m<module>\u001b[1;34m\u001b[0m\n\u001b[1;32m----> 1\u001b[1;33m \u001b[0mlista\u001b[0m \u001b[1;33m+\u001b[0m \u001b[1;36m2.34\u001b[0m\u001b[1;33m\u001b[0m\u001b[1;33m\u001b[0m\u001b[0m\n\u001b[0m",
      "\u001b[1;31mTypeError\u001b[0m: unsupported operand type(s) for +: 'range' and 'float'"
     ]
    }
   ],
   "source": [
    "lista + 2.34"
   ]
  },
  {
   "cell_type": "code",
   "execution_count": 11,
   "metadata": {},
   "outputs": [
    {
     "ename": "AttributeError",
     "evalue": "'range' object has no attribute 'adiciona'",
     "output_type": "error",
     "traceback": [
      "\u001b[1;31m---------------------------------------------------------------------------\u001b[0m",
      "\u001b[1;31mAttributeError\u001b[0m                            Traceback (most recent call last)",
      "\u001b[1;32m<ipython-input-11-618bc9227df2>\u001b[0m in \u001b[0;36m<module>\u001b[1;34m\u001b[0m\n\u001b[1;32m----> 1\u001b[1;33m \u001b[0mlista\u001b[0m\u001b[1;33m.\u001b[0m\u001b[0madiciona\u001b[0m\u001b[1;33m\u001b[0m\u001b[1;33m\u001b[0m\u001b[0m\n\u001b[0m",
      "\u001b[1;31mAttributeError\u001b[0m: 'range' object has no attribute 'adiciona'"
     ]
    }
   ],
   "source": [
    "lista.adiciona"
   ]
  },
  {
   "cell_type": "code",
   "execution_count": 12,
   "metadata": {},
   "outputs": [
    {
     "ename": "KeyError",
     "evalue": "'2'",
     "output_type": "error",
     "traceback": [
      "\u001b[1;31m---------------------------------------------------------------------------\u001b[0m",
      "\u001b[1;31mKeyError\u001b[0m                                  Traceback (most recent call last)",
      "\u001b[1;32m<ipython-input-12-88d0c6fdc283>\u001b[0m in \u001b[0;36m<module>\u001b[1;34m\u001b[0m\n\u001b[0;32m      1\u001b[0m \u001b[0md\u001b[0m \u001b[1;33m=\u001b[0m \u001b[1;33m{\u001b[0m\u001b[1;34m'1'\u001b[0m\u001b[1;33m:\u001b[0m \u001b[1;34m'um'\u001b[0m\u001b[1;33m}\u001b[0m\u001b[1;33m\u001b[0m\u001b[1;33m\u001b[0m\u001b[0m\n\u001b[1;32m----> 2\u001b[1;33m \u001b[0md\u001b[0m\u001b[1;33m[\u001b[0m\u001b[1;34m'2'\u001b[0m\u001b[1;33m]\u001b[0m\u001b[1;33m\u001b[0m\u001b[1;33m\u001b[0m\u001b[0m\n\u001b[0m",
      "\u001b[1;31mKeyError\u001b[0m: '2'"
     ]
    }
   ],
   "source": [
    "d = {'1': 'um'}\n",
    "d['2']"
   ]
  },
  {
   "cell_type": "code",
   "execution_count": 13,
   "metadata": {},
   "outputs": [
    {
     "ename": "NameError",
     "evalue": "name 'variavel_nao_inicializada' is not defined",
     "output_type": "error",
     "traceback": [
      "\u001b[1;31m---------------------------------------------------------------------------\u001b[0m",
      "\u001b[1;31mNameError\u001b[0m                                 Traceback (most recent call last)",
      "\u001b[1;32m<ipython-input-13-553228d19fbc>\u001b[0m in \u001b[0;36m<module>\u001b[1;34m\u001b[0m\n\u001b[1;32m----> 1\u001b[1;33m \u001b[0mprint\u001b[0m\u001b[1;33m(\u001b[0m\u001b[0mvariavel_nao_inicializada\u001b[0m\u001b[1;33m)\u001b[0m\u001b[1;33m\u001b[0m\u001b[1;33m\u001b[0m\u001b[0m\n\u001b[0m",
      "\u001b[1;31mNameError\u001b[0m: name 'variavel_nao_inicializada' is not defined"
     ]
    }
   ],
   "source": [
    "print(variavel_nao_inicializada)"
   ]
  },
  {
   "cell_type": "markdown",
   "metadata": {},
   "source": [
    "* Note que as exceções acima são indicativos de que nosso programa está com erro, assim sendo, é importante que as evitemos programaticamente;"
   ]
  },
  {
   "cell_type": "markdown",
   "metadata": {},
   "source": [
    "## Lançando exceções\n",
    "\n"
   ]
  },
  {
   "cell_type": "markdown",
   "metadata": {},
   "source": [
    "* Podemos usar o mesmo mecanimos que o python utiliza para lançar exceções;\n",
    "* Veja abaixo um exemplo da classe EvenOnly que é uma lista que só armazena valores inteiros e pares:\n",
    "    * Lançaremos uma exceção de tipo, caso o usuário tente adicionar um item diferente de inteiro;\n",
    "    * Lançaremos uma exceção de valor inválido, caso o usário tente adicionar um inteiro não par;"
   ]
  },
  {
   "cell_type": "code",
   "execution_count": 1,
   "metadata": {},
   "outputs": [],
   "source": [
    "class EvenOnly(list):\n",
    "    def append(self, valor):\n",
    "        if not isinstance(valor, int):\n",
    "            raise TypeError(\"Somente inteiros podem ser adicionados\")\n",
    "        if valor%2==1:\n",
    "            raise ValueError(\"Somente números pares podem ser adicionados\")\n",
    "        super().append(valor)"
   ]
  },
  {
   "cell_type": "code",
   "execution_count": 4,
   "metadata": {},
   "outputs": [
    {
     "ename": "TypeError",
     "evalue": "Somente inteiros podem ser adicionados",
     "output_type": "error",
     "traceback": [
      "\u001b[0;31m---------------------------------------------------------------------------\u001b[0m",
      "\u001b[0;31mTypeError\u001b[0m                                 Traceback (most recent call last)",
      "\u001b[0;32m<ipython-input-4-9af90eda81e1>\u001b[0m in \u001b[0;36m<module>\u001b[0;34m\u001b[0m\n\u001b[1;32m      1\u001b[0m \u001b[0mlista\u001b[0m \u001b[0;34m=\u001b[0m \u001b[0mEvenOnly\u001b[0m\u001b[0;34m(\u001b[0m\u001b[0;34m)\u001b[0m\u001b[0;34m\u001b[0m\u001b[0;34m\u001b[0m\u001b[0m\n\u001b[0;32m----> 2\u001b[0;31m \u001b[0mlista\u001b[0m\u001b[0;34m.\u001b[0m\u001b[0mappend\u001b[0m\u001b[0;34m(\u001b[0m\u001b[0;34m\"teste\"\u001b[0m\u001b[0;34m)\u001b[0m\u001b[0;34m\u001b[0m\u001b[0;34m\u001b[0m\u001b[0m\n\u001b[0m",
      "\u001b[0;32m<ipython-input-2-23bbdf985b95>\u001b[0m in \u001b[0;36mappend\u001b[0;34m(self, valor)\u001b[0m\n\u001b[1;32m      2\u001b[0m     \u001b[0;32mdef\u001b[0m \u001b[0mappend\u001b[0m\u001b[0;34m(\u001b[0m\u001b[0mself\u001b[0m\u001b[0;34m,\u001b[0m \u001b[0mvalor\u001b[0m\u001b[0;34m)\u001b[0m\u001b[0;34m:\u001b[0m\u001b[0;34m\u001b[0m\u001b[0;34m\u001b[0m\u001b[0m\n\u001b[1;32m      3\u001b[0m         \u001b[0;32mif\u001b[0m \u001b[0;32mnot\u001b[0m \u001b[0misinstance\u001b[0m\u001b[0;34m(\u001b[0m\u001b[0mvalor\u001b[0m\u001b[0;34m,\u001b[0m \u001b[0mint\u001b[0m\u001b[0;34m)\u001b[0m\u001b[0;34m:\u001b[0m\u001b[0;34m\u001b[0m\u001b[0;34m\u001b[0m\u001b[0m\n\u001b[0;32m----> 4\u001b[0;31m             \u001b[0;32mraise\u001b[0m \u001b[0mTypeError\u001b[0m\u001b[0;34m(\u001b[0m\u001b[0;34m\"Somente inteiros podem ser adicionados\"\u001b[0m\u001b[0;34m)\u001b[0m\u001b[0;34m\u001b[0m\u001b[0;34m\u001b[0m\u001b[0m\n\u001b[0m\u001b[1;32m      5\u001b[0m         \u001b[0;32mif\u001b[0m \u001b[0mvalor\u001b[0m\u001b[0;34m%\u001b[0m\u001b[0;36m2\u001b[0m\u001b[0;34m==\u001b[0m\u001b[0;36m1\u001b[0m\u001b[0;34m:\u001b[0m\u001b[0;34m\u001b[0m\u001b[0;34m\u001b[0m\u001b[0m\n\u001b[1;32m      6\u001b[0m             \u001b[0;32mraise\u001b[0m \u001b[0mValueError\u001b[0m\u001b[0;34m(\u001b[0m\u001b[0;34m\"Somente números pares podem ser adicionados\"\u001b[0m\u001b[0;34m)\u001b[0m\u001b[0;34m\u001b[0m\u001b[0;34m\u001b[0m\u001b[0m\n",
      "\u001b[0;31mTypeError\u001b[0m: Somente inteiros podem ser adicionados"
     ]
    }
   ],
   "source": [
    "lista = EvenOnly()\n",
    "lista.append(\"teste\")"
   ]
  },
  {
   "cell_type": "markdown",
   "metadata": {},
   "source": [
    "* Perceba que no exemplo acima é mostrado a linha onde ocorreu o erro e o tipo de erro;\n",
    "* Agora Vamos tentar adicionar um valor não inteiro na nossa lista:"
   ]
  },
  {
   "cell_type": "code",
   "execution_count": 5,
   "metadata": {},
   "outputs": [
    {
     "ename": "ValueError",
     "evalue": "Somente números pares podem ser adicionados",
     "output_type": "error",
     "traceback": [
      "\u001b[0;31m---------------------------------------------------------------------------\u001b[0m",
      "\u001b[0;31mValueError\u001b[0m                                Traceback (most recent call last)",
      "\u001b[0;32m<ipython-input-5-1f651333501d>\u001b[0m in \u001b[0;36m<module>\u001b[0;34m\u001b[0m\n\u001b[0;32m----> 1\u001b[0;31m \u001b[0mlista\u001b[0m\u001b[0;34m.\u001b[0m\u001b[0mappend\u001b[0m\u001b[0;34m(\u001b[0m\u001b[0;36m1\u001b[0m\u001b[0;34m)\u001b[0m\u001b[0;34m\u001b[0m\u001b[0;34m\u001b[0m\u001b[0m\n\u001b[0m",
      "\u001b[0;32m<ipython-input-2-23bbdf985b95>\u001b[0m in \u001b[0;36mappend\u001b[0;34m(self, valor)\u001b[0m\n\u001b[1;32m      4\u001b[0m             \u001b[0;32mraise\u001b[0m \u001b[0mTypeError\u001b[0m\u001b[0;34m(\u001b[0m\u001b[0;34m\"Somente inteiros podem ser adicionados\"\u001b[0m\u001b[0;34m)\u001b[0m\u001b[0;34m\u001b[0m\u001b[0;34m\u001b[0m\u001b[0m\n\u001b[1;32m      5\u001b[0m         \u001b[0;32mif\u001b[0m \u001b[0mvalor\u001b[0m\u001b[0;34m%\u001b[0m\u001b[0;36m2\u001b[0m\u001b[0;34m==\u001b[0m\u001b[0;36m1\u001b[0m\u001b[0;34m:\u001b[0m\u001b[0;34m\u001b[0m\u001b[0;34m\u001b[0m\u001b[0m\n\u001b[0;32m----> 6\u001b[0;31m             \u001b[0;32mraise\u001b[0m \u001b[0mValueError\u001b[0m\u001b[0;34m(\u001b[0m\u001b[0;34m\"Somente números pares podem ser adicionados\"\u001b[0m\u001b[0;34m)\u001b[0m\u001b[0;34m\u001b[0m\u001b[0;34m\u001b[0m\u001b[0m\n\u001b[0m\u001b[1;32m      7\u001b[0m         \u001b[0msuper\u001b[0m\u001b[0;34m(\u001b[0m\u001b[0;34m)\u001b[0m\u001b[0;34m.\u001b[0m\u001b[0mappend\u001b[0m\u001b[0;34m(\u001b[0m\u001b[0mvalor\u001b[0m\u001b[0;34m)\u001b[0m\u001b[0;34m\u001b[0m\u001b[0;34m\u001b[0m\u001b[0m\n",
      "\u001b[0;31mValueError\u001b[0m: Somente números pares podem ser adicionados"
     ]
    }
   ],
   "source": [
    "lista.append(1)"
   ]
  },
  {
   "cell_type": "markdown",
   "metadata": {},
   "source": [
    "* Por fim, vamos testar um exemplo que funciona:"
   ]
  },
  {
   "cell_type": "code",
   "execution_count": 6,
   "metadata": {},
   "outputs": [
    {
     "data": {
      "text/plain": [
       "[2, 4, 6]"
      ]
     },
     "execution_count": 6,
     "metadata": {},
     "output_type": "execute_result"
    }
   ],
   "source": [
    "lista.append(2)\n",
    "lista.append(4)\n",
    "lista.append(6)\n",
    "lista"
   ]
  },
  {
   "cell_type": "markdown",
   "metadata": {},
   "source": [
    "## O efeito de uma exceção\n",
    "\n",
    "* Quando uma exceção é lançada, ao menos que o programa trate essa exceção, execução dele seré interrompida imadiatamente;\n",
    "* Veja o exemplo abaixo, onde não há tratamento:"
   ]
  },
  {
   "cell_type": "code",
   "execution_count": 7,
   "metadata": {},
   "outputs": [],
   "source": [
    "def no_return():\n",
    "    print(\"Eu estou prestes a lançar uma exceção\")\n",
    "    raise Exception(\"Essa exceção é sempre lançada\")\n",
    "    print(\"Essa linha nunca será executada.\")\n",
    "    return \"Nunca a função retornará nada!\""
   ]
  },
  {
   "cell_type": "markdown",
   "metadata": {},
   "source": [
    "* Se executarmos a função, as linhas 4 e 5 nunca serão executadas:"
   ]
  },
  {
   "cell_type": "code",
   "execution_count": 8,
   "metadata": {},
   "outputs": [
    {
     "name": "stdout",
     "output_type": "stream",
     "text": [
      "Eu estou prestes a lançar uma exceção\n"
     ]
    },
    {
     "ename": "Exception",
     "evalue": "Essa exceção é sempre lançada",
     "output_type": "error",
     "traceback": [
      "\u001b[0;31m---------------------------------------------------------------------------\u001b[0m",
      "\u001b[0;31mException\u001b[0m                                 Traceback (most recent call last)",
      "\u001b[0;32m<ipython-input-8-7cb40636301c>\u001b[0m in \u001b[0;36m<module>\u001b[0;34m\u001b[0m\n\u001b[0;32m----> 1\u001b[0;31m \u001b[0mno_return\u001b[0m\u001b[0;34m(\u001b[0m\u001b[0;34m)\u001b[0m\u001b[0;34m\u001b[0m\u001b[0;34m\u001b[0m\u001b[0m\n\u001b[0m",
      "\u001b[0;32m<ipython-input-7-661bce91b873>\u001b[0m in \u001b[0;36mno_return\u001b[0;34m()\u001b[0m\n\u001b[1;32m      1\u001b[0m \u001b[0;32mdef\u001b[0m \u001b[0mno_return\u001b[0m\u001b[0;34m(\u001b[0m\u001b[0;34m)\u001b[0m\u001b[0;34m:\u001b[0m\u001b[0;34m\u001b[0m\u001b[0;34m\u001b[0m\u001b[0m\n\u001b[1;32m      2\u001b[0m     \u001b[0mprint\u001b[0m\u001b[0;34m(\u001b[0m\u001b[0;34m\"Eu estou prestes a lançar uma exceção\"\u001b[0m\u001b[0;34m)\u001b[0m\u001b[0;34m\u001b[0m\u001b[0;34m\u001b[0m\u001b[0m\n\u001b[0;32m----> 3\u001b[0;31m     \u001b[0;32mraise\u001b[0m \u001b[0mException\u001b[0m\u001b[0;34m(\u001b[0m\u001b[0;34m\"Essa exceção é sempre lançada\"\u001b[0m\u001b[0;34m)\u001b[0m\u001b[0;34m\u001b[0m\u001b[0;34m\u001b[0m\u001b[0m\n\u001b[0m\u001b[1;32m      4\u001b[0m     \u001b[0mprint\u001b[0m\u001b[0;34m(\u001b[0m\u001b[0;34m\"Essa linha nunca será executada.\"\u001b[0m\u001b[0;34m)\u001b[0m\u001b[0;34m\u001b[0m\u001b[0;34m\u001b[0m\u001b[0m\n\u001b[1;32m      5\u001b[0m     \u001b[0;32mreturn\u001b[0m \u001b[0;34m\"Nunca a função retornará nada!\"\u001b[0m\u001b[0;34m\u001b[0m\u001b[0;34m\u001b[0m\u001b[0m\n",
      "\u001b[0;31mException\u001b[0m: Essa exceção é sempre lançada"
     ]
    }
   ],
   "source": [
    "no_return()"
   ]
  },
  {
   "cell_type": "markdown",
   "metadata": {},
   "source": [
    "* Note que se você tem uma função que chama outra função que lança exceção, a primeira não executará depois do ponto em que a segunda função é chamada.\n",
    "* Veja o exemplo:"
   ]
  },
  {
   "cell_type": "code",
   "execution_count": 9,
   "metadata": {},
   "outputs": [],
   "source": [
    "def call_exceptor():\n",
    "    print(\"chama uma função que lança exceção...\")\n",
    "    no_return()\n",
    "    print(\"uma exceção foi lançada...\")\n",
    "    print(\"...essas linhas não serão executadas\")"
   ]
  },
  {
   "cell_type": "markdown",
   "metadata": {},
   "source": [
    "* Veja abaixo o trabeck (saída da exceção);\n",
    "* Observe que como a exceção interrompe a execução do programa porque ela não é tratada nem no *call_exceptor* nem no *no_retorn*:"
   ]
  },
  {
   "cell_type": "code",
   "execution_count": 10,
   "metadata": {},
   "outputs": [
    {
     "name": "stdout",
     "output_type": "stream",
     "text": [
      "chama uma função que lança exceção...\n",
      "Eu estou prestes a lançar uma exceção\n"
     ]
    },
    {
     "ename": "Exception",
     "evalue": "Essa exceção é sempre lançada",
     "output_type": "error",
     "traceback": [
      "\u001b[0;31m---------------------------------------------------------------------------\u001b[0m",
      "\u001b[0;31mException\u001b[0m                                 Traceback (most recent call last)",
      "\u001b[0;32m<ipython-input-10-e86660b7de9c>\u001b[0m in \u001b[0;36m<module>\u001b[0;34m\u001b[0m\n\u001b[0;32m----> 1\u001b[0;31m \u001b[0mcall_exceptor\u001b[0m\u001b[0;34m(\u001b[0m\u001b[0;34m)\u001b[0m\u001b[0;34m\u001b[0m\u001b[0;34m\u001b[0m\u001b[0m\n\u001b[0m",
      "\u001b[0;32m<ipython-input-9-853da568a806>\u001b[0m in \u001b[0;36mcall_exceptor\u001b[0;34m()\u001b[0m\n\u001b[1;32m      1\u001b[0m \u001b[0;32mdef\u001b[0m \u001b[0mcall_exceptor\u001b[0m\u001b[0;34m(\u001b[0m\u001b[0;34m)\u001b[0m\u001b[0;34m:\u001b[0m\u001b[0;34m\u001b[0m\u001b[0;34m\u001b[0m\u001b[0m\n\u001b[1;32m      2\u001b[0m     \u001b[0mprint\u001b[0m\u001b[0;34m(\u001b[0m\u001b[0;34m\"chama uma função que lança exceção...\"\u001b[0m\u001b[0;34m)\u001b[0m\u001b[0;34m\u001b[0m\u001b[0;34m\u001b[0m\u001b[0m\n\u001b[0;32m----> 3\u001b[0;31m     \u001b[0mno_return\u001b[0m\u001b[0;34m(\u001b[0m\u001b[0;34m)\u001b[0m\u001b[0;34m\u001b[0m\u001b[0;34m\u001b[0m\u001b[0m\n\u001b[0m\u001b[1;32m      4\u001b[0m     \u001b[0mprint\u001b[0m\u001b[0;34m(\u001b[0m\u001b[0;34m\"uma exceção foi lançada...\"\u001b[0m\u001b[0;34m)\u001b[0m\u001b[0;34m\u001b[0m\u001b[0;34m\u001b[0m\u001b[0m\n\u001b[1;32m      5\u001b[0m     \u001b[0mprint\u001b[0m\u001b[0;34m(\u001b[0m\u001b[0;34m\"...essas linhas não serão executadas\"\u001b[0m\u001b[0;34m)\u001b[0m\u001b[0;34m\u001b[0m\u001b[0;34m\u001b[0m\u001b[0m\n",
      "\u001b[0;32m<ipython-input-7-661bce91b873>\u001b[0m in \u001b[0;36mno_return\u001b[0;34m()\u001b[0m\n\u001b[1;32m      1\u001b[0m \u001b[0;32mdef\u001b[0m \u001b[0mno_return\u001b[0m\u001b[0;34m(\u001b[0m\u001b[0;34m)\u001b[0m\u001b[0;34m:\u001b[0m\u001b[0;34m\u001b[0m\u001b[0;34m\u001b[0m\u001b[0m\n\u001b[1;32m      2\u001b[0m     \u001b[0mprint\u001b[0m\u001b[0;34m(\u001b[0m\u001b[0;34m\"Eu estou prestes a lançar uma exceção\"\u001b[0m\u001b[0;34m)\u001b[0m\u001b[0;34m\u001b[0m\u001b[0;34m\u001b[0m\u001b[0m\n\u001b[0;32m----> 3\u001b[0;31m     \u001b[0;32mraise\u001b[0m \u001b[0mException\u001b[0m\u001b[0;34m(\u001b[0m\u001b[0;34m\"Essa exceção é sempre lançada\"\u001b[0m\u001b[0;34m)\u001b[0m\u001b[0;34m\u001b[0m\u001b[0;34m\u001b[0m\u001b[0m\n\u001b[0m\u001b[1;32m      4\u001b[0m     \u001b[0mprint\u001b[0m\u001b[0;34m(\u001b[0m\u001b[0;34m\"Essa linha nunca será executada.\"\u001b[0m\u001b[0;34m)\u001b[0m\u001b[0;34m\u001b[0m\u001b[0;34m\u001b[0m\u001b[0m\n\u001b[1;32m      5\u001b[0m     \u001b[0;32mreturn\u001b[0m \u001b[0;34m\"Nunca a função retornará nada!\"\u001b[0m\u001b[0;34m\u001b[0m\u001b[0;34m\u001b[0m\u001b[0m\n",
      "\u001b[0;31mException\u001b[0m: Essa exceção é sempre lançada"
     ]
    }
   ],
   "source": [
    "call_exceptor()"
   ]
  },
  {
   "cell_type": "markdown",
   "metadata": {},
   "source": [
    "## Tratando Exceções\n",
    "\n",
    "* Agora entenderemos como nos recuperar de uma exceção;\n",
    "* Para tanto, usaremos a cláusula try...except, isto é, tente executar um código perigoso e se ocorrer uma exceção capture-a e trate-a;\n",
    "* Vejamos um exemplo disso com o método no_retorn supracitado:"
   ]
  },
  {
   "cell_type": "code",
   "execution_count": 11,
   "metadata": {},
   "outputs": [
    {
     "name": "stdout",
     "output_type": "stream",
     "text": [
      "Eu estou prestes a lançar uma exceção\n",
      "Exceção capturada\n",
      "Execução normal após exceção capturada\n"
     ]
    }
   ],
   "source": [
    "try:\n",
    "    no_return()\n",
    "except:\n",
    "    print(\"Exceção capturada\")\n",
    "print(\"Execução normal após exceção capturada\")"
   ]
  },
  {
   "cell_type": "markdown",
   "metadata": {},
   "source": [
    "* O problema com o código acima é que ele vai capturar qualquer tipo de exceção;\n",
    "* Por exemplo, imagine que estamos escrevendo um códido que pode lançar erro por divisão por zero e erro de tipagem;\n",
    "    * Imagine ainda que queremos tratar o primeiro erro, mas o segundo nós queremos que seja apresentado, caso ocorra;\n",
    "* Para capturar exceções específicas, usamos a seguinte sintaxe:"
   ]
  },
  {
   "cell_type": "code",
   "execution_count": 13,
   "metadata": {},
   "outputs": [],
   "source": [
    "def funny_division(divider):\n",
    "    try:\n",
    "        return 100 / divider\n",
    "    except ZeroDivisionError:\n",
    "        return \"Zero is not a good idea!\""
   ]
  },
  {
   "cell_type": "code",
   "execution_count": 14,
   "metadata": {},
   "outputs": [
    {
     "name": "stdout",
     "output_type": "stream",
     "text": [
      "Zero is not a good idea!\n"
     ]
    }
   ],
   "source": [
    "print(funny_division(0))"
   ]
  },
  {
   "cell_type": "code",
   "execution_count": 15,
   "metadata": {},
   "outputs": [
    {
     "name": "stdout",
     "output_type": "stream",
     "text": [
      "2.0\n"
     ]
    }
   ],
   "source": [
    "print(funny_division(50.0))"
   ]
  },
  {
   "cell_type": "code",
   "execution_count": 17,
   "metadata": {},
   "outputs": [
    {
     "ename": "TypeError",
     "evalue": "unsupported operand type(s) for /: 'int' and 'str'",
     "output_type": "error",
     "traceback": [
      "\u001b[0;31m---------------------------------------------------------------------------\u001b[0m",
      "\u001b[0;31mTypeError\u001b[0m                                 Traceback (most recent call last)",
      "\u001b[0;32m<ipython-input-17-87a168536dac>\u001b[0m in \u001b[0;36m<module>\u001b[0;34m\u001b[0m\n\u001b[0;32m----> 1\u001b[0;31m \u001b[0mprint\u001b[0m\u001b[0;34m(\u001b[0m\u001b[0mfunny_division\u001b[0m\u001b[0;34m(\u001b[0m\u001b[0;34m\"hello\"\u001b[0m\u001b[0;34m)\u001b[0m\u001b[0;34m)\u001b[0m\u001b[0;34m\u001b[0m\u001b[0;34m\u001b[0m\u001b[0m\n\u001b[0m",
      "\u001b[0;32m<ipython-input-13-d740deb7abb2>\u001b[0m in \u001b[0;36mfunny_division\u001b[0;34m(divider)\u001b[0m\n\u001b[1;32m      1\u001b[0m \u001b[0;32mdef\u001b[0m \u001b[0mfunny_division\u001b[0m\u001b[0;34m(\u001b[0m\u001b[0mdivider\u001b[0m\u001b[0;34m)\u001b[0m\u001b[0;34m:\u001b[0m\u001b[0;34m\u001b[0m\u001b[0;34m\u001b[0m\u001b[0m\n\u001b[1;32m      2\u001b[0m     \u001b[0;32mtry\u001b[0m\u001b[0;34m:\u001b[0m\u001b[0;34m\u001b[0m\u001b[0;34m\u001b[0m\u001b[0m\n\u001b[0;32m----> 3\u001b[0;31m         \u001b[0;32mreturn\u001b[0m \u001b[0;36m100\u001b[0m \u001b[0;34m/\u001b[0m \u001b[0mdivider\u001b[0m\u001b[0;34m\u001b[0m\u001b[0;34m\u001b[0m\u001b[0m\n\u001b[0m\u001b[1;32m      4\u001b[0m     \u001b[0;32mexcept\u001b[0m \u001b[0mZeroDivisionError\u001b[0m\u001b[0;34m:\u001b[0m\u001b[0;34m\u001b[0m\u001b[0;34m\u001b[0m\u001b[0m\n\u001b[1;32m      5\u001b[0m         \u001b[0;32mreturn\u001b[0m \u001b[0;34m\"Zero is not a good idea!\"\u001b[0m\u001b[0;34m\u001b[0m\u001b[0;34m\u001b[0m\u001b[0m\n",
      "\u001b[0;31mTypeError\u001b[0m: unsupported operand type(s) for /: 'int' and 'str'"
     ]
    }
   ],
   "source": [
    "print(funny_division(\"hello\"))"
   ]
  },
  {
   "cell_type": "code",
   "execution_count": 18,
   "metadata": {
    "scrolled": false
   },
   "outputs": [
    {
     "ename": "TypeError",
     "evalue": "funny_division() missing 1 required positional argument: 'divider'",
     "output_type": "error",
     "traceback": [
      "\u001b[0;31m---------------------------------------------------------------------------\u001b[0m",
      "\u001b[0;31mTypeError\u001b[0m                                 Traceback (most recent call last)",
      "\u001b[0;32m<ipython-input-18-66ebf83656ea>\u001b[0m in \u001b[0;36m<module>\u001b[0;34m\u001b[0m\n\u001b[0;32m----> 1\u001b[0;31m \u001b[0mprint\u001b[0m\u001b[0;34m(\u001b[0m\u001b[0mfunny_division\u001b[0m\u001b[0;34m(\u001b[0m\u001b[0;34m)\u001b[0m\u001b[0;34m)\u001b[0m\u001b[0;34m\u001b[0m\u001b[0;34m\u001b[0m\u001b[0m\n\u001b[0m",
      "\u001b[0;31mTypeError\u001b[0m: funny_division() missing 1 required positional argument: 'divider'"
     ]
    }
   ],
   "source": [
    "print(funny_division())"
   ]
  },
  {
   "cell_type": "markdown",
   "metadata": {},
   "source": [
    "* Alternativamente, podemos capturar duas ou mais exceções, conforme segue:"
   ]
  },
  {
   "cell_type": "code",
   "execution_count": 1,
   "metadata": {},
   "outputs": [],
   "source": [
    "def funny_division2(anumber):\n",
    "    try:\n",
    "        if anumber == 13:\n",
    "            raise ValueError(\"13 é um número bloqueado\")\n",
    "        return 100 / anumber\n",
    "    except ZeroDivisionError:\n",
    "        return \"Entre com um número diferente de zero\"\n",
    "    except TypeError:\n",
    "        return \"Entre com um valor numérico\"\n",
    "    except ValueError:\n",
    "        print(\"13 não!\")\n",
    "        raise#lança novamente a exceção ValueError"
   ]
  },
  {
   "cell_type": "markdown",
   "metadata": {},
   "source": [
    "* A palavra raise na linha 12 lança novamente a exceção após capturá-la;\n",
    "* Veja um exemplo:"
   ]
  },
  {
   "cell_type": "code",
   "execution_count": 2,
   "metadata": {},
   "outputs": [
    {
     "name": "stdout",
     "output_type": "stream",
     "text": [
      "13 não!\n"
     ]
    },
    {
     "ename": "ValueError",
     "evalue": "13 é um número bloqueado",
     "output_type": "error",
     "traceback": [
      "\u001b[0;31m---------------------------------------------------------------------------\u001b[0m",
      "\u001b[0;31mValueError\u001b[0m                                Traceback (most recent call last)",
      "\u001b[0;32m<ipython-input-2-ac43266bf1a1>\u001b[0m in \u001b[0;36m<module>\u001b[0;34m\u001b[0m\n\u001b[0;32m----> 1\u001b[0;31m \u001b[0mfunny_division2\u001b[0m\u001b[0;34m(\u001b[0m\u001b[0;36m13\u001b[0m\u001b[0;34m)\u001b[0m\u001b[0;34m\u001b[0m\u001b[0;34m\u001b[0m\u001b[0m\n\u001b[0m",
      "\u001b[0;32m<ipython-input-1-a3cbe219affb>\u001b[0m in \u001b[0;36mfunny_division2\u001b[0;34m(anumber)\u001b[0m\n\u001b[1;32m      2\u001b[0m     \u001b[0;32mtry\u001b[0m\u001b[0;34m:\u001b[0m\u001b[0;34m\u001b[0m\u001b[0;34m\u001b[0m\u001b[0m\n\u001b[1;32m      3\u001b[0m         \u001b[0;32mif\u001b[0m \u001b[0manumber\u001b[0m \u001b[0;34m==\u001b[0m \u001b[0;36m13\u001b[0m\u001b[0;34m:\u001b[0m\u001b[0;34m\u001b[0m\u001b[0;34m\u001b[0m\u001b[0m\n\u001b[0;32m----> 4\u001b[0;31m             \u001b[0;32mraise\u001b[0m \u001b[0mValueError\u001b[0m\u001b[0;34m(\u001b[0m\u001b[0;34m\"13 é um número bloqueado\"\u001b[0m\u001b[0;34m)\u001b[0m\u001b[0;34m\u001b[0m\u001b[0;34m\u001b[0m\u001b[0m\n\u001b[0m\u001b[1;32m      5\u001b[0m         \u001b[0;32mreturn\u001b[0m \u001b[0;36m100\u001b[0m \u001b[0;34m/\u001b[0m \u001b[0manumber\u001b[0m\u001b[0;34m\u001b[0m\u001b[0;34m\u001b[0m\u001b[0m\n\u001b[1;32m      6\u001b[0m     \u001b[0;32mexcept\u001b[0m \u001b[0mZeroDivisionError\u001b[0m\u001b[0;34m:\u001b[0m\u001b[0;34m\u001b[0m\u001b[0;34m\u001b[0m\u001b[0m\n",
      "\u001b[0;31mValueError\u001b[0m: 13 é um número bloqueado"
     ]
    }
   ],
   "source": [
    "funny_division2(13)"
   ]
  },
  {
   "cell_type": "markdown",
   "metadata": {},
   "source": [
    "* Observe que a ordem de tratamento das exceções é importante;\n",
    "* Por exemplo, se tratássemos primeiramente a exceção Exception, nunca as outras seriam executadas, uma vez que todas as outras exceções herdam de Exception e, logo, elas são uma Exception;"
   ]
  },
  {
   "cell_type": "markdown",
   "metadata": {},
   "source": [
    "Outra opção é capturar qualquer uma dessas exceções e imprimir o objeto da exceção:"
   ]
  },
  {
   "cell_type": "code",
   "execution_count": 3,
   "metadata": {},
   "outputs": [],
   "source": [
    "def funny_division2(anumber):\n",
    "    try:\n",
    "        if anumber == 13:\n",
    "            raise ValueError(\"13 é um número bloqueado\")\n",
    "        return 100 / anumber\n",
    "    except (ZeroDivisionError, TypeError, ValueError) as e:\n",
    "        print(\"Erro:\", e)"
   ]
  },
  {
   "cell_type": "code",
   "execution_count": 4,
   "metadata": {},
   "outputs": [
    {
     "name": "stdout",
     "output_type": "stream",
     "text": [
      "Erro: 13 é um número bloqueado\n"
     ]
    }
   ],
   "source": [
    "funny_division2(13)"
   ]
  },
  {
   "cell_type": "code",
   "execution_count": 5,
   "metadata": {},
   "outputs": [
    {
     "name": "stdout",
     "output_type": "stream",
     "text": [
      "Erro: unsupported operand type(s) for /: 'int' and 'str'\n"
     ]
    }
   ],
   "source": [
    "funny_division2(\"string\")"
   ]
  },
  {
   "cell_type": "code",
   "execution_count": 6,
   "metadata": {},
   "outputs": [
    {
     "name": "stdout",
     "output_type": "stream",
     "text": [
      "Erro: division by zero\n"
     ]
    }
   ],
   "source": [
    "funny_division2(0)"
   ]
  },
  {
   "cell_type": "markdown",
   "metadata": {},
   "source": [
    "Outra opção é imprimir os argumentos que foram passados dentro da exceção através do atributo *args*:"
   ]
  },
  {
   "cell_type": "code",
   "execution_count": 7,
   "metadata": {},
   "outputs": [
    {
     "name": "stdout",
     "output_type": "stream",
     "text": [
      "Os argumentos da exceção foram:  ('Esse é um argumento', 'Outro argumento', 1)\n"
     ]
    }
   ],
   "source": [
    "try:\n",
    "    raise ValueError(\"Esse é um argumento\", 'Outro argumento', 1)\n",
    "except ValueError as e:\n",
    "    print(\"Os argumentos da exceção foram: \", e.args)"
   ]
  },
  {
   "cell_type": "markdown",
   "metadata": {},
   "source": [
    "* Existem ainda opções para executar código independente se a exceção ocorreu ou não.\n",
    "* Para tanto, existem as palavras-chave *finally* e *else*:\n",
    "    * A primeira é sempre executada;\n",
    "    * a última é executada caso não ocorra nenhuma exceção;\n",
    "* Veja o exemplo abaixo, onde lançamos uma exceção aleatoriamente:"
   ]
  },
  {
   "cell_type": "code",
   "execution_count": 41,
   "metadata": {},
   "outputs": [],
   "source": [
    "import random\n",
    "def exemplo_excecoes_aleatorias():    \n",
    "    some_exceptions = [ValueError, TypeError, IndexError, None]\n",
    "    try:\n",
    "        choice = random.choice(some_exceptions)\n",
    "        print(\"raising {}\".format(choice))\n",
    "        if choice:\n",
    "            raise choice(\"An error\")\n",
    "    except ValueError:\n",
    "        print(\"ValueError Capturado\")\n",
    "    except TypeError:\n",
    "        print(\"TypeError Capturado\")\n",
    "    except Exception as e:\n",
    "        print(\"Um outro tipo de erro capturado: %s\" % ( e.__class__.__name__))\n",
    "    else:\n",
    "        print(\"Esse código é chamado se não houver nenhuma exceção\")\n",
    "    finally:\n",
    "        print(\"Esse código é sempre chamado (ainda que haja erro)\")"
   ]
  },
  {
   "cell_type": "code",
   "execution_count": 42,
   "metadata": {},
   "outputs": [
    {
     "name": "stdout",
     "output_type": "stream",
     "text": [
      "raising None\n",
      "Esse código é chamado se não houver nenhuma exceção\n",
      "Esse código é sempre chamado (ainda que haja erro)\n"
     ]
    }
   ],
   "source": [
    "exemplo_excecoes_aleatorias()"
   ]
  },
  {
   "cell_type": "code",
   "execution_count": 43,
   "metadata": {},
   "outputs": [
    {
     "name": "stdout",
     "output_type": "stream",
     "text": [
      "raising <class 'TypeError'>\n",
      "TypeError Capturado\n",
      "Esse código é sempre chamado (ainda que haja erro)\n"
     ]
    }
   ],
   "source": [
    "exemplo_excecoes_aleatorias()"
   ]
  },
  {
   "cell_type": "code",
   "execution_count": 46,
   "metadata": {},
   "outputs": [
    {
     "name": "stdout",
     "output_type": "stream",
     "text": [
      "raising <class 'IndexError'>\n",
      "Um outro tipo de erro capturado: IndexError\n",
      "Esse código é sempre chamado (ainda que haja erro)\n"
     ]
    }
   ],
   "source": [
    "exemplo_excecoes_aleatorias()"
   ]
  },
  {
   "cell_type": "markdown",
   "metadata": {},
   "source": [
    "* Alguns exemplos de uso da palavra-chave *finally*:\n",
    "    * Fechar uma conexão com o banco de dados;\n",
    "    * Fechar um arquivo;\n",
    "    * Fechar uma conexão qualquer e etc. \n",
    "* Alerta:\n",
    "    * Cuidado quando nenhuma exceção é capturada, pois as cláusulas *else* e *finally* são ambas executadas;\n",
    "    * Qualquer uma das cláusulas *except*, *else* e *finally* podem ser omitidas após um bloco try \n",
    "        * Note que o *else* é uma cláusula opcional, que quando presente, deve vir depois de todas as cláusulas except.\n",
    "    * Caso você queira usar tadas as palavras-chave, a ordem deve ser: try, else, finally;\n",
    "    * A ordem das exceções são da mais específica para a mais genérica;"
   ]
  },
  {
   "cell_type": "markdown",
   "metadata": {},
   "source": [
    "* Apenas para consolidar o uso do *else*, veja o exemplo abaixo extraído da [documentação do python](https://docs.python.org/3/tutorial/errors.html):"
   ]
  },
  {
   "cell_type": "code",
   "execution_count": 9,
   "metadata": {},
   "outputs": [
    {
     "name": "stdout",
     "output_type": "stream",
     "text": [
      "Writing myfile.txt\n"
     ]
    }
   ],
   "source": [
    "%%file myfile.txt\n",
    "Poo com python é bem legal.\n",
    "Boa vista é uma cidade muito bonita.\n",
    "O Brasil é um lindo país."
   ]
  },
  {
   "cell_type": "code",
   "execution_count": 13,
   "metadata": {},
   "outputs": [
    {
     "name": "stdout",
     "output_type": "stream",
     "text": [
      "o aquivo tem 3 linhas\n"
     ]
    }
   ],
   "source": [
    "try:\n",
    "    f = open('myfile.txt', 'r')\n",
    "except OSError:\n",
    "    print('Arquivo não pode ser aberto', arg)\n",
    "else:\n",
    "    print('o aquivo tem', len(f.readlines()), 'linhas')\n",
    "    f.close()"
   ]
  },
  {
   "cell_type": "markdown",
   "metadata": {},
   "source": [
    "* Perceba que o conteúdo dentro do else só será executado se não for lançada uma exceção *OSError*;\n",
    "    * Caso não haja um essa exceção, aí sim podemos imprimir a quantidade de linhas do arquivo e fechá-lo (linhas 7 e 8)."
   ]
  },
  {
   "cell_type": "markdown",
   "metadata": {},
   "source": [
    "### Nota\n",
    "\n",
    "Alternativa, você pode usar a palavra-chave **with**, que permite usar objetos como arquivos de maneira segura e sem precisar fechar o arquivo. Veja:"
   ]
  },
  {
   "cell_type": "code",
   "execution_count": null,
   "metadata": {},
   "outputs": [],
   "source": [
    "with open(\"myfile.txt\") as f:\n",
    "    for line in f:\n",
    "        print(line, end=\"\")"
   ]
  },
  {
   "cell_type": "markdown",
   "metadata": {},
   "source": [
    "## Hierarquia das exceções\n",
    "\n"
   ]
  },
  {
   "cell_type": "markdown",
   "metadata": {},
   "source": [
    "* A maioria das exceções herdam da classe *Exception* (mas não todas);\n",
    "* Todas as exceções do python herdam da classe *BaseException* direta ou indiretamente;\n",
    "    * A classe *Exception* herda da classe *BaseException*;\n",
    "* Existem duas exceções chaves, *SystemExit* e *KeyboardInterrupt*, que herdam diretamente de *BaseException*, ao invés de *Exception*.\n",
    "    * A *SystemExit* é lançada quando o programa acaba naturalmente, tipacamente porque foi chamada a função sys.exit (e.g. quando escolhemos a opção sair do menu);\n",
    "    * A *KeyboardInterrupt* é normalmente lançada em programas de linhas de comando do python. Ela é lançada quando o usuário interrompe a execução do programa, por exemplo, quando pressiona Ctrl+C."
   ]
  },
  {
   "cell_type": "markdown",
   "metadata": {},
   "source": [
    "* Veja abaixo o diagrama de classes que ilustra a hierarquia das exceções no python:\n",
    "\n",
    "<img src=\"figures/base_exception.png\"/>"
   ]
  },
  {
   "cell_type": "markdown",
   "metadata": {},
   "source": [
    "* Note que quando usamos a cláusula **except** sem argumentos (sem especificar a classe), nós capturamos todas as exceções, incluindo essas duas exceções especiais;\n",
    "    * Essas exceções especiais normalmente precisam de tratamento especial (seja para salvar um arquivo, fechar uma conexão ou algo do tipo no bloco finally);\n",
    "* Assim, não vale a pena usarmos a cláusula **except** sem argumentos;\n",
    "    * Se quisermos capturar qualquer exceção diferente de *SystemExit* e *KeyboardInterrupt*, explicitamos Exception na cláusura except (except Exception);"
   ]
  },
  {
   "cell_type": "markdown",
   "metadata": {},
   "source": [
    "## Criando nossas próprias exceções\n",
    "\n",
    "* Muitas vezes ocorre de você querer lançar uma exceção, mas nenhuma das opções built-in são viáveis.\n",
    "* Para criar nossas próprias exceções basta herda de um exceção, veja:"
   ]
  },
  {
   "cell_type": "code",
   "execution_count": 2,
   "metadata": {},
   "outputs": [],
   "source": [
    "class InvalidWithdrawal(Exception):\n",
    "    pass"
   ]
  },
  {
   "cell_type": "markdown",
   "metadata": {},
   "source": [
    "* Para que o erro fique mais fácil de tratar é importante que o nome da classe seja algo significativo.\n",
    "* Abaixo vamos lançar a exceção criada:"
   ]
  },
  {
   "cell_type": "code",
   "execution_count": 3,
   "metadata": {},
   "outputs": [
    {
     "ename": "InvalidWithdrawal",
     "evalue": "Você não tem R$ 200 na sua conta",
     "output_type": "error",
     "traceback": [
      "\u001b[1;31m---------------------------------------------------------------------------\u001b[0m",
      "\u001b[1;31mInvalidWithdrawal\u001b[0m                         Traceback (most recent call last)",
      "\u001b[1;32m<ipython-input-3-35092f2524d1>\u001b[0m in \u001b[0;36m<module>\u001b[1;34m\u001b[0m\n\u001b[1;32m----> 1\u001b[1;33m \u001b[1;32mraise\u001b[0m \u001b[0mInvalidWithdrawal\u001b[0m\u001b[1;33m(\u001b[0m\u001b[1;34m'Você não tem R$ 200 na sua conta'\u001b[0m\u001b[1;33m)\u001b[0m\u001b[1;33m\u001b[0m\u001b[1;33m\u001b[0m\u001b[0m\n\u001b[0m",
      "\u001b[1;31mInvalidWithdrawal\u001b[0m: Você não tem R$ 200 na sua conta"
     ]
    }
   ],
   "source": [
    "raise InvalidWithdrawal('Você não tem R$ 200 na sua conta')"
   ]
  },
  {
   "cell_type": "markdown",
   "metadata": {},
   "source": [
    "* No caso acima, foi passada uma string para o construtor da exceção.\n",
    "* Lembre-se que podemos passar um número arbitrário de argumentos para a exceção, os quais serão guardados em uma tupla da classe Exception chamada **args**.\n",
    "    * Isso faz com que ficque fácil criar exceções em python, sem precisar sobreescrever o \\_\\_init\\_\\_ da classe *Exception*;"
   ]
  },
  {
   "cell_type": "markdown",
   "metadata": {},
   "source": [
    "* Entretanto, caso você deseje customizar o \\_\\_init\\_\\_, você pode:"
   ]
  },
  {
   "cell_type": "code",
   "execution_count": 14,
   "metadata": {},
   "outputs": [],
   "source": [
    "class InvalidWithdrawal(Exception):\n",
    "    def __init__(self, balance, amount):\n",
    "        super().__init__(\"Nao foi possivel realizar o saque: \"\n",
    "            \"a conta não tem R${}\".format(amount))\n",
    "        self.amount = amount\n",
    "        self.balance = balance\n",
    "    def valor_faltante(self):\n",
    "        return self.amount - self.balance"
   ]
  },
  {
   "cell_type": "code",
   "execution_count": 15,
   "metadata": {},
   "outputs": [
    {
     "ename": "InvalidWithdrawal",
     "evalue": "Nao foi possivel realizar o saque: a conta não tem R$200",
     "output_type": "error",
     "traceback": [
      "\u001b[0;31m---------------------------------------------------------------------------\u001b[0m",
      "\u001b[0;31mInvalidWithdrawal\u001b[0m                         Traceback (most recent call last)",
      "\u001b[0;32m<ipython-input-15-74b59c4772bc>\u001b[0m in \u001b[0;36m<module>\u001b[0;34m\u001b[0m\n\u001b[0;32m----> 1\u001b[0;31m \u001b[0;32mraise\u001b[0m \u001b[0mInvalidWithdrawal\u001b[0m\u001b[0;34m(\u001b[0m\u001b[0;36m25\u001b[0m\u001b[0;34m,\u001b[0m \u001b[0;36m200\u001b[0m\u001b[0;34m)\u001b[0m\u001b[0;34m\u001b[0m\u001b[0;34m\u001b[0m\u001b[0m\n\u001b[0m",
      "\u001b[0;31mInvalidWithdrawal\u001b[0m: Nao foi possivel realizar o saque: a conta não tem R$200"
     ]
    }
   ],
   "source": [
    "raise InvalidWithdrawal(25, 200)"
   ]
  },
  {
   "cell_type": "markdown",
   "metadata": {},
   "source": [
    "* Podemos dar uma mensagem usando o método overage:"
   ]
  },
  {
   "cell_type": "code",
   "execution_count": 16,
   "metadata": {},
   "outputs": [
    {
     "name": "stdout",
     "output_type": "stream",
     "text": [
      "O valor que você está tentando sacar é maior que o seu saldo. Esta faltando o seguinte valor: $25\n"
     ]
    }
   ],
   "source": [
    "try:\n",
    "    raise InvalidWithdrawal(25, 50)\n",
    "except InvalidWithdrawal as e:\n",
    "    print(\"O valor que você está tentando sacar \"\n",
    "    \"é maior que o seu saldo. Esta faltando o seguinte valor: \"\n",
    "    \"${}\".format(e.valor_faltante()))"
   ]
  },
  {
   "cell_type": "markdown",
   "metadata": {},
   "source": [
    "* Podemos usar a exceção *InvalidWithdrawal* no nosso exemplo de ATM da aula passada:"
   ]
  },
  {
   "cell_type": "code",
   "execution_count": 17,
   "metadata": {},
   "outputs": [],
   "source": [
    "class ATM:\n",
    "    def realizar_operacao(self, operacao):\n",
    "        try:\n",
    "            operacao.realizar()\n",
    "        except InvalidWithdrawal as e:\n",
    "            print(\"Erro: \", e)\n",
    "        except Exception as e:\n",
    "            print(\"Erro: \", e)\n",
    "        \n",
    "class Conta:\n",
    "    def __init__(self, agencia, numero):\n",
    "        self.agencia = agencia\n",
    "        self.numero = numero\n",
    "        self.saldo = 0.0\n",
    "    \n",
    "    def sacar(self, valor):\n",
    "        if valor>self.saldo or valor<0.0:\n",
    "            raise InvalidWithdrawal(self.saldo, valor)\n",
    "        self.saldo -= valor\n",
    "        \n",
    "    def depositar(self, valor):\n",
    "        if valor<0.0:\n",
    "            raise ValueError(\"Depósito:: Valor Negativo\")\n",
    "        self.saldo += valor        \n",
    "\n",
    "class Transferencia:\n",
    "    def __init__(self, conta_origem, conta_destino, valor):\n",
    "        self.conta_origem = conta_origem\n",
    "        self.conta_destino = conta_destino\n",
    "        self.valor = valor\n",
    "    \n",
    "    def realizar(self):\n",
    "        self.conta_origem.sacar(self.valor)\n",
    "        self.conta_destino.depositar(self.valor)\n",
    "\n",
    "class Deposito:\n",
    "    def __init__(self, conta_destino, valor):\n",
    "        self.conta_destino = conta_destino\n",
    "        self.valor = valor\n",
    "    \n",
    "    def realizar(self):\n",
    "        self.conta_destino.depositar(self.valor)\n",
    "        \n",
    "class Saque:\n",
    "    def __init__(self, conta, valor):\n",
    "        self.conta = conta\n",
    "        self.valor = valor\n",
    "    \n",
    "    def realizar(self):\n",
    "        self.conta.sacar(self.valor)"
   ]
  },
  {
   "cell_type": "code",
   "execution_count": 18,
   "metadata": {},
   "outputs": [],
   "source": [
    "atm = ATM()"
   ]
  },
  {
   "cell_type": "code",
   "execution_count": 19,
   "metadata": {},
   "outputs": [],
   "source": [
    "c1 = Conta(\"2121-3\", \"31314-0\")\n",
    "c1.depositar(100)\n",
    "c2 = Conta(\"2121-3\", \"31314-0\")\n",
    "c2.depositar(200)"
   ]
  },
  {
   "cell_type": "code",
   "execution_count": 20,
   "metadata": {},
   "outputs": [
    {
     "name": "stdout",
     "output_type": "stream",
     "text": [
      "Erro:  Nao foi possivel realizar o saque: a conta não tem R$150\n"
     ]
    }
   ],
   "source": [
    "operacao_saque = Saque(c1, 150)\n",
    "atm.realizar_operacao(operacao_saque)"
   ]
  },
  {
   "cell_type": "markdown",
   "metadata": {},
   "source": [
    "## Caso de Uso\n",
    "\n",
    "* O caso de uso abaixo ajudará a consolidarmos conceitos aprendidos nesta aula e em aulas anteriores;\n",
    "* Vamos criar um sistema de autenticação e um sistema de autorização;\n",
    "    * Lembrando que autenticação é o processo de assegurar que um usuário é realmente a pessoa que ele diz que é;\n",
    "    * Autorização é a verificação se um dado usuário (autenticado) pode executar determinada ação;\n",
    "* O sistema como um todo será organizado em um único módulo;\n",
    "* Como nosso intuito é consolidar o conteúdo aprendido, nossos sistemas provavelmente terão alguns (muitos) furos de segurança;"
   ]
  },
  {
   "cell_type": "markdown",
   "metadata": {},
   "source": [
    "* Fazendo uma rápida análise orientada a objetos, o sistema de autorização funcionará de forma simples:\n",
    "    * Criaremos uma lista de permissões que guarda usuários específicos que podem realizar ações;\n",
    "    * Criaremos também algumas características administrativas para permitir que novos usuários sejam adicionados no sistema;"
   ]
  },
  {
   "cell_type": "markdown",
   "metadata": {},
   "source": [
    "* Pensendo agora no design orientado a objetos, precisaremos de uma classe *User* que terá como atributos um *username* e um *password*;\n",
    "* Criaremos ainda uma classe para ser a central de autencitação (*Authenticator*), que gerenciar os logins e logouts;\n",
    "* Teremos ainda a classe *Authorizor* que será responsável por gerenciar as permissões dos usários para executar determinadas ações do sistema;\n",
    "* Iremos providenciar apenas uma instância dessas classes no módulo *auth*, assim outros módulos podem usar esse mecanismos central para todas as suas autenticações e autorizações;\n",
    "    * Caso eles queiram instâncias privadas dessas classes (atividades de autorização não-centrais), eles poderão fazer isso também;\n",
    "* Em relação às exceções, primeiramente vamos definir uma exceção chamada AuthException para ser lançada em casos de problemas de autenticação;"
   ]
  },
  {
   "cell_type": "markdown",
   "metadata": {},
   "source": [
    "* Agora vamos pensar na programação orientada a objetos.\n",
    "* Vamos começar pela classe User, que será inicializado com *username* e *password*;\n",
    "* O *password* será armazenado de modo criptografado;\n",
    "* Precisaremos de um método *check_password* para verificar se a senha que o usuário passou está correta.\n",
    "* Vejamos como ficará a classe User:"
   ]
  },
  {
   "cell_type": "code",
   "execution_count": 21,
   "metadata": {},
   "outputs": [],
   "source": [
    "import hashlib\n",
    "\n",
    "class User:\n",
    "    def __init__(self, username, password):\n",
    "        '''Cria um novo usuário. A senha é\n",
    "        criptografada depois que é salva.'''\n",
    "        self.username = username\n",
    "        self.password = self._encrypt_pw(password)\n",
    "        self.is_logged_in = False\n",
    "    def _encrypt_pw(self, password):\n",
    "        '''Criptografa o password e depois retorna o sha.'''\n",
    "        hash_string = (self.username + password)\n",
    "        hash_string = hash_string.encode(\"utf8\")\n",
    "        return hashlib.sha256(hash_string).hexdigest()\n",
    "    def check_password(self, password):\n",
    "        '''Returna True se a senha for válida para\n",
    "        este usuário, do contrário retorna False'''\n",
    "        encrypted = self._encrypt_pw(password)\n",
    "        return encrypted == self.password"
   ]
  },
  {
   "cell_type": "markdown",
   "metadata": {},
   "source": [
    "* Como de prache, vamos testar nossa clase User:"
   ]
  },
  {
   "cell_type": "code",
   "execution_count": 22,
   "metadata": {},
   "outputs": [],
   "source": [
    "u = User('filipe', '123456')"
   ]
  },
  {
   "cell_type": "code",
   "execution_count": 23,
   "metadata": {},
   "outputs": [
    {
     "data": {
      "text/plain": [
       "True"
      ]
     },
     "execution_count": 23,
     "metadata": {},
     "output_type": "execute_result"
    }
   ],
   "source": [
    "u.check_password('123456')"
   ]
  },
  {
   "cell_type": "code",
   "execution_count": 24,
   "metadata": {},
   "outputs": [
    {
     "data": {
      "text/plain": [
       "False"
      ]
     },
     "execution_count": 24,
     "metadata": {},
     "output_type": "execute_result"
    }
   ],
   "source": [
    "u.check_password('12345')"
   ]
  },
  {
   "cell_type": "markdown",
   "metadata": {},
   "source": [
    "* Em relação à classe *Authenticator*, toda a vez que um usuário for criado ele será adicionado em um dicionário dessa classe;\n",
    "* Caso o usuário já exista no dicionário, a exceção *UsernameAlreadyExists* será lançada;\n",
    "* Além disso, por razões de segurança, a exceção *PasswordTooShort* será lançada se o usuário criar um senha muito curta;\n",
    "* Ambas exceções serão filhas da já mencionada *AuthException*;\n",
    "* Assim sendo, antes de criar a classe *Authenticator*, vamos criar essas exceções:"
   ]
  },
  {
   "cell_type": "code",
   "execution_count": 25,
   "metadata": {},
   "outputs": [],
   "source": [
    "class AuthException(Exception):\n",
    "    def __init__(self, username, user=None):\n",
    "        super().__init__(username, user)\n",
    "        self.username = username\n",
    "        self.user = user\n",
    "\n",
    "class UsernameAlreadyExists(AuthException):\n",
    "    pass\n",
    "\n",
    "class PasswordTooShort(AuthException):\n",
    "    pass"
   ]
  },
  {
   "cell_type": "markdown",
   "metadata": {},
   "source": [
    "* Agora podemos criar a classe *Authenticator*;\n",
    "* Essa classe deve ter um dicionário que mapeia *usernames* para instâncias da classe *User*;\n",
    "* O método que adiciona usuários deve checar as condições mencionadas antes de inseri-los no dicionário.\n",
    "* A classe vai ficar assim:"
   ]
  },
  {
   "cell_type": "code",
   "execution_count": 39,
   "metadata": {},
   "outputs": [],
   "source": [
    "class Authenticator:\n",
    "    def __init__(self):\n",
    "        '''Construtor de um autenticador que gerencia\n",
    "        logins e logouts de usuários.'''\n",
    "        self.users = {}        \n",
    "    def add_user(self, username, password):\n",
    "        if username in self.users:\n",
    "            raise UsernameAlreadyExists(username)\n",
    "        if len(password) < 6:\n",
    "            raise PasswordTooShort(username)\n",
    "        self.users[username] = User(username, password)"
   ]
  },
  {
   "cell_type": "markdown",
   "metadata": {},
   "source": [
    "* Precisamos ainda de um método para realizar o login;\n",
    "* Veja abaixo as possíveis exceções que podem ser lançadas no login:"
   ]
  },
  {
   "cell_type": "code",
   "execution_count": 40,
   "metadata": {},
   "outputs": [],
   "source": [
    "class InvalidUsername(AuthException):\n",
    "    pass\n",
    "class InvalidPassword(AuthException):\n",
    "    pass"
   ]
  },
  {
   "cell_type": "markdown",
   "metadata": {},
   "source": [
    "* Agora podemos criar nosso login na classe *Authenticator*:"
   ]
  },
  {
   "cell_type": "code",
   "execution_count": null,
   "metadata": {},
   "outputs": [],
   "source": [
    "def login(self, username, password):\n",
    "    try:\n",
    "        user = self.users[username]\n",
    "    except KeyError:\n",
    "        raise InvalidUsername(username)\n",
    "    if not user.check_password(password):\n",
    "        raise InvalidPassword(username, user)\n",
    "    user.is_logged_in = True\n",
    "    return True"
   ]
  },
  {
   "cell_type": "markdown",
   "metadata": {},
   "source": [
    "* Observe que manipulamos KeyError, caso o username não seja uma das chaves do dicionário;\n",
    "* Podemos ainda criar um método para verificar se um usuário está *logged in*:"
   ]
  },
  {
   "cell_type": "code",
   "execution_count": 41,
   "metadata": {},
   "outputs": [],
   "source": [
    "def is_logged_in(self, username):\n",
    "    if username in self.users:\n",
    "        return self.users[username].is_logged_in\n",
    "    return False"
   ]
  },
  {
   "cell_type": "markdown",
   "metadata": {},
   "source": [
    "* Finalmente, deixaremos um objeto authenticator a nível de módulo, assim o cliente pode acessá-lo como *auth.authenticator*:"
   ]
  },
  {
   "cell_type": "code",
   "execution_count": null,
   "metadata": {},
   "outputs": [],
   "source": [
    "authenticator = Authenticator()"
   ]
  },
  {
   "cell_type": "markdown",
   "metadata": {},
   "source": [
    "* Agora podemos criar nossa classe *Authorizor*;\n",
    "* Essa classe não deve dar autorização se o usuário não estiver *logged in*;\n",
    "* Precisaremos configurar um dicionário com as devidas permissões de usuários:\n",
    "* Além disso, iremos criar exceções para casos específicos;\n",
    "* Veja como vão ficar nossas classes:"
   ]
  },
  {
   "cell_type": "code",
   "execution_count": 26,
   "metadata": {},
   "outputs": [],
   "source": [
    "class NotLoggedInError(AuthException):\n",
    "    pass\n",
    "\n",
    "class NotPermittedError(AuthException):\n",
    "    pass\n",
    "\n",
    "class PermissionError(Exception):\n",
    "    pass\n",
    "\n",
    "class Authorizor:\n",
    "    def __init__(self, authenticator):\n",
    "        self.authenticator = authenticator\n",
    "        self.permissions = {}\n",
    "    \n",
    "    def add_permission(self, perm_name):\n",
    "        '''Crie uma nova permissão à qual os usuários \n",
    "        possam ser adicionados'''\n",
    "        try:\n",
    "            perm_set = self.permissions[perm_name]\n",
    "        except KeyError:\n",
    "            self.permissions[perm_name] = set()\n",
    "        else:\n",
    "            raise PermissionError(\"Existe Permissão\")\n",
    "    \n",
    "    def permit_user(self, perm_name, username):\n",
    "        '''Concede permissão ao usuário'''\n",
    "        try:\n",
    "            perm_set = self.permissions[perm_name]\n",
    "        except KeyError:\n",
    "            raise PermissionError(\"Sem permissão\")\n",
    "        else:\n",
    "            if username not in self.authenticator.users:\n",
    "                raise InvalidUsername(username)\n",
    "            perm_set.add(username)"
   ]
  },
  {
   "cell_type": "markdown",
   "metadata": {},
   "source": [
    "* Finalmente, iremos deixar uma instância da classe a nível de módulo, conforme fizemos no authenticator:"
   ]
  },
  {
   "cell_type": "code",
   "execution_count": null,
   "metadata": {},
   "outputs": [],
   "source": [
    "authorizor = Authorizor(authenticator)"
   ]
  },
  {
   "cell_type": "markdown",
   "metadata": {},
   "source": [
    "* Abaixo vamos colocar tudo junto no nosso módulo auth:"
   ]
  },
  {
   "cell_type": "code",
   "execution_count": 33,
   "metadata": {
    "scrolled": true
   },
   "outputs": [
    {
     "name": "stdout",
     "output_type": "stream",
     "text": [
      "Overwriting auth.py\n"
     ]
    }
   ],
   "source": [
    "%%file auth.py\n",
    "\n",
    "import hashlib\n",
    "\n",
    "class User:\n",
    "    def __init__(self, username, password):\n",
    "        '''Cria um novo usuário. A senha é\n",
    "        criptografada depois que é salva.'''\n",
    "        self.username = username\n",
    "        self.password = self._encrypt_pw(password)\n",
    "        self.is_logged_in = False\n",
    "    def _encrypt_pw(self, password):\n",
    "        '''Criptografa o password e depois retorna o sha.'''\n",
    "        hash_string = (self.username + password)\n",
    "        hash_string = hash_string.encode(\"utf8\")\n",
    "        return hashlib.sha256(hash_string).hexdigest()\n",
    "    def check_password(self, password):\n",
    "        '''Returna True se a senha for válida para\n",
    "        este usuário, do contrário retorna False'''\n",
    "        encrypted = self._encrypt_pw(password)\n",
    "        return encrypted == self.password\n",
    "    \n",
    "class AuthException(Exception):\n",
    "    def __init__(self, username, user=None):\n",
    "        super().__init__(username, user)\n",
    "        self.username = username\n",
    "        self.user = user\n",
    "\n",
    "class UsernameAlreadyExists(AuthException):\n",
    "    pass\n",
    "\n",
    "class PasswordTooShort(AuthException):\n",
    "    pass\n",
    "\n",
    "class InvalidUsername(AuthException):\n",
    "    pass\n",
    "\n",
    "class InvalidPassword(AuthException):\n",
    "    pass\n",
    "\n",
    "class Authenticator:\n",
    "    def __init__(self):\n",
    "        '''Construtor de um autenticador que gerencia\n",
    "        logins e logouts de usuários.'''\n",
    "        self.users = {}        \n",
    "\n",
    "    def add_user(self, username, password):\n",
    "        if username in self.users:\n",
    "            raise UsernameAlreadyExists(username)\n",
    "        if len(password) < 6:\n",
    "            raise PasswordTooShort(username)\n",
    "        self.users[username] = User(username, password)\n",
    "        \n",
    "    def login(self, username, password):\n",
    "        try:\n",
    "            user = self.users[username]\n",
    "        except KeyError:\n",
    "            raise InvalidUsername(username)\n",
    "        if not user.check_password(password):\n",
    "            raise InvalidPassword(username, user)\n",
    "        user.is_logged_in = True\n",
    "        return True\n",
    "    \n",
    "    def is_logged_in(self, username):\n",
    "        if username in self.users:\n",
    "            return self.users[username].is_logged_in\n",
    "        return False\n",
    "    \n",
    "authenticator = Authenticator()\n",
    "\n",
    "class NotLoggedInError(AuthException):\n",
    "    pass\n",
    "\n",
    "class NotPermittedError(AuthException):\n",
    "    pass\n",
    "\n",
    "class PermissionError(Exception):\n",
    "    pass\n",
    "\n",
    "class Authorizor:\n",
    "    def __init__(self, authenticator):\n",
    "        self.authenticator = authenticator\n",
    "        self.permissions = {}\n",
    "    \n",
    "    def add_permission(self, perm_name):\n",
    "        '''Create a new permission that users\n",
    "        can be added to'''\n",
    "        try:\n",
    "            perm_set = self.permissions[perm_name]\n",
    "        except KeyError:\n",
    "            self.permissions[perm_name] = set()\n",
    "        else:\n",
    "            raise PermissionError(\"Permission Exists\")\n",
    "    \n",
    "    def permit_user(self, perm_name, username):\n",
    "        '''Grant the given permission to the user'''\n",
    "        try:\n",
    "            perm_set = self.permissions[perm_name]\n",
    "        except KeyError:\n",
    "            raise PermissionError(\"Permission does not exist\")\n",
    "        else:\n",
    "            if username not in self.authenticator.users:\n",
    "                raise InvalidUsername(username)\n",
    "            perm_set.add(username)\n",
    "            \n",
    "    def check_permission(self, perm_name, username):\n",
    "        if not self.authenticator.is_logged_in(username):\n",
    "            raise NotLoggedInError(username)\n",
    "        try:\n",
    "            perm_set = self.permissions[perm_name]\n",
    "        except KeyError:\n",
    "            raise PermissionError(\"Permission does not exist\")\n",
    "        else:\n",
    "            if username not in perm_set:\n",
    "                raise NotPermittedError(username)\n",
    "            else:\n",
    "                return True\n",
    "            \n",
    "authorizor = Authorizor(authenticator)"
   ]
  },
  {
   "cell_type": "code",
   "execution_count": 28,
   "metadata": {},
   "outputs": [
    {
     "name": "stdout",
     "output_type": "stream",
     "text": [
      "Writing __init__.py\n"
     ]
    }
   ],
   "source": [
    "%%file __init__.py\n"
   ]
  },
  {
   "cell_type": "markdown",
   "metadata": {},
   "source": [
    "* Agora vamos testar nosso módulo:"
   ]
  },
  {
   "cell_type": "code",
   "execution_count": 1,
   "metadata": {},
   "outputs": [],
   "source": [
    "import auth"
   ]
  },
  {
   "cell_type": "markdown",
   "metadata": {},
   "source": [
    "* Primeiro, vamos criar um usário:"
   ]
  },
  {
   "cell_type": "code",
   "execution_count": 5,
   "metadata": {},
   "outputs": [],
   "source": [
    "auth.authenticator.add_user(\"filipe\", \"filipe_pass\")"
   ]
  },
  {
   "cell_type": "markdown",
   "metadata": {},
   "source": [
    "* Em seguida criaremos a ação de leitura:"
   ]
  },
  {
   "cell_type": "code",
   "execution_count": 6,
   "metadata": {},
   "outputs": [],
   "source": [
    "auth.authorizor.add_permission(\"read\")"
   ]
  },
  {
   "cell_type": "markdown",
   "metadata": {},
   "source": [
    "* Agora vamos checar se o usuário filipe tem permissão de leitura:"
   ]
  },
  {
   "cell_type": "code",
   "execution_count": 7,
   "metadata": {},
   "outputs": [
    {
     "ename": "NotLoggedInError",
     "evalue": "('filipe', None)",
     "output_type": "error",
     "traceback": [
      "\u001b[0;31m---------------------------------------------------------------------------\u001b[0m",
      "\u001b[0;31mNotLoggedInError\u001b[0m                          Traceback (most recent call last)",
      "\u001b[0;32m<ipython-input-7-509081ad210c>\u001b[0m in \u001b[0;36m<module>\u001b[0;34m\u001b[0m\n\u001b[0;32m----> 1\u001b[0;31m \u001b[0mauth\u001b[0m\u001b[0;34m.\u001b[0m\u001b[0mauthorizor\u001b[0m\u001b[0;34m.\u001b[0m\u001b[0mcheck_permission\u001b[0m\u001b[0;34m(\u001b[0m\u001b[0;34m\"read\"\u001b[0m\u001b[0;34m,\u001b[0m \u001b[0;34m\"filipe\"\u001b[0m\u001b[0;34m)\u001b[0m\u001b[0;34m\u001b[0m\u001b[0;34m\u001b[0m\u001b[0m\n\u001b[0m",
      "\u001b[0;32m~/Dropbox/UFRR Docência/POO - Python/poo_python_aulas_2019_2/Cap 04 - Tratamento de Exceção/auth.py\u001b[0m in \u001b[0;36mcheck_permission\u001b[0;34m(self, perm_name, username)\u001b[0m\n\u001b[1;32m    105\u001b[0m     \u001b[0;32mdef\u001b[0m \u001b[0mcheck_permission\u001b[0m\u001b[0;34m(\u001b[0m\u001b[0mself\u001b[0m\u001b[0;34m,\u001b[0m \u001b[0mperm_name\u001b[0m\u001b[0;34m,\u001b[0m \u001b[0musername\u001b[0m\u001b[0;34m)\u001b[0m\u001b[0;34m:\u001b[0m\u001b[0;34m\u001b[0m\u001b[0;34m\u001b[0m\u001b[0m\n\u001b[1;32m    106\u001b[0m         \u001b[0;32mif\u001b[0m \u001b[0;32mnot\u001b[0m \u001b[0mself\u001b[0m\u001b[0;34m.\u001b[0m\u001b[0mauthenticator\u001b[0m\u001b[0;34m.\u001b[0m\u001b[0mis_logged_in\u001b[0m\u001b[0;34m(\u001b[0m\u001b[0musername\u001b[0m\u001b[0;34m)\u001b[0m\u001b[0;34m:\u001b[0m\u001b[0;34m\u001b[0m\u001b[0;34m\u001b[0m\u001b[0m\n\u001b[0;32m--> 107\u001b[0;31m             \u001b[0;32mraise\u001b[0m \u001b[0mNotLoggedInError\u001b[0m\u001b[0;34m(\u001b[0m\u001b[0musername\u001b[0m\u001b[0;34m)\u001b[0m\u001b[0;34m\u001b[0m\u001b[0;34m\u001b[0m\u001b[0m\n\u001b[0m\u001b[1;32m    108\u001b[0m         \u001b[0;32mtry\u001b[0m\u001b[0;34m:\u001b[0m\u001b[0;34m\u001b[0m\u001b[0;34m\u001b[0m\u001b[0m\n\u001b[1;32m    109\u001b[0m             \u001b[0mperm_set\u001b[0m \u001b[0;34m=\u001b[0m \u001b[0mself\u001b[0m\u001b[0;34m.\u001b[0m\u001b[0mpermissions\u001b[0m\u001b[0;34m[\u001b[0m\u001b[0mperm_name\u001b[0m\u001b[0;34m]\u001b[0m\u001b[0;34m\u001b[0m\u001b[0;34m\u001b[0m\u001b[0m\n",
      "\u001b[0;31mNotLoggedInError\u001b[0m: ('filipe', None)"
     ]
    }
   ],
   "source": [
    "auth.authorizor.check_permission(\"read\", \"filipe\")"
   ]
  },
  {
   "cell_type": "markdown",
   "metadata": {},
   "source": [
    "* Como o usuário não está logado, o sistema lança um erro."
   ]
  },
  {
   "cell_type": "code",
   "execution_count": 8,
   "metadata": {},
   "outputs": [
    {
     "data": {
      "text/plain": [
       "False"
      ]
     },
     "execution_count": 8,
     "metadata": {},
     "output_type": "execute_result"
    }
   ],
   "source": [
    "auth.authenticator.is_logged_in(\"filipe\")"
   ]
  },
  {
   "cell_type": "markdown",
   "metadata": {},
   "source": [
    "* Vamos fazer o login:"
   ]
  },
  {
   "cell_type": "code",
   "execution_count": 9,
   "metadata": {},
   "outputs": [
    {
     "data": {
      "text/plain": [
       "True"
      ]
     },
     "execution_count": 9,
     "metadata": {},
     "output_type": "execute_result"
    }
   ],
   "source": [
    "auth.authenticator.login(\"filipe\", \"filipe_pass\")"
   ]
  },
  {
   "cell_type": "markdown",
   "metadata": {},
   "source": [
    "* Agora vamos verificar novamente se o usuário \"filipe\" tem permissão de criar leitura:"
   ]
  },
  {
   "cell_type": "code",
   "execution_count": 10,
   "metadata": {},
   "outputs": [
    {
     "ename": "NotPermittedError",
     "evalue": "('filipe', None)",
     "output_type": "error",
     "traceback": [
      "\u001b[0;31m---------------------------------------------------------------------------\u001b[0m",
      "\u001b[0;31mNotPermittedError\u001b[0m                         Traceback (most recent call last)",
      "\u001b[0;32m<ipython-input-10-509081ad210c>\u001b[0m in \u001b[0;36m<module>\u001b[0;34m\u001b[0m\n\u001b[0;32m----> 1\u001b[0;31m \u001b[0mauth\u001b[0m\u001b[0;34m.\u001b[0m\u001b[0mauthorizor\u001b[0m\u001b[0;34m.\u001b[0m\u001b[0mcheck_permission\u001b[0m\u001b[0;34m(\u001b[0m\u001b[0;34m\"read\"\u001b[0m\u001b[0;34m,\u001b[0m \u001b[0;34m\"filipe\"\u001b[0m\u001b[0;34m)\u001b[0m\u001b[0;34m\u001b[0m\u001b[0;34m\u001b[0m\u001b[0m\n\u001b[0m",
      "\u001b[0;32m~/Dropbox/UFRR Docência/POO - Python/poo_python_aulas_2019_2/Cap 04 - Tratamento de Exceção/auth.py\u001b[0m in \u001b[0;36mcheck_permission\u001b[0;34m(self, perm_name, username)\u001b[0m\n\u001b[1;32m    112\u001b[0m         \u001b[0;32melse\u001b[0m\u001b[0;34m:\u001b[0m\u001b[0;34m\u001b[0m\u001b[0;34m\u001b[0m\u001b[0m\n\u001b[1;32m    113\u001b[0m             \u001b[0;32mif\u001b[0m \u001b[0musername\u001b[0m \u001b[0;32mnot\u001b[0m \u001b[0;32min\u001b[0m \u001b[0mperm_set\u001b[0m\u001b[0;34m:\u001b[0m\u001b[0;34m\u001b[0m\u001b[0;34m\u001b[0m\u001b[0m\n\u001b[0;32m--> 114\u001b[0;31m                 \u001b[0;32mraise\u001b[0m \u001b[0mNotPermittedError\u001b[0m\u001b[0;34m(\u001b[0m\u001b[0musername\u001b[0m\u001b[0;34m)\u001b[0m\u001b[0;34m\u001b[0m\u001b[0;34m\u001b[0m\u001b[0m\n\u001b[0m\u001b[1;32m    115\u001b[0m             \u001b[0;32melse\u001b[0m\u001b[0;34m:\u001b[0m\u001b[0;34m\u001b[0m\u001b[0;34m\u001b[0m\u001b[0m\n\u001b[1;32m    116\u001b[0m                 \u001b[0;32mreturn\u001b[0m \u001b[0;32mTrue\u001b[0m\u001b[0;34m\u001b[0m\u001b[0;34m\u001b[0m\u001b[0m\n",
      "\u001b[0;31mNotPermittedError\u001b[0m: ('filipe', None)"
     ]
    }
   ],
   "source": [
    "auth.authorizor.check_permission(\"read\", \"filipe\")"
   ]
  },
  {
   "cell_type": "markdown",
   "metadata": {},
   "source": [
    "* Observamos que o usuário não tem essa permissão, conforme já esperávemos.\n",
    "* Vamos agora testar se o esse usuário tem permissão de escrita:"
   ]
  },
  {
   "cell_type": "code",
   "execution_count": 11,
   "metadata": {},
   "outputs": [
    {
     "ename": "PermissionError",
     "evalue": "Permission does not exist",
     "output_type": "error",
     "traceback": [
      "\u001b[0;31m---------------------------------------------------------------------------\u001b[0m",
      "\u001b[0;31mKeyError\u001b[0m                                  Traceback (most recent call last)",
      "\u001b[0;32m~/Dropbox/UFRR Docência/POO - Python/poo_python_aulas_2019_2/Cap 04 - Tratamento de Exceção/auth.py\u001b[0m in \u001b[0;36mcheck_permission\u001b[0;34m(self, perm_name, username)\u001b[0m\n\u001b[1;32m    108\u001b[0m         \u001b[0;32mtry\u001b[0m\u001b[0;34m:\u001b[0m\u001b[0;34m\u001b[0m\u001b[0;34m\u001b[0m\u001b[0m\n\u001b[0;32m--> 109\u001b[0;31m             \u001b[0mperm_set\u001b[0m \u001b[0;34m=\u001b[0m \u001b[0mself\u001b[0m\u001b[0;34m.\u001b[0m\u001b[0mpermissions\u001b[0m\u001b[0;34m[\u001b[0m\u001b[0mperm_name\u001b[0m\u001b[0;34m]\u001b[0m\u001b[0;34m\u001b[0m\u001b[0;34m\u001b[0m\u001b[0m\n\u001b[0m\u001b[1;32m    110\u001b[0m         \u001b[0;32mexcept\u001b[0m \u001b[0mKeyError\u001b[0m\u001b[0;34m:\u001b[0m\u001b[0;34m\u001b[0m\u001b[0;34m\u001b[0m\u001b[0m\n",
      "\u001b[0;31mKeyError\u001b[0m: 'write'",
      "\nDuring handling of the above exception, another exception occurred:\n",
      "\u001b[0;31mPermissionError\u001b[0m                           Traceback (most recent call last)",
      "\u001b[0;32m<ipython-input-11-a70394e06f2d>\u001b[0m in \u001b[0;36m<module>\u001b[0;34m\u001b[0m\n\u001b[0;32m----> 1\u001b[0;31m \u001b[0mauth\u001b[0m\u001b[0;34m.\u001b[0m\u001b[0mauthorizor\u001b[0m\u001b[0;34m.\u001b[0m\u001b[0mcheck_permission\u001b[0m\u001b[0;34m(\u001b[0m\u001b[0;34m\"write\"\u001b[0m\u001b[0;34m,\u001b[0m \u001b[0;34m\"filipe\"\u001b[0m\u001b[0;34m)\u001b[0m\u001b[0;34m\u001b[0m\u001b[0;34m\u001b[0m\u001b[0m\n\u001b[0m",
      "\u001b[0;32m~/Dropbox/UFRR Docência/POO - Python/poo_python_aulas_2019_2/Cap 04 - Tratamento de Exceção/auth.py\u001b[0m in \u001b[0;36mcheck_permission\u001b[0;34m(self, perm_name, username)\u001b[0m\n\u001b[1;32m    109\u001b[0m             \u001b[0mperm_set\u001b[0m \u001b[0;34m=\u001b[0m \u001b[0mself\u001b[0m\u001b[0;34m.\u001b[0m\u001b[0mpermissions\u001b[0m\u001b[0;34m[\u001b[0m\u001b[0mperm_name\u001b[0m\u001b[0;34m]\u001b[0m\u001b[0;34m\u001b[0m\u001b[0;34m\u001b[0m\u001b[0m\n\u001b[1;32m    110\u001b[0m         \u001b[0;32mexcept\u001b[0m \u001b[0mKeyError\u001b[0m\u001b[0;34m:\u001b[0m\u001b[0;34m\u001b[0m\u001b[0;34m\u001b[0m\u001b[0m\n\u001b[0;32m--> 111\u001b[0;31m             \u001b[0;32mraise\u001b[0m \u001b[0mPermissionError\u001b[0m\u001b[0;34m(\u001b[0m\u001b[0;34m\"Permission does not exist\"\u001b[0m\u001b[0;34m)\u001b[0m\u001b[0;34m\u001b[0m\u001b[0;34m\u001b[0m\u001b[0m\n\u001b[0m\u001b[1;32m    112\u001b[0m         \u001b[0;32melse\u001b[0m\u001b[0;34m:\u001b[0m\u001b[0;34m\u001b[0m\u001b[0;34m\u001b[0m\u001b[0m\n\u001b[1;32m    113\u001b[0m             \u001b[0;32mif\u001b[0m \u001b[0musername\u001b[0m \u001b[0;32mnot\u001b[0m \u001b[0;32min\u001b[0m \u001b[0mperm_set\u001b[0m\u001b[0;34m:\u001b[0m\u001b[0;34m\u001b[0m\u001b[0;34m\u001b[0m\u001b[0m\n",
      "\u001b[0;31mPermissionError\u001b[0m: Permission does not exist"
     ]
    }
   ],
   "source": [
    "auth.authorizor.check_permission(\"write\", \"filipe\")"
   ]
  },
  {
   "cell_type": "markdown",
   "metadata": {},
   "source": [
    "* Note que essa permissão ainda não existe.\n",
    "* Vamos criá-la e concedê-la ao usuário \"filipe\":"
   ]
  },
  {
   "cell_type": "code",
   "execution_count": 13,
   "metadata": {},
   "outputs": [],
   "source": [
    "auth.authorizor.add_permission(\"write\")"
   ]
  },
  {
   "cell_type": "code",
   "execution_count": 14,
   "metadata": {},
   "outputs": [],
   "source": [
    "auth.authorizor.permit_user(\"write\", \"filipe\")"
   ]
  },
  {
   "cell_type": "markdown",
   "metadata": {},
   "source": [
    "* Finalmente, para entendermos melhor nossas exceções e o funcionamento do sistema, vamos criar um simples menu que permite que certos usuários alterem ou testem um programa:"
   ]
  },
  {
   "cell_type": "code",
   "execution_count": null,
   "metadata": {},
   "outputs": [],
   "source": [
    "import auth\n",
    "# Configurando os usuários de teste e permissões\n",
    "auth.authenticator.add_user(\"joe\", \"joepassword\")\n",
    "auth.authorizor.add_permission(\"test program\")\n",
    "auth.authorizor.add_permission(\"change program\")\n",
    "auth.authorizor.permit_user(\"test program\", \"joe\")\n",
    "class Editor:\n",
    "    def __init__(self):\n",
    "        self.username = None\n",
    "        self.menu_map = {\n",
    "        \"login\": self.login,\n",
    "        \"test\": self.test,\n",
    "        \"change\": self.change,\n",
    "        \"quit\": self.quit\n",
    "        }\n",
    "    \n",
    "    def login(self):\n",
    "        logged_in = False\n",
    "        while not logged_in:\n",
    "            username = input(\"username: \")\n",
    "            password = input(\"password: \")\n",
    "            try:\n",
    "                logged_in = auth.authenticator.login(username, password)\n",
    "            except auth.InvalidUsername:\n",
    "                print(\"Desculpa, esse usuário nao existe\")\n",
    "            except auth.InvalidPassword:\n",
    "                print(\"Desculpe, password incorreto\")\n",
    "            else:\n",
    "                self.username = username\n",
    "                \n",
    "    def is_permitted(self, permission):\n",
    "        try:\n",
    "            auth.authorizor.check_permission(permission, self.username)\n",
    "        except auth.NotLoggedInError as e:\n",
    "            print(\"{} nao está logged in\".format(e.username))\n",
    "            return False\n",
    "        except auth.NotPermittedError as e:\n",
    "            print(\"{} nao pode {}\".format(e.username, permission))\n",
    "            return False\n",
    "        else:\n",
    "            return True\n",
    "        \n",
    "    def test(self):\n",
    "        if self.is_permitted(\"test program\"):\n",
    "            print(\"Testando programa agora...\")\n",
    "    \n",
    "    def change(self):\n",
    "        if self.is_permitted(\"change program\"):\n",
    "            print(\"Mudando programa agora...\")\n",
    "    \n",
    "    def quit(self):\n",
    "        raise SystemExit()\n",
    "        \n",
    "    def menu(self):\n",
    "        try:\n",
    "            answer = \"\"\n",
    "            while True:\n",
    "                print(\"\"\"\n",
    "                Please enter a command:\n",
    "                \\tlogin\\tLogin\n",
    "                \\ttest\\tTest the program\n",
    "                \\tchange\\tChange the program\n",
    "                \\tquit\\tQuit\n",
    "                \"\"\")\n",
    "                answer = input(\"entre com um comando: \").lower()\n",
    "                try:\n",
    "                    func = self.menu_map[answer]\n",
    "                except KeyError:\n",
    "                    print(\"{} não é uma opção válida\".format(answer))\n",
    "                else:\n",
    "                    func()\n",
    "        finally:\n",
    "            print(\"Obrigado por testar o módulo auth\")\n",
    "\n",
    "Editor().menu()"
   ]
  }
 ],
 "metadata": {
  "kernelspec": {
   "display_name": "Python 3",
   "language": "python",
   "name": "python3"
  },
  "language_info": {
   "codemirror_mode": {
    "name": "ipython",
    "version": 3
   },
   "file_extension": ".py",
   "mimetype": "text/x-python",
   "name": "python",
   "nbconvert_exporter": "python",
   "pygments_lexer": "ipython3",
   "version": "3.6.9"
  }
 },
 "nbformat": 4,
 "nbformat_minor": 2
}
