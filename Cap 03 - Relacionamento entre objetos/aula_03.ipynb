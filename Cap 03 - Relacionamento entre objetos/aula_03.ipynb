{
 "cells": [
  {
   "cell_type": "markdown",
   "metadata": {},
   "source": [
    "<center>\n",
    "    <table>\n",
    "        <tr>\n",
    "            <th> <img src=\"figures/ufrr_logo.png\" width=75px> </th>\n",
    "            <th> <img src=\"figures/dcc.jpg\" width=100px> </th>\n",
    "        </tr>\n",
    "    <table>\n",
    "    <font size=4>\n",
    "    Universidade Federal de Roriama\n",
    "    <br>\n",
    "    Departamento de Ciência da Computação\n",
    "    <br>\n",
    "    Professor: Filipe Dwan Pereira\n",
    "    <br>\n",
    "    Código da disciplina: DCC305\n",
    "    <br>\n",
    "    Período: 2019.2\n",
    "    </font>\n",
    "</center>"
   ]
  },
  {
   "cell_type": "markdown",
   "metadata": {},
   "source": [
    "## Disclaimer\n",
    "\n",
    "Esta aula é uma adaptação do capítulo 3 do livro:\n",
    "\n",
    "* Phillips, Dusty. Python 3 Object-oriented Programming - Unleash the power of Python 3 objects. \"Packt Publishing\", 2015. Second Edition."
   ]
  },
  {
   "cell_type": "markdown",
   "metadata": {},
   "source": [
    "Nesta aula aprenderemos:\n",
    "\n",
    "* O básico sobre herança\n",
    "* Usar herança a partir de built-ins\n",
    "* Herança Múltipla;\n",
    "* Polimorfismos e duck typing;"
   ]
  },
  {
   "cell_type": "markdown",
   "metadata": {},
   "source": [
    "## Herança Básica\n",
    "\n",
    "* Tecnicamente, todas as classes que usamos já usam herança, uma vez que elas herdam da classe *object*;\n",
    "    * Os comportamentos fornecidos por essa classe são aqueles com underscore duplo;\n",
    "* A classe object permite que o python trate todos os objetos da mesma maneira, isto é, como um objeto;\n",
    "* Até agora ao clicar nossas classes não explicitamos que herdamos de object, mas podemos, conforme segue:"
   ]
  },
  {
   "cell_type": "code",
   "execution_count": null,
   "metadata": {},
   "outputs": [],
   "source": [
    "class MySubClass(object):\n",
    "    pass"
   ]
  },
  {
   "cell_type": "markdown",
   "metadata": {},
   "source": [
    "* Isso é **herança**;\n",
    "* Chamamos de superclasse ou classe pai a classe a qual herdamos e de subclasse ou classe filha a classe que herda.\n",
    "    * No caso acima, object é a superclasse e MySubClasse a subclasse;\n",
    "* Para realizar a herança em python basta colocar o nome da superclasse a qual se quer herdar dentro dos parênteses da definidação da subclasse;"
   ]
  },
  {
   "cell_type": "markdown",
   "metadata": {},
   "source": [
    "* O uso mais simples da herança é adicionar funcionalidade a uma classe existente.\n",
    "* Para ilustrar, veja um simples exemplo de uma classe base que gerencia contados:"
   ]
  },
  {
   "cell_type": "code",
   "execution_count": 10,
   "metadata": {},
   "outputs": [],
   "source": [
    "class Contact:\n",
    "    all_contacts = []\n",
    "    \n",
    "    def __init__(self, name, email):\n",
    "        self.name = name\n",
    "        self.email = email\n",
    "        Contact.all_contacts.append(self)"
   ]
  },
  {
   "cell_type": "markdown",
   "metadata": {},
   "source": [
    "* Neste exemplo usamos o que chamamos de variável de classe;\n",
    "    * A lista *all_contacts* é uma variável de classe porque é compartilhada por todos objetos da classe *Contact*.\n",
    "* Agora imagine que existem contatos de fornecedores que fazemos pedidos;\n",
    "    * Poderíamos pensar em adicionar um método **order** na classe Contact, mas isso faria que contatos familiares também tivessem esse método;\n",
    "    * Vamos criar uma classe Fornecedores (*Supplier* em inglês) que além de herdar de Contact, também possui o método *order*:"
   ]
  },
  {
   "cell_type": "code",
   "execution_count": 11,
   "metadata": {},
   "outputs": [],
   "source": [
    "class Supplier(Contact):\n",
    "    def order(self, pedido):\n",
    "        print(\"Pedido para '{}': \"\n",
    "            \"'{}'\".format(self.name, pedido))"
   ]
  },
  {
   "cell_type": "code",
   "execution_count": 12,
   "metadata": {},
   "outputs": [],
   "source": [
    "c1 = Contact('Filipe', 'filipe@gmail.com')\n",
    "f1 = Supplier('Amazon', 'amazon@gmail.com')"
   ]
  },
  {
   "cell_type": "markdown",
   "metadata": {},
   "source": [
    "* Note que o objeto f1 possui nome e email pois herda da classe Contact:"
   ]
  },
  {
   "cell_type": "code",
   "execution_count": 13,
   "metadata": {},
   "outputs": [
    {
     "name": "stdout",
     "output_type": "stream",
     "text": [
      "Filipe filipe@gmail.com\n",
      "Amazon amazon@gmail.com\n"
     ]
    }
   ],
   "source": [
    "print(c1.name, c1.email)\n",
    "print(f1.name, f1.email)"
   ]
  },
  {
   "cell_type": "markdown",
   "metadata": {},
   "source": [
    "* Perceba ainda que apenas o objeto f1 é capaz de efetuar pedidos:"
   ]
  },
  {
   "cell_type": "code",
   "execution_count": 14,
   "metadata": {},
   "outputs": [
    {
     "name": "stdout",
     "output_type": "stream",
     "text": [
      "Pedido para 'Amazon': 'Preciso de 30 caixas de canetas'\n"
     ]
    }
   ],
   "source": [
    "f1.order('Preciso de 30 caixas de canetas')"
   ]
  },
  {
   "cell_type": "code",
   "execution_count": 15,
   "metadata": {},
   "outputs": [
    {
     "ename": "AttributeError",
     "evalue": "'Contact' object has no attribute 'order'",
     "output_type": "error",
     "traceback": [
      "\u001b[0;31m---------------------------------------------------------------------------\u001b[0m",
      "\u001b[0;31mAttributeError\u001b[0m                            Traceback (most recent call last)",
      "\u001b[0;32m<ipython-input-15-f8f39dfa6e0c>\u001b[0m in \u001b[0;36m<module>\u001b[0;34m\u001b[0m\n\u001b[0;32m----> 1\u001b[0;31m \u001b[0mc1\u001b[0m\u001b[0;34m.\u001b[0m\u001b[0morder\u001b[0m\u001b[0;34m(\u001b[0m\u001b[0;34m'Preciso de 30 caixas de canetas'\u001b[0m\u001b[0;34m)\u001b[0m\u001b[0;34m\u001b[0m\u001b[0;34m\u001b[0m\u001b[0m\n\u001b[0m",
      "\u001b[0;31mAttributeError\u001b[0m: 'Contact' object has no attribute 'order'"
     ]
    }
   ],
   "source": [
    "c1.order('Preciso de 30 caixas de canetas')"
   ]
  },
  {
   "cell_type": "markdown",
   "metadata": {},
   "source": [
    "* Agora perceba como o atributo *all_contacts* é compartilhado por ambos objetos:"
   ]
  },
  {
   "cell_type": "code",
   "execution_count": 16,
   "metadata": {},
   "outputs": [
    {
     "data": {
      "text/plain": [
       "[<__main__.Contact at 0x7fd362fc1da0>, <__main__.Supplier at 0x7fd362fc1710>]"
      ]
     },
     "execution_count": 16,
     "metadata": {},
     "output_type": "execute_result"
    }
   ],
   "source": [
    "c1.all_contacts"
   ]
  },
  {
   "cell_type": "code",
   "execution_count": 17,
   "metadata": {},
   "outputs": [
    {
     "data": {
      "text/plain": [
       "[<__main__.Contact at 0x7fd362fc1da0>, <__main__.Supplier at 0x7fd362fc1710>]"
      ]
     },
     "execution_count": 17,
     "metadata": {},
     "output_type": "execute_result"
    }
   ],
   "source": [
    "f1.all_contacts"
   ]
  },
  {
   "cell_type": "markdown",
   "metadata": {},
   "source": [
    "## Herdando de built-ins\n",
    "\n",
    "* Um uso interessante desse tipo de herança é adicionar funcionalidade aos recursos built-ins do python;\n",
    "* Para exemplo, podemos criar uma classe *ContactList* que adiciona um método para fazer busca de contatos em uma lista padrão do python;\n",
    "    * Para tanto, herdaremos de *list*:\n",
    "* Após isso, iremos usar a ContectList ao invés de uma lista padrão para iniciazar nossa variável de classe *all_contacts* (linha 10 do código abaixo):"
   ]
  },
  {
   "cell_type": "code",
   "execution_count": 18,
   "metadata": {},
   "outputs": [],
   "source": [
    "class ContactList(list):    \n",
    "    def search(self, name):\n",
    "        matching_contacts = []\n",
    "        for contact in self:\n",
    "            if name in contact.name:\n",
    "                matching_contacts.append(contact)\n",
    "        return matching_contacts\n",
    "\n",
    "class Contact():\n",
    "    all_contacts = ContactList()\n",
    "    \n",
    "    def __init__(self, name, email):\n",
    "        self.name = name\n",
    "        self.email = email\n",
    "        Contact.all_contacts.append(self)"
   ]
  },
  {
   "cell_type": "markdown",
   "metadata": {},
   "source": [
    "* Para testar nosso exemplo, vamos criar três contatos:"
   ]
  },
  {
   "cell_type": "code",
   "execution_count": 19,
   "metadata": {},
   "outputs": [],
   "source": [
    "c1 = Contact('Fulano da Silva', 'fulano1@dominio.com')\n",
    "c2 = Contact('Fulano Sousa', 'fulano2@dominio.com')\n",
    "c3 = Contact('Ciclano Pereira', 'ciclano3@dominio.com')"
   ]
  },
  {
   "cell_type": "markdown",
   "metadata": {},
   "source": [
    "* Agora vamos fazer uma busca por contatos com nome *Fulano*;"
   ]
  },
  {
   "cell_type": "code",
   "execution_count": 20,
   "metadata": {},
   "outputs": [
    {
     "data": {
      "text/plain": [
       "[<__main__.Contact at 0x7fd36333c828>, <__main__.Contact at 0x7fd36333cc50>]"
      ]
     },
     "execution_count": 20,
     "metadata": {},
     "output_type": "execute_result"
    }
   ],
   "source": [
    "Contact.all_contacts.search('Fulano')"
   ]
  },
  {
   "cell_type": "markdown",
   "metadata": {},
   "source": [
    "* Bem, existem dois objetos com esse nome;\n",
    "    * Vamos apresentá-los:"
   ]
  },
  {
   "cell_type": "code",
   "execution_count": 21,
   "metadata": {},
   "outputs": [
    {
     "data": {
      "text/plain": [
       "['Fulano da Silva', 'Fulano Sousa']"
      ]
     },
     "execution_count": 21,
     "metadata": {},
     "output_type": "execute_result"
    }
   ],
   "source": [
    "[c.name for c in Contact.all_contacts.search('Fulano')]"
   ]
  },
  {
   "cell_type": "markdown",
   "metadata": {},
   "source": [
    "* Note que a sintaxe built-in [ ] é equivalante a *list()*:"
   ]
  },
  {
   "cell_type": "code",
   "execution_count": 22,
   "metadata": {},
   "outputs": [
    {
     "data": {
      "text/plain": [
       "True"
      ]
     },
     "execution_count": 22,
     "metadata": {},
     "output_type": "execute_result"
    }
   ],
   "source": [
    "[] == list()"
   ]
  },
  {
   "cell_type": "markdown",
   "metadata": {},
   "source": [
    "* Assim sendo, quando fazemos *variavel = [ ]*, estamos instanciando um objeto da classe *list*;\n",
    "* Ainda, a classe *list* herda de object, como podemos ver abaixo:"
   ]
  },
  {
   "cell_type": "code",
   "execution_count": 23,
   "metadata": {},
   "outputs": [
    {
     "data": {
      "text/plain": [
       "True"
      ]
     },
     "execution_count": 23,
     "metadata": {},
     "output_type": "execute_result"
    }
   ],
   "source": [
    "isinstance([], object)"
   ]
  },
  {
   "cell_type": "markdown",
   "metadata": {},
   "source": [
    "* Como um segundo exemplo, vamos herdar agora da classe *dict*;\n",
    "* Iremos adicionar uma funcionalidade para verificar qual é a chave mais longa do dicionário:"
   ]
  },
  {
   "cell_type": "code",
   "execution_count": 24,
   "metadata": {},
   "outputs": [],
   "source": [
    "class LongNameDict(dict):\n",
    "    def longest_key(self):\n",
    "        longest = None\n",
    "        for key in self.keys():\n",
    "            if not longest or len(key) > len(longest):\n",
    "                longest = key\n",
    "        return longest"
   ]
  },
  {
   "cell_type": "code",
   "execution_count": 25,
   "metadata": {},
   "outputs": [
    {
     "data": {
      "text/plain": [
       "'longest yet'"
      ]
     },
     "execution_count": 25,
     "metadata": {},
     "output_type": "execute_result"
    }
   ],
   "source": [
    "longkeys = LongNameDict()\n",
    "longkeys['hello'] = 1\n",
    "longkeys['longest yet'] = 5\n",
    "longkeys['hello2'] = 'world'\n",
    "longkeys.longest_key()"
   ]
  },
  {
   "cell_type": "markdown",
   "metadata": {},
   "source": [
    "## Sobrescrevendo métodos\n",
    "\n",
    "* Além de adicionar funcionalidades ao utilizar herença, podemos também modificá-las;\n",
    "    * Isto é, podemos herdar comportamentos e modificá-los;\n",
    "* Por exemplo, imagine que queremos adicionar o atributo phone_number nos contatos dos nossos amigos mais próximos;\n",
    "    * Para tanto, podemos criar uma classe Friend que herda de Contact e sobrescreve o construtor:"
   ]
  },
  {
   "cell_type": "code",
   "execution_count": 26,
   "metadata": {},
   "outputs": [],
   "source": [
    "class Friend(Contact):\n",
    "    def __init__(self, name, email, phone):\n",
    "        self.name = name\n",
    "        self.email = email\n",
    "        self.phone = phone"
   ]
  },
  {
   "cell_type": "markdown",
   "metadata": {},
   "source": [
    "* Observe 2 problemas com o código acima:\n",
    "    1. Repetimos código o que pode tornar o processo de manutenção do sistema ruim;\n",
    "    2. Esquecemos de adicionar o contado do amigo na variável de classe *all_contacts*;\n",
    "* O que nós realmente precisamos é executar o \\_\\_init\\_\\_ da classe Contact e apenas adicionar o telefone do contato;\n",
    "* Para tanto, podemos usar a palavra chave **super**, que nos permite invocar métodos da superclasse diretamente:"
   ]
  },
  {
   "cell_type": "code",
   "execution_count": 27,
   "metadata": {},
   "outputs": [],
   "source": [
    "class Friend(Contact):\n",
    "    def __init__(self, name, email, phone):\n",
    "        super().__init__(name, email)\n",
    "        self.phone = phone"
   ]
  },
  {
   "cell_type": "markdown",
   "metadata": {},
   "source": [
    "* Vamos criar um amigo, apenas para testar a classe:"
   ]
  },
  {
   "cell_type": "code",
   "execution_count": 28,
   "metadata": {},
   "outputs": [],
   "source": [
    "friend1 = Friend('Beltrano Ferreira', 'beltrano@dominio.com', '2121-3131')"
   ]
  },
  {
   "cell_type": "code",
   "execution_count": 29,
   "metadata": {},
   "outputs": [
    {
     "data": {
      "text/plain": [
       "'2121-3131'"
      ]
     },
     "execution_count": 29,
     "metadata": {},
     "output_type": "execute_result"
    }
   ],
   "source": [
    "friend1.phone"
   ]
  },
  {
   "cell_type": "markdown",
   "metadata": {},
   "source": [
    "## Herança Múltipla\n",
    "\n",
    "* A herança múltipla é um assunto delicado.\n",
    "    * Em teoria, é bem simples: uma subclasse que herda diretamente funcionalidades de mais uma superclasse;\n",
    "    * Na prática, usa técnica não é tão usual e muitos experts não recomendam essa prática;\n",
    "* A maneira mais fácil de realizar herança é chamda de **mixin**;\n",
    "    * Mixin é geralmente uma superclasse que só existe para fornecer a herança;\n",
    "    * Por exemplo, vamos adicionar funcionalidades a nossa classe *Contact* para poder enviar e-mail para o *self.email*;"
   ]
  },
  {
   "cell_type": "code",
   "execution_count": 30,
   "metadata": {},
   "outputs": [],
   "source": [
    "class MailSender:\n",
    "    def send_mail(self, message):\n",
    "        print('Enviando e-mail para ' + self.email)\n",
    "        # logica de envio de e-mail"
   ]
  },
  {
   "cell_type": "markdown",
   "metadata": {},
   "source": [
    "* Podemos então criar uma classe que herda de Cotact e MailSender:"
   ]
  },
  {
   "cell_type": "code",
   "execution_count": 31,
   "metadata": {},
   "outputs": [],
   "source": [
    "class EmailableContact(Contact, MailSender):\n",
    "    pass"
   ]
  },
  {
   "cell_type": "markdown",
   "metadata": {},
   "source": [
    "* Agora vamos testar a nossa classe híbrida:"
   ]
  },
  {
   "cell_type": "code",
   "execution_count": 32,
   "metadata": {},
   "outputs": [],
   "source": [
    "e = EmailableContact(\"John Smith\", \"jsmith@example.net\")"
   ]
  },
  {
   "cell_type": "code",
   "execution_count": 35,
   "metadata": {},
   "outputs": [
    {
     "name": "stdout",
     "output_type": "stream",
     "text": [
      "Enviando e-mail para jsmith@example.net\n"
     ]
    }
   ],
   "source": [
    "e.send_mail(\"Hello, test e-mail here\")"
   ]
  },
  {
   "cell_type": "markdown",
   "metadata": {},
   "source": [
    "* Observe que o objeto da classe *EmailableContact* também está sendo adicionado na lista *all_contacts*:"
   ]
  },
  {
   "cell_type": "code",
   "execution_count": 34,
   "metadata": {},
   "outputs": [
    {
     "data": {
      "text/plain": [
       "[<__main__.Contact at 0x7fd36333c828>,\n",
       " <__main__.Contact at 0x7fd36333cc50>,\n",
       " <__main__.Contact at 0x7fd36333ccc0>,\n",
       " <__main__.Friend at 0x7fd362ed2a58>,\n",
       " <__main__.EmailableContact at 0x7fd362ed2f98>]"
      ]
     },
     "execution_count": 34,
     "metadata": {},
     "output_type": "execute_result"
    }
   ],
   "source": [
    "Contact.all_contacts"
   ]
  },
  {
   "cell_type": "markdown",
   "metadata": {},
   "source": [
    "### Nota sobre envio de email em python\n",
    "\n",
    "* Caso queira realmente enviar um e-mail, segue abaixo um breve tutorial onde o remetente tem uma conta do gmail.\n",
    "    * Primeiro, acesse este [link](https://myaccount.google.com/lesssecureapps?pli=1) e dê permissão para aplicações menos seguras;\n",
    "    * A seguir, use o seguinte código:"
   ]
  },
  {
   "cell_type": "code",
   "execution_count": null,
   "metadata": {},
   "outputs": [],
   "source": [
    "import smtplib\n",
    "from email.mime.text import MIMEText\n",
    "from email.mime.multipart import MIMEMultipart\n",
    "\n",
    "email = 'seu_email@gmail.com'\n",
    "senha = input('Entre com a senha:')\n",
    "receptor = 'seu_email@gmail.com'\n",
    "assunto = 'Ufrr python - POO'\n",
    "conteudo = 'Aula de POO - Testando o envio de um email'\n",
    "\n",
    "msg = MIMEMultipart()\n",
    "msg['From'] = email\n",
    "msg['To'] = receptor\n",
    "msg['Subject'] = assunto\n",
    "msg.attach(MIMEText(conteudo, 'plain'))\n",
    "\n",
    "servidor = smtplib.SMTP('smtp.gmail.com', 587)\n",
    "servidor.starttls()\n",
    "servidor.login(email, senha)\n",
    "text = msg.as_string()\n",
    "servidor.sendmail(email, receptor, text)\n",
    "servidor.quit()"
   ]
  },
  {
   "cell_type": "markdown",
   "metadata": {},
   "source": [
    "* **Créditos**: o tutorial acima foi feito com base nesta [videoaula](https://www.youtube.com/watch?v=YPiHBtddefI) do canal PyTutorials;\n",
    "* Para um tutorial um pouco mais completo, acesso este [link](https://realpython.com/python-send-email/) do site real python;"
   ]
  },
  {
   "cell_type": "markdown",
   "metadata": {},
   "source": [
    "### Um pouco mais sobre herança múltipla\n",
    "\n",
    "* Note que poderíamos ter usado composição ao invés de herança na classe EmailableContact:\n",
    "    * A classe EmailableContact poderia ter um objeto MailSender ao invés de herdar dele, o que faz muito mais sentido;\n",
    "* Herança Múltipla pode se tornar bastante confuso quando precisamos invocar métodos da superclasse, uma vez que existem múltiplas superclasses;\n",
    "    * Para explorar um pouco mais sobre esse assunto, vamos criar uma classe que que modela objetos detentores de endereço:"
   ]
  },
  {
   "cell_type": "code",
   "execution_count": 36,
   "metadata": {},
   "outputs": [],
   "source": [
    "class AddressHolder:\n",
    "    def __init__(self, street, city, state, code):\n",
    "        self.street = street\n",
    "        self.city = city\n",
    "        self.state = state\n",
    "        self.code = code"
   ]
  },
  {
   "cell_type": "markdown",
   "metadata": {},
   "source": [
    "* Vamos usar a classe acima com pai da nossa classe Friend;\n",
    "* Entretanto, percebam que a classe Friend já herda de Contact e que usamos a palavra chave super para modificar um comportamento.\n",
    "    * Com hernaça múltipla, ao usar por exemplo, *super().\\_\\_init\\_\\_()* estamos nos referindo a qual das superclasses?\n",
    "    * Uma opção para tentar contornar esse problema é especificar a super classe e passar explicitamento o self como parâmetro no \\_\\_init\\_\\_() da superclasse, conforme segue:"
   ]
  },
  {
   "cell_type": "code",
   "execution_count": 38,
   "metadata": {},
   "outputs": [],
   "source": [
    "class Friend(Contact, AddressHolder):\n",
    "    def __init__(self, name, email, phone, street, city, state, code):\n",
    "        Contact.__init__(self, name, email)\n",
    "        AddressHolder.__init__(self, street, city, state, code)\n",
    "        self.phone = phone"
   ]
  },
  {
   "cell_type": "markdown",
   "metadata": {},
   "source": [
    "* O código acima funciona, mas é perigoso. \n",
    "* Veja o seguinte diagrama de classes:\n",
    "\n",
    "<img src=\"figures/class_diagram_mult_inheritance.png\"/>"
   ]
  },
  {
   "cell_type": "markdown",
   "metadata": {},
   "source": [
    "* Observe que:\n",
    "    * O método \\_\\_init\\_\\_() da classe Friends invoca o  \\_\\_init\\_\\_() de Contact, que implicitamente invoca o \\_\\_init\\_\\_() da classe Object;\n",
    "    * Subsequentemente, o método \\_\\_init\\_\\_() da classe Friends invoca o  \\_\\_init\\_\\_() de AddressHolder, que também implicitamente invoca o \\_\\_init\\_\\_() da classe Object;\n",
    "    * Assim, o \\_\\_init\\_\\_() da classe Object é chamado duas vezes;\n",
    "    * Para este cenário não há problema algum, mas imagine que no lugar de Object está a classe Database e no \\_\\_init\\_\\_() do Database temos uma conexão com o banco de dados;\n",
    "        * Faríamos a conexão duas vezes para cada requisição, o que pode ser desastroso;"
   ]
  },
  {
   "cell_type": "markdown",
   "metadata": {},
   "source": [
    "* Vejamos um segundo exemplo hipotético que ilustra esse problema mais claramente:\n",
    "    * Aqui temos uma classe base que possui um método chamado *call_me*;\n",
    "    * As subclasses LeftSubClass e RightSubClass herdam diretamente de BaseClass e sobreescrevem o método *call_me*;\n",
    "    * A classe Subclass herda de LeftSubClass e RightSubClass e também sobreescreve *call_me*;\n",
    "*  Isso é chamado de herança de diamante (diamond inheritance) devido à forma do diamante do diagrama de classes:\n",
    "\n",
    "<img src=\"figures/class_diagram_diamond.png\"/>"
   ]
  },
  {
   "cell_type": "markdown",
   "metadata": {},
   "source": [
    "* Vamos converter esse diagrama em código:"
   ]
  },
  {
   "cell_type": "code",
   "execution_count": 39,
   "metadata": {},
   "outputs": [],
   "source": [
    "class BaseClass:\n",
    "    num_base_calls = 0\n",
    "    def call_me(self):\n",
    "        print(\"Calling method on Base Class\")\n",
    "        self.num_base_calls += 1\n",
    "        \n",
    "class LeftSubclass(BaseClass):\n",
    "    num_left_calls = 0\n",
    "    def call_me(self):\n",
    "        BaseClass.call_me(self)#linha importante\n",
    "        print(\"Calling method on Left Subclass\")\n",
    "        self.num_left_calls += 1\n",
    "\n",
    "class RightSubclass(BaseClass):\n",
    "    num_right_calls = 0\n",
    "    def call_me(self):\n",
    "        BaseClass.call_me(self)#linha importante\n",
    "        print(\"Calling method on Right Subclass\")\n",
    "        self.num_right_calls += 1\n",
    "        \n",
    "class Subclass(LeftSubclass, RightSubclass):\n",
    "    num_sub_calls = 0\n",
    "    def call_me(self):\n",
    "        LeftSubclass.call_me(self)#linha importante\n",
    "        RightSubclass.call_me(self)#linha importante\n",
    "        print(\"Calling method on Subclass\")\n",
    "        self.num_sub_calls += 1"
   ]
  },
  {
   "cell_type": "markdown",
   "metadata": {},
   "source": [
    "* Vamos testar a nossa subclasse:"
   ]
  },
  {
   "cell_type": "code",
   "execution_count": 41,
   "metadata": {},
   "outputs": [
    {
     "name": "stdout",
     "output_type": "stream",
     "text": [
      "Calling method on Base Class\n",
      "Calling method on Left Subclass\n",
      "Calling method on Base Class\n",
      "Calling method on Right Subclass\n",
      "Calling method on Subclass\n",
      "1\n",
      "1\n",
      "1\n",
      "2\n"
     ]
    }
   ],
   "source": [
    "s = Subclass()\n",
    "s.call_me()\n",
    "print(s.num_sub_calls)\n",
    "print(s.num_left_calls)\n",
    "print(s.num_right_calls)\n",
    "print(s.num_base_calls)"
   ]
  },
  {
   "cell_type": "markdown",
   "metadata": {},
   "source": [
    "* Aqui podemos ver claramente a classe BaseClass sendo chamada duas vezes;\n",
    "* Apenas como mais uma demostração dos problemas que isso pode causar, imagine que esse método está realizando um depósito em um banco;\n",
    "*  O que você devemos ter em mente com herança múltipla é que só queremos chamar o método \"filho\" na hierarquia de classes, não o método \"pai\";"
   ]
  },
  {
   "cell_type": "markdown",
   "metadata": {},
   "source": [
    "* Podemos resolver isso usando o nosso **super**, que se encarregará de chamar o método da superclasse apenas uma vez;\n",
    "* Vamos reescrever nossa classe agora utilizando o super:"
   ]
  },
  {
   "cell_type": "code",
   "execution_count": 42,
   "metadata": {},
   "outputs": [],
   "source": [
    "class BaseClass:\n",
    "    num_base_calls = 0\n",
    "    def call_me(self):\n",
    "        print(\"Calling method on Base Class\")\n",
    "        self.num_base_calls += 1\n",
    "        \n",
    "class LeftSubclass(BaseClass):\n",
    "    num_left_calls = 0\n",
    "    def call_me(self):\n",
    "        super().call_me()#linha importante\n",
    "        print(\"Calling method on Left Subclass\")\n",
    "        self.num_left_calls += 1\n",
    "\n",
    "class RightSubclass(BaseClass):\n",
    "    num_right_calls = 0\n",
    "    def call_me(self):\n",
    "        super().call_me()#linha importante\n",
    "        print(\"Calling method on Right Subclass\")\n",
    "        self.num_right_calls += 1\n",
    "        \n",
    "class Subclass(LeftSubclass, RightSubclass):\n",
    "    num_sub_calls = 0\n",
    "    def call_me(self):\n",
    "        super().call_me()#linha importante\n",
    "        print(\"Calling method on Subclass\")\n",
    "        self.num_sub_calls += 1"
   ]
  },
  {
   "cell_type": "markdown",
   "metadata": {},
   "source": [
    "* Agora vamos novamente o nosso teste e perceba que a classe base só será chamada uma vez:"
   ]
  },
  {
   "cell_type": "code",
   "execution_count": 43,
   "metadata": {},
   "outputs": [
    {
     "name": "stdout",
     "output_type": "stream",
     "text": [
      "Calling method on Base Class\n",
      "Calling method on Right Subclass\n",
      "Calling method on Left Subclass\n",
      "Calling method on Subclass\n",
      "1\n",
      "1\n",
      "1\n",
      "1\n"
     ]
    }
   ],
   "source": [
    "s = Subclass()\n",
    "s.call_me()\n",
    "print(s.num_sub_calls)\n",
    "print(s.num_left_calls)\n",
    "print(s.num_right_calls)\n",
    "print(s.num_base_calls)"
   ]
  },
  {
   "cell_type": "markdown",
   "metadata": {},
   "source": [
    "Vale ressaltar como funcionou esse processo para que a classe base seja chamada apenas uma vez:\n",
    "* Primeiro foi invocado *call_me* da SubClass que chamou *super().call_me()*, que se refere a *LeftSubClass.call_me()*. \n",
    "* *LeftSubClass.call_me()*, por sua vez, chama *super().call_me()*, mas nesse caso, *super()* está se referindo a *RightSubclass.call_me()*;\n",
    "    * Assim sendo, o *super* na verdade não está sendo chamado na classe *LeftSubClass*;\n",
    "    * Ao invés disso, ele é chamado na *RightSubClass*;\n",
    "    * A *RightSubclass* que chama o *call_me()* da *BaseClass*;"
   ]
  },
  {
   "cell_type": "code",
   "execution_count": null,
   "metadata": {},
   "outputs": [],
   "source": []
  },
  {
   "cell_type": "code",
   "execution_count": null,
   "metadata": {},
   "outputs": [],
   "source": []
  },
  {
   "cell_type": "code",
   "execution_count": null,
   "metadata": {},
   "outputs": [],
   "source": []
  },
  {
   "cell_type": "code",
   "execution_count": null,
   "metadata": {},
   "outputs": [],
   "source": []
  },
  {
   "cell_type": "code",
   "execution_count": null,
   "metadata": {},
   "outputs": [],
   "source": []
  }
 ],
 "metadata": {
  "kernelspec": {
   "display_name": "Python 3",
   "language": "python",
   "name": "python3"
  },
  "language_info": {
   "codemirror_mode": {
    "name": "ipython",
    "version": 3
   },
   "file_extension": ".py",
   "mimetype": "text/x-python",
   "name": "python",
   "nbconvert_exporter": "python",
   "pygments_lexer": "ipython3",
   "version": "3.6.9"
  }
 },
 "nbformat": 4,
 "nbformat_minor": 2
}
