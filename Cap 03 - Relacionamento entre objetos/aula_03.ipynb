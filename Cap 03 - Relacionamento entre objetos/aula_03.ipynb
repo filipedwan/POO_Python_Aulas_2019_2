{
 "cells": [
  {
   "cell_type": "markdown",
   "metadata": {},
   "source": [
    "<center>\n",
    "    <table>\n",
    "        <tr>\n",
    "            <th> <img src=\"figures/ufrr_logo.png\" width=75px> </th>\n",
    "            <th> <img src=\"figures/dcc.jpg\" width=100px> </th>\n",
    "        </tr>\n",
    "    <table>\n",
    "    <font size=4>\n",
    "    Universidade Federal de Roriama\n",
    "    <br>\n",
    "    Departamento de Ciência da Computação\n",
    "    <br>\n",
    "    Professor: Filipe Dwan Pereira\n",
    "    <br>\n",
    "    Código da disciplina: DCC305\n",
    "    <br>\n",
    "    Período: 2019.2\n",
    "    </font>\n",
    "</center>"
   ]
  },
  {
   "cell_type": "markdown",
   "metadata": {},
   "source": [
    "## Disclaimer\n",
    "\n",
    "Esta aula é uma adaptação do capítulo 3 do livro:\n",
    "\n",
    "* Phillips, Dusty. Python 3 Object-oriented Programming - Unleash the power of Python 3 objects. \"Packt Publishing\", 2015. Second Edition."
   ]
  },
  {
   "cell_type": "markdown",
   "metadata": {},
   "source": [
    "Nesta aula aprenderemos:\n",
    "\n",
    "* O básico sobre herança\n",
    "* Usar herança a partir de built-ins\n",
    "* Herança Múltipla;\n",
    "* Polimorfismos e duck typing;"
   ]
  },
  {
   "cell_type": "markdown",
   "metadata": {},
   "source": [
    "## Herança Básica\n",
    "\n",
    "* Tecnicamente, todas as classes que usamos já usam herança, uma vez que elas herdam da classe *object*;\n",
    "    * Os comportamentos fornecidos por essa classe são aqueles com underscore duplo;\n",
    "* A classe object permite que o python trate todos os objetos da mesma maneira, isto é, como um objeto;\n",
    "* Até agora ao clicar nossas classes não explicitamos que herdamos de object, mas podemos, conforme segue:"
   ]
  },
  {
   "cell_type": "code",
   "execution_count": null,
   "metadata": {},
   "outputs": [],
   "source": [
    "class MySubClass(object):\n",
    "    pass"
   ]
  },
  {
   "cell_type": "markdown",
   "metadata": {},
   "source": [
    "* Isso é **herança**;\n",
    "* Chamamos de superclasse ou classe pai a classe a qual herdamos e de subclasse ou classe filha a classe que herda.\n",
    "    * No caso acima, object é a superclasse e MySubClasse a subclasse;\n",
    "* Para realizar a herança em python basta colocar o nome da superclasse a qual se quer herdar dentro dos parênteses da definidação da subclasse;"
   ]
  },
  {
   "cell_type": "markdown",
   "metadata": {},
   "source": [
    "* O uso mais simples da herança é adicionar funcionalidade a uma classe existente.\n",
    "* Para ilustrar, veja um simples exemplo de uma classe base que gerencia contados:"
   ]
  },
  {
   "cell_type": "code",
   "execution_count": 10,
   "metadata": {},
   "outputs": [],
   "source": [
    "class Contact:\n",
    "    all_contacts = []\n",
    "    \n",
    "    def __init__(self, name, email):\n",
    "        self.name = name\n",
    "        self.email = email\n",
    "        Contact.all_contacts.append(self)"
   ]
  },
  {
   "cell_type": "markdown",
   "metadata": {},
   "source": [
    "* Neste exemplo usamos o que chamamos de variável de classe;\n",
    "    * A lista *all_contacts* é uma variável de classe porque é compartilhada por todos objetos da classe *Contact*.\n",
    "* Agora imagine que existem contatos de fornecedores que fazemos pedidos;\n",
    "    * Poderíamos pensar em adicionar um método **order** na classe Contact, mas isso faria que contatos familiares também tivessem esse método;\n",
    "    * Vamos criar uma classe Fornecedores (*Supplier* em inglês) que além de herdar de Contact, também possui o método *order*:"
   ]
  },
  {
   "cell_type": "code",
   "execution_count": 11,
   "metadata": {},
   "outputs": [],
   "source": [
    "class Supplier(Contact):\n",
    "    def order(self, pedido):\n",
    "        print(\"Pedido para '{}': \"\n",
    "            \"'{}'\".format(self.name, pedido))"
   ]
  },
  {
   "cell_type": "code",
   "execution_count": 12,
   "metadata": {},
   "outputs": [],
   "source": [
    "c1 = Contact('Filipe', 'filipe@gmail.com')\n",
    "f1 = Supplier('Amazon', 'amazon@gmail.com')"
   ]
  },
  {
   "cell_type": "markdown",
   "metadata": {},
   "source": [
    "* Note que o objeto f1 possui nome e email pois herda da classe Contact:"
   ]
  },
  {
   "cell_type": "code",
   "execution_count": 13,
   "metadata": {},
   "outputs": [
    {
     "name": "stdout",
     "output_type": "stream",
     "text": [
      "Filipe filipe@gmail.com\n",
      "Amazon amazon@gmail.com\n"
     ]
    }
   ],
   "source": [
    "print(c1.name, c1.email)\n",
    "print(f1.name, f1.email)"
   ]
  },
  {
   "cell_type": "markdown",
   "metadata": {},
   "source": [
    "* Perceba ainda que apenas o objeto f1 é capaz de efetuar pedidos:"
   ]
  },
  {
   "cell_type": "code",
   "execution_count": 14,
   "metadata": {},
   "outputs": [
    {
     "name": "stdout",
     "output_type": "stream",
     "text": [
      "Pedido para 'Amazon': 'Preciso de 30 caixas de canetas'\n"
     ]
    }
   ],
   "source": [
    "f1.order('Preciso de 30 caixas de canetas')"
   ]
  },
  {
   "cell_type": "code",
   "execution_count": 15,
   "metadata": {},
   "outputs": [
    {
     "ename": "AttributeError",
     "evalue": "'Contact' object has no attribute 'order'",
     "output_type": "error",
     "traceback": [
      "\u001b[0;31m---------------------------------------------------------------------------\u001b[0m",
      "\u001b[0;31mAttributeError\u001b[0m                            Traceback (most recent call last)",
      "\u001b[0;32m<ipython-input-15-f8f39dfa6e0c>\u001b[0m in \u001b[0;36m<module>\u001b[0;34m\u001b[0m\n\u001b[0;32m----> 1\u001b[0;31m \u001b[0mc1\u001b[0m\u001b[0;34m.\u001b[0m\u001b[0morder\u001b[0m\u001b[0;34m(\u001b[0m\u001b[0;34m'Preciso de 30 caixas de canetas'\u001b[0m\u001b[0;34m)\u001b[0m\u001b[0;34m\u001b[0m\u001b[0;34m\u001b[0m\u001b[0m\n\u001b[0m",
      "\u001b[0;31mAttributeError\u001b[0m: 'Contact' object has no attribute 'order'"
     ]
    }
   ],
   "source": [
    "c1.order('Preciso de 30 caixas de canetas')"
   ]
  },
  {
   "cell_type": "markdown",
   "metadata": {},
   "source": [
    "* Agora perceba como o atributo *all_contacts* é compartilhado por ambos objetos:"
   ]
  },
  {
   "cell_type": "code",
   "execution_count": 16,
   "metadata": {},
   "outputs": [
    {
     "data": {
      "text/plain": [
       "[<__main__.Contact at 0x7fd362fc1da0>, <__main__.Supplier at 0x7fd362fc1710>]"
      ]
     },
     "execution_count": 16,
     "metadata": {},
     "output_type": "execute_result"
    }
   ],
   "source": [
    "c1.all_contacts"
   ]
  },
  {
   "cell_type": "code",
   "execution_count": 17,
   "metadata": {},
   "outputs": [
    {
     "data": {
      "text/plain": [
       "[<__main__.Contact at 0x7fd362fc1da0>, <__main__.Supplier at 0x7fd362fc1710>]"
      ]
     },
     "execution_count": 17,
     "metadata": {},
     "output_type": "execute_result"
    }
   ],
   "source": [
    "f1.all_contacts"
   ]
  },
  {
   "cell_type": "markdown",
   "metadata": {},
   "source": [
    "## Herdando de built-ins\n",
    "\n",
    "* Um uso interessante desse tipo de herança é adicionar funcionalidade aos recursos built-ins do python;\n",
    "* Para exemplo, podemos criar uma classe *ContactList* que adiciona um método para fazer busca de contatos em uma lista padrão do python;\n",
    "    * Para tanto, herdaremos de *list*:\n",
    "* Após isso, iremos usar a ContectList ao invés de uma lista padrão para iniciazar nossa variável de classe *all_contacts* (linha 10 do código abaixo):"
   ]
  },
  {
   "cell_type": "code",
   "execution_count": 18,
   "metadata": {},
   "outputs": [],
   "source": [
    "class ContactList(list):    \n",
    "    def search(self, name):\n",
    "        matching_contacts = []\n",
    "        for contact in self:\n",
    "            if name in contact.name:\n",
    "                matching_contacts.append(contact)\n",
    "        return matching_contacts\n",
    "\n",
    "class Contact():\n",
    "    all_contacts = ContactList()\n",
    "    \n",
    "    def __init__(self, name, email):\n",
    "        self.name = name\n",
    "        self.email = email\n",
    "        Contact.all_contacts.append(self)"
   ]
  },
  {
   "cell_type": "markdown",
   "metadata": {},
   "source": [
    "* Para testar nosso exemplo, vamos criar três contatos:"
   ]
  },
  {
   "cell_type": "code",
   "execution_count": 19,
   "metadata": {},
   "outputs": [],
   "source": [
    "c1 = Contact('Fulano da Silva', 'fulano1@dominio.com')\n",
    "c2 = Contact('Fulano Sousa', 'fulano2@dominio.com')\n",
    "c3 = Contact('Ciclano Pereira', 'ciclano3@dominio.com')"
   ]
  },
  {
   "cell_type": "markdown",
   "metadata": {},
   "source": [
    "* Agora vamos fazer uma busca por contatos com nome *Fulano*;"
   ]
  },
  {
   "cell_type": "code",
   "execution_count": 20,
   "metadata": {},
   "outputs": [
    {
     "data": {
      "text/plain": [
       "[<__main__.Contact at 0x7fd36333c828>, <__main__.Contact at 0x7fd36333cc50>]"
      ]
     },
     "execution_count": 20,
     "metadata": {},
     "output_type": "execute_result"
    }
   ],
   "source": [
    "Contact.all_contacts.search('Fulano')"
   ]
  },
  {
   "cell_type": "markdown",
   "metadata": {},
   "source": [
    "* Bem, existem dois objetos com esse nome;\n",
    "    * Vamos apresentá-los:"
   ]
  },
  {
   "cell_type": "code",
   "execution_count": 21,
   "metadata": {},
   "outputs": [
    {
     "data": {
      "text/plain": [
       "['Fulano da Silva', 'Fulano Sousa']"
      ]
     },
     "execution_count": 21,
     "metadata": {},
     "output_type": "execute_result"
    }
   ],
   "source": [
    "[c.name for c in Contact.all_contacts.search('Fulano')]"
   ]
  },
  {
   "cell_type": "markdown",
   "metadata": {},
   "source": [
    "* Note que a sintaxe built-in [ ] é equivalante a *list()*:"
   ]
  },
  {
   "cell_type": "code",
   "execution_count": 22,
   "metadata": {},
   "outputs": [
    {
     "data": {
      "text/plain": [
       "True"
      ]
     },
     "execution_count": 22,
     "metadata": {},
     "output_type": "execute_result"
    }
   ],
   "source": [
    "[] == list()"
   ]
  },
  {
   "cell_type": "markdown",
   "metadata": {},
   "source": [
    "* Assim sendo, quando fazemos *variavel = [ ]*, estamos instanciando um objeto da classe *list*;\n",
    "* Ainda, a classe *list* herda de object, como podemos ver abaixo:"
   ]
  },
  {
   "cell_type": "code",
   "execution_count": 23,
   "metadata": {},
   "outputs": [
    {
     "data": {
      "text/plain": [
       "True"
      ]
     },
     "execution_count": 23,
     "metadata": {},
     "output_type": "execute_result"
    }
   ],
   "source": [
    "isinstance([], object)"
   ]
  },
  {
   "cell_type": "markdown",
   "metadata": {},
   "source": [
    "* Como um segundo exemplo, vamos herdar agora da classe *dict*;\n",
    "* Iremos adicionar uma funcionalidade para verificar qual é a chave mais longa do dicionário:"
   ]
  },
  {
   "cell_type": "code",
   "execution_count": 24,
   "metadata": {},
   "outputs": [],
   "source": [
    "class LongNameDict(dict):\n",
    "    def longest_key(self):\n",
    "        longest = None\n",
    "        for key in self.keys():\n",
    "            if not longest or len(key) > len(longest):\n",
    "                longest = key\n",
    "        return longest"
   ]
  },
  {
   "cell_type": "code",
   "execution_count": 25,
   "metadata": {},
   "outputs": [
    {
     "data": {
      "text/plain": [
       "'longest yet'"
      ]
     },
     "execution_count": 25,
     "metadata": {},
     "output_type": "execute_result"
    }
   ],
   "source": [
    "longkeys = LongNameDict()\n",
    "longkeys['hello'] = 1\n",
    "longkeys['longest yet'] = 5\n",
    "longkeys['hello2'] = 'world'\n",
    "longkeys.longest_key()"
   ]
  },
  {
   "cell_type": "markdown",
   "metadata": {},
   "source": [
    "## Sobrescrevendo métodos\n",
    "\n",
    "* Além de adicionar funcionalidades ao utilizar herença, podemos também modificá-las;\n",
    "    * Isto é, podemos herdar comportamentos e modificá-los;\n",
    "* Por exemplo, imagine que queremos adicionar o atributo phone_number nos contatos dos nossos amigos mais próximos;\n",
    "    * Para tanto, podemos criar uma classe Friend que herda de Contact e sobrescreve o construtor:"
   ]
  },
  {
   "cell_type": "code",
   "execution_count": 26,
   "metadata": {},
   "outputs": [],
   "source": [
    "class Friend(Contact):\n",
    "    def __init__(self, name, email, phone):\n",
    "        self.name = name\n",
    "        self.email = email\n",
    "        self.phone = phone"
   ]
  },
  {
   "cell_type": "markdown",
   "metadata": {},
   "source": [
    "* Observe 2 problemas com o código acima:\n",
    "    1. Repetimos código o que pode tornar o processo de manutenção do sistema ruim;\n",
    "    2. Esquecemos de adicionar o contado do amigo na variável de classe *all_contacts*;\n",
    "* O que nós realmente precisamos é executar o \\_\\_init\\_\\_ da classe Contact e apenas adicionar o telefone do contato;\n",
    "* Para tanto, podemos usar a palavra chave **super**, que nos permite invocar métodos da superclasse diretamente:"
   ]
  },
  {
   "cell_type": "code",
   "execution_count": 27,
   "metadata": {},
   "outputs": [],
   "source": [
    "class Friend(Contact):\n",
    "    def __init__(self, name, email, phone):\n",
    "        super().__init__(name, email)\n",
    "        self.phone = phone"
   ]
  },
  {
   "cell_type": "markdown",
   "metadata": {},
   "source": [
    "* Vamos criar um amigo, apenas para testar a classe:"
   ]
  },
  {
   "cell_type": "code",
   "execution_count": 28,
   "metadata": {},
   "outputs": [],
   "source": [
    "friend1 = Friend('Beltrano Ferreira', 'beltrano@dominio.com', '2121-3131')"
   ]
  },
  {
   "cell_type": "code",
   "execution_count": 29,
   "metadata": {},
   "outputs": [
    {
     "data": {
      "text/plain": [
       "'2121-3131'"
      ]
     },
     "execution_count": 29,
     "metadata": {},
     "output_type": "execute_result"
    }
   ],
   "source": [
    "friend1.phone"
   ]
  },
  {
   "cell_type": "markdown",
   "metadata": {},
   "source": [
    "## Herança Múltipla\n",
    "\n",
    "* A herança múltipla é um assunto delicado.\n",
    "    * Em teoria, é bem simples: uma subclasse que herda diretamente funcionalidades de mais uma superclasse;\n",
    "    * Na prática, usa técnica não é tão usual e muitos experts não recomendam essa prática;\n",
    "* A maneira mais fácil de realizar herança é chamda de **mixin**;\n",
    "    * Mixin é geralmente uma superclasse que só existe para fornecer a herança;\n",
    "    * Por exemplo, vamos adicionar funcionalidades a nossa classe *Contact* para poder enviar e-mail para o *self.email*;"
   ]
  },
  {
   "cell_type": "code",
   "execution_count": 30,
   "metadata": {},
   "outputs": [],
   "source": [
    "class MailSender:\n",
    "    def send_mail(self, message):\n",
    "        print('Enviando e-mail para ' + self.email)\n",
    "        # logica de envio de e-mail"
   ]
  },
  {
   "cell_type": "markdown",
   "metadata": {},
   "source": [
    "* Podemos então criar uma classe que herda de Cotact e MailSender:"
   ]
  },
  {
   "cell_type": "code",
   "execution_count": 31,
   "metadata": {},
   "outputs": [],
   "source": [
    "class EmailableContact(Contact, MailSender):\n",
    "    pass"
   ]
  },
  {
   "cell_type": "markdown",
   "metadata": {},
   "source": [
    "* Agora vamos testar a nossa classe híbrida:"
   ]
  },
  {
   "cell_type": "code",
   "execution_count": 32,
   "metadata": {},
   "outputs": [],
   "source": [
    "e = EmailableContact(\"John Smith\", \"jsmith@example.net\")"
   ]
  },
  {
   "cell_type": "code",
   "execution_count": 35,
   "metadata": {},
   "outputs": [
    {
     "name": "stdout",
     "output_type": "stream",
     "text": [
      "Enviando e-mail para jsmith@example.net\n"
     ]
    }
   ],
   "source": [
    "e.send_mail(\"Hello, test e-mail here\")"
   ]
  },
  {
   "cell_type": "markdown",
   "metadata": {},
   "source": [
    "* Observe que o objeto da classe *EmailableContact* também está sendo adicionado na lista *all_contacts*:"
   ]
  },
  {
   "cell_type": "code",
   "execution_count": 34,
   "metadata": {},
   "outputs": [
    {
     "data": {
      "text/plain": [
       "[<__main__.Contact at 0x7fd36333c828>,\n",
       " <__main__.Contact at 0x7fd36333cc50>,\n",
       " <__main__.Contact at 0x7fd36333ccc0>,\n",
       " <__main__.Friend at 0x7fd362ed2a58>,\n",
       " <__main__.EmailableContact at 0x7fd362ed2f98>]"
      ]
     },
     "execution_count": 34,
     "metadata": {},
     "output_type": "execute_result"
    }
   ],
   "source": [
    "Contact.all_contacts"
   ]
  },
  {
   "cell_type": "markdown",
   "metadata": {},
   "source": [
    "### Nota sobre envio de email em python\n",
    "\n",
    "* Caso queira realmente enviar um e-mail, segue abaixo um breve tutorial onde o remetente tem uma conta do gmail.\n",
    "    * Primeiro, acesse este [link](https://myaccount.google.com/lesssecureapps?pli=1) e dê permissão para aplicações menos seguras;\n",
    "    * A seguir, use o seguinte código:"
   ]
  },
  {
   "cell_type": "code",
   "execution_count": null,
   "metadata": {},
   "outputs": [],
   "source": [
    "import smtplib\n",
    "from email.mime.text import MIMEText\n",
    "from email.mime.multipart import MIMEMultipart\n",
    "\n",
    "email = 'seu_email@gmail.com'\n",
    "senha = input('Entre com a senha:')\n",
    "receptor = 'seu_email@gmail.com'\n",
    "assunto = 'Ufrr python - POO'\n",
    "conteudo = 'Aula de POO - Testando o envio de um email'\n",
    "\n",
    "msg = MIMEMultipart()\n",
    "msg['From'] = email\n",
    "msg['To'] = receptor\n",
    "msg['Subject'] = assunto\n",
    "msg.attach(MIMEText(conteudo, 'plain'))\n",
    "\n",
    "servidor = smtplib.SMTP('smtp.gmail.com', 587)\n",
    "servidor.starttls()\n",
    "servidor.login(email, senha)\n",
    "text = msg.as_string()\n",
    "servidor.sendmail(email, receptor, text)\n",
    "servidor.quit()"
   ]
  },
  {
   "cell_type": "markdown",
   "metadata": {},
   "source": [
    "* **Créditos**: o tutorial acima foi feito com base nesta [videoaula](https://www.youtube.com/watch?v=YPiHBtddefI) do canal PyTutorials;\n",
    "* Para um tutorial um pouco mais completo, acesso este [link](https://realpython.com/python-send-email/) do site real python;"
   ]
  },
  {
   "cell_type": "markdown",
   "metadata": {},
   "source": [
    "### Um pouco mais sobre herança múltipla\n",
    "\n",
    "* Note que poderíamos ter usado composição ao invés de herança na classe EmailableContact:\n",
    "    * A classe EmailableContact poderia ter um objeto MailSender ao invés de herdar dele, o que faz muito mais sentido;\n",
    "* Herança Múltipla pode se tornar bastante confuso quando precisamos invocar métodos da superclasse, uma vez que existem múltiplas superclasses;\n",
    "    * Para explorar um pouco mais sobre esse assunto, vamos criar uma classe que que modela objetos detentores de endereço:"
   ]
  },
  {
   "cell_type": "code",
   "execution_count": 36,
   "metadata": {},
   "outputs": [],
   "source": [
    "class AddressHolder:\n",
    "    def __init__(self, street, city, state, code):\n",
    "        self.street = street\n",
    "        self.city = city\n",
    "        self.state = state\n",
    "        self.code = code"
   ]
  },
  {
   "cell_type": "markdown",
   "metadata": {},
   "source": [
    "* Vamos usar a classe acima com pai da nossa classe Friend;\n",
    "* Entretanto, percebam que a classe Friend já herda de Contact e que usamos a palavra chave super para modificar um comportamento.\n",
    "    * Com hernaça múltipla, ao usar por exemplo, *super().\\_\\_init\\_\\_()* estamos nos referindo a qual das superclasses?\n",
    "    * Uma opção para tentar contornar esse problema é especificar a super classe e passar explicitamento o self como parâmetro no \\_\\_init\\_\\_() da superclasse, conforme segue:"
   ]
  },
  {
   "cell_type": "code",
   "execution_count": 38,
   "metadata": {},
   "outputs": [],
   "source": [
    "class Friend(Contact, AddressHolder):\n",
    "    def __init__(self, name, email, phone, street, city, state, code):\n",
    "        Contact.__init__(self, name, email)\n",
    "        AddressHolder.__init__(self, street, city, state, code)\n",
    "        self.phone = phone"
   ]
  },
  {
   "cell_type": "markdown",
   "metadata": {},
   "source": [
    "* O código acima funciona, mas é perigoso. \n",
    "* Veja o seguinte diagrama de classes:\n",
    "\n",
    "<img src=\"figures/class_diagram_mult_inheritance.png\"/>"
   ]
  },
  {
   "cell_type": "markdown",
   "metadata": {},
   "source": [
    "* Observe que:\n",
    "    * O método \\_\\_init\\_\\_() da classe Friends invoca o  \\_\\_init\\_\\_() de Contact, que implicitamente invoca o \\_\\_init\\_\\_() da classe Object;\n",
    "    * Subsequentemente, o método \\_\\_init\\_\\_() da classe Friends invoca o  \\_\\_init\\_\\_() de AddressHolder, que também implicitamente invoca o \\_\\_init\\_\\_() da classe Object;\n",
    "    * Assim, o \\_\\_init\\_\\_() da classe Object é chamado duas vezes;\n",
    "    * Para este cenário não há problema algum, mas imagine que no lugar de Object está a classe Database e no \\_\\_init\\_\\_() do Database temos uma conexão com o banco de dados;\n",
    "        * Faríamos a conexão duas vezes para cada requisição, o que pode ser desastroso;"
   ]
  },
  {
   "cell_type": "markdown",
   "metadata": {},
   "source": [
    "* Vejamos um segundo exemplo hipotético que ilustra esse problema mais claramente:\n",
    "    * Aqui temos uma classe base que possui um método chamado *call_me*;\n",
    "    * As subclasses LeftSubClass e RightSubClass herdam diretamente de BaseClass e sobreescrevem o método *call_me*;\n",
    "    * A classe Subclass herda de LeftSubClass e RightSubClass e também sobreescreve *call_me*;\n",
    "*  Isso é chamado de herança de diamante (diamond inheritance) devido à forma do diamante do diagrama de classes:\n",
    "\n",
    "<img src=\"figures/class_diagram_diamond.png\"/>"
   ]
  },
  {
   "cell_type": "markdown",
   "metadata": {},
   "source": [
    "* Vamos converter esse diagrama em código:"
   ]
  },
  {
   "cell_type": "code",
   "execution_count": 39,
   "metadata": {},
   "outputs": [],
   "source": [
    "class BaseClass:\n",
    "    num_base_calls = 0\n",
    "    def call_me(self):\n",
    "        print(\"Calling method on Base Class\")\n",
    "        self.num_base_calls += 1\n",
    "        \n",
    "class LeftSubclass(BaseClass):\n",
    "    num_left_calls = 0\n",
    "    def call_me(self):\n",
    "        BaseClass.call_me(self)#linha importante\n",
    "        print(\"Calling method on Left Subclass\")\n",
    "        self.num_left_calls += 1\n",
    "\n",
    "class RightSubclass(BaseClass):\n",
    "    num_right_calls = 0\n",
    "    def call_me(self):\n",
    "        BaseClass.call_me(self)#linha importante\n",
    "        print(\"Calling method on Right Subclass\")\n",
    "        self.num_right_calls += 1\n",
    "        \n",
    "class Subclass(LeftSubclass, RightSubclass):\n",
    "    num_sub_calls = 0\n",
    "    def call_me(self):\n",
    "        LeftSubclass.call_me(self)#linha importante\n",
    "        RightSubclass.call_me(self)#linha importante\n",
    "        print(\"Calling method on Subclass\")\n",
    "        self.num_sub_calls += 1"
   ]
  },
  {
   "cell_type": "markdown",
   "metadata": {},
   "source": [
    "* Vamos testar a nossa subclasse:"
   ]
  },
  {
   "cell_type": "code",
   "execution_count": 41,
   "metadata": {},
   "outputs": [
    {
     "name": "stdout",
     "output_type": "stream",
     "text": [
      "Calling method on Base Class\n",
      "Calling method on Left Subclass\n",
      "Calling method on Base Class\n",
      "Calling method on Right Subclass\n",
      "Calling method on Subclass\n",
      "1\n",
      "1\n",
      "1\n",
      "2\n"
     ]
    }
   ],
   "source": [
    "s = Subclass()\n",
    "s.call_me()\n",
    "print(s.num_sub_calls)\n",
    "print(s.num_left_calls)\n",
    "print(s.num_right_calls)\n",
    "print(s.num_base_calls)"
   ]
  },
  {
   "cell_type": "markdown",
   "metadata": {},
   "source": [
    "* Aqui podemos ver claramente a classe BaseClass sendo chamada duas vezes;\n",
    "* Apenas como mais uma demostração dos problemas que isso pode causar, imagine que esse método está realizando um depósito em um banco;\n",
    "*  O que você devemos ter em mente com herança múltipla é que só queremos chamar o método \"filho\" na hierarquia de classes, não o método \"pai\";"
   ]
  },
  {
   "cell_type": "markdown",
   "metadata": {},
   "source": [
    "* Podemos resolver isso usando o nosso **super**, que se encarregará de chamar o método da superclasse apenas uma vez;\n",
    "* Vamos reescrever nossa classe agora utilizando o super:"
   ]
  },
  {
   "cell_type": "code",
   "execution_count": 42,
   "metadata": {},
   "outputs": [],
   "source": [
    "class BaseClass:\n",
    "    num_base_calls = 0\n",
    "    def call_me(self):\n",
    "        print(\"Calling method on Base Class\")\n",
    "        self.num_base_calls += 1\n",
    "        \n",
    "class LeftSubclass(BaseClass):\n",
    "    num_left_calls = 0\n",
    "    def call_me(self):\n",
    "        super().call_me()#linha importante\n",
    "        print(\"Calling method on Left Subclass\")\n",
    "        self.num_left_calls += 1\n",
    "\n",
    "class RightSubclass(BaseClass):\n",
    "    num_right_calls = 0\n",
    "    def call_me(self):\n",
    "        super().call_me()#linha importante\n",
    "        print(\"Calling method on Right Subclass\")\n",
    "        self.num_right_calls += 1\n",
    "        \n",
    "class Subclass(LeftSubclass, RightSubclass):\n",
    "    num_sub_calls = 0\n",
    "    def call_me(self):\n",
    "        super().call_me()#linha importante\n",
    "        print(\"Calling method on Subclass\")\n",
    "        self.num_sub_calls += 1"
   ]
  },
  {
   "cell_type": "markdown",
   "metadata": {},
   "source": [
    "* Agora vamos novamente o nosso teste e perceba que a classe base só será chamada uma vez:"
   ]
  },
  {
   "cell_type": "code",
   "execution_count": 43,
   "metadata": {},
   "outputs": [
    {
     "name": "stdout",
     "output_type": "stream",
     "text": [
      "Calling method on Base Class\n",
      "Calling method on Right Subclass\n",
      "Calling method on Left Subclass\n",
      "Calling method on Subclass\n",
      "1\n",
      "1\n",
      "1\n",
      "1\n"
     ]
    }
   ],
   "source": [
    "s = Subclass()\n",
    "s.call_me()\n",
    "print(s.num_sub_calls)\n",
    "print(s.num_left_calls)\n",
    "print(s.num_right_calls)\n",
    "print(s.num_base_calls)"
   ]
  },
  {
   "cell_type": "markdown",
   "metadata": {},
   "source": [
    "Vale ressaltar como funcionou esse processo para que a classe base seja chamada apenas uma vez:\n",
    "* Primeiro foi invocado *call_me* da SubClass que chamou *super().call_me()*, que se refere a *LeftSubClass.call_me()*. \n",
    "* *LeftSubClass.call_me()*, por sua vez, chama *super().call_me()*, mas nesse caso, *super()* está se referindo a *RightSubclass.call_me()*;\n",
    "    * Assim sendo, o *super* na verdade não está sendo chamado na classe *LeftSubClass*;\n",
    "    * Ao invés disso, ele é chamado na *RightSubClass*;\n",
    "    * A *RightSubclass* que chama o *call_me()* da *BaseClass*;"
   ]
  },
  {
   "cell_type": "markdown",
   "metadata": {},
   "source": [
    "### Conjunto diferentes de argumentos\n",
    "\n",
    "* Voltando para nossa classe *Friend*, temos uma chamada ao \\_\\_init\\_\\_() para ambas as superclasses;\n",
    "    * Entretatando o conjunto de argumentos passados são diferentes para cada superclasse, conforme segue: "
   ]
  },
  {
   "cell_type": "code",
   "execution_count": null,
   "metadata": {},
   "outputs": [],
   "source": [
    "class Friend(Contact, AddressHolder):\n",
    "    def __init__(self, name, email, phone, street, city, state, code):\n",
    "        Contact.__init__(self, name, email) ## parâmetros diferentes\n",
    "        AddressHolder.__init__(self, street, city, state, code) ## parâmetros diferentes\n",
    "        self.phone = phone"
   ]
  },
  {
   "cell_type": "markdown",
   "metadata": {},
   "source": [
    "* Como podemos gerenciar diferentes conjuntos de argumentos com o **super**?\n",
    "    * Note que o que queremos é passar parâmetros adicionais nas subclasses;\n",
    "    * Assim, precisamos projetar a superclasse para que ela possa ser estendida com novos parâmetros inesperados;\n",
    "    * Para tanto, usaremos o **kwargs** na superclasse:"
   ]
  },
  {
   "cell_type": "code",
   "execution_count": 1,
   "metadata": {},
   "outputs": [],
   "source": [
    "class Contact:\n",
    "    all_contacts = []\n",
    "    \n",
    "    def __init__(self, name, email, **kwargs):\n",
    "        super().__init__(**kwargs)\n",
    "        self.name = name\n",
    "        self.email = email\n",
    "        self.all_contacts.append(self)\n",
    "        \n",
    "class AddressHolder:\n",
    "    def __init__(self, street='', city='', state='', code='', **kwargs):\n",
    "        super().__init__(**kwargs)\n",
    "        self.street = street\n",
    "        self.city = city\n",
    "        self.state = state\n",
    "        self.code = code\n",
    "        \n",
    "class Friend(Contact, AddressHolder):\n",
    "    def __init__(self, phone='', **kwargs):\n",
    "        super().__init__(**kwargs)\n",
    "        self.phone = phone"
   ]
  },
  {
   "cell_type": "markdown",
   "metadata": {},
   "source": [
    "### Nota sobre kwargs:\n",
    "\n",
    "* \\*\\*kwargs basicamente coleta todos os argumentos passados para o método que não foram listados explicitamente na lista de parâmetros.\n",
    "* esses argumentos são armazenados em um dicionário chamado kwargs;\n",
    "* Quando chamamos um método diferente (por exemplo, super().\\_\\_init\\_\\_) com ** kwargs, descompacta-se o dicionário e são passados os resultados para o método como argumentos normais;"
   ]
  },
  {
   "cell_type": "markdown",
   "metadata": {},
   "source": [
    "* Voltando ao código acima, a pergunta que fica é:\n",
    "    * Quando instanciarmos um objeto da classe Friend, o que deve ser passado como parâmetro (além do phone)?\n",
    "    * Para responder isso é importe disponibilizar os atributos possíveis no docstring, do contrário o usuário da classe ficará confuso:"
   ]
  },
  {
   "cell_type": "code",
   "execution_count": null,
   "metadata": {},
   "outputs": [],
   "source": [
    "f = Friend(phone='2121-3131') # e o que mais?"
   ]
  },
  {
   "cell_type": "markdown",
   "metadata": {},
   "source": [
    "Por fim, herança múltipla pode ser útil, mas em muitos casos é mais apropriado combinar classes usando composição ou um dos design patters que veremos nas próximas aulas;"
   ]
  },
  {
   "cell_type": "markdown",
   "metadata": {},
   "source": [
    "## Polimorfismo\n",
    "\n",
    "* Como vimos na primeira aula, polimorfismo é a capacidade do objeto de uma subclasse ser referenciado como uma superclasse para que, dependendo da subclasse, posso haver comportamentos diferentes.\n",
    "    * Em outras palavras, diferentes comportamentos podem ocorrer depedendo de qual subclasse está sendo usada, onde não existe a necessidade de sabermos explicitamente que subclasse é essa;  "
   ]
  },
  {
   "cell_type": "markdown",
   "metadata": {},
   "source": [
    "* Como um exemplo, imagine um programa que toca um arquivo de áudio;\n",
    "* Um *player* precisará carregar um objeto *AudioFile* e tocá-lo;\n",
    "    * Para tanto, deverá existe um método *play* na classe *AudioFile*;\n",
    "* O player basicamente executará o seguinte comando: "
   ]
  },
  {
   "cell_type": "code",
   "execution_count": null,
   "metadata": {},
   "outputs": [],
   "source": [
    "audio_file.play()"
   ]
  },
  {
   "cell_type": "markdown",
   "metadata": {},
   "source": [
    "* No entanto, o processo de compactação e extração de um arquivo de áudio é muito diferente para diferentes tipos de arquivos.\n",
    "* Os arquivos .wav são armazenados descompactados, enquanto os arquivos .mp3, .wma e .ogg possuem algoritmos de compactação totalmente diferentes.\n",
    "* Podemos usar polimorfismo e herança para facilitar o processo:\n",
    "    * Cada tipo de arquivo pode ser uma subclasse de AudioFile;\n",
    "    * Cada subclasse deve ter o método *play*, mas esse método será diferente em cada subclasse;\n",
    "    * O objeto media player nunca saberá que qua a subclasse do AudioFile está sendo referenciada;\n",
    "    * O objeto media player apenas irá chamar o método play() e o polimorfismo irá se encarregar dos detalhes de como realizer o play;\n",
    "* Vamos codificar isso:"
   ]
  },
  {
   "cell_type": "code",
   "execution_count": 9,
   "metadata": {},
   "outputs": [],
   "source": [
    "class AudioFile:\n",
    "    def __init__(self, filename):\n",
    "        if not filename.endswith(self.ext):\n",
    "            raise Exception(\"Invalid file format\")\n",
    "        self.filename = filename\n",
    "            \n",
    "class MP3File(AudioFile):\n",
    "    ext = \"mp3\"\n",
    "    def play(self):\n",
    "        print(\"tocando {} como mp3\".format(self.filename))\n",
    "        \n",
    "class WavFile(AudioFile):\n",
    "    ext = \"wav\"\n",
    "    def play(self):\n",
    "        print(\"tocando {} como wav\".format(self.filename))\n",
    "        \n",
    "class OggFile(AudioFile):\n",
    "    ext = \"ogg\"\n",
    "    def play(self):\n",
    "        print(\"tocando {} como ogg\".format(self.filename))"
   ]
  },
  {
   "cell_type": "markdown",
   "metadata": {},
   "source": [
    "* Todos os arquivos de áudio são verificados para garantir que uma extensão válida seja fornecida na inicialização;\n",
    "* Agora observe como o método \\_\\_init\\_\\_ da super classe *AudioFile* fez para acessar a extensão do arquivo (*self.ext*);\n",
    "    * Isso é polimorfismo. Se o nome do arquivo não terminar com o extensão correta, será gerada uma exceção (esse assunto será tratado na próxima aula);\n",
    "* Além disso, cada subclasse de AudioFile implementa o método *play()* de uma maneira diferente;\n",
    "    * Isso também é polimorfismo;\n",
    "    * O *media player* pode usar exatamente o mesmo código (audio_file.play()) para reproduzir um arquivo de áudio, independentemente do tipo; \n",
    "    * Não importa qual subclasse de AudioFile.\n",
    "* Vamos testar o código:"
   ]
  },
  {
   "cell_type": "code",
   "execution_count": 10,
   "metadata": {},
   "outputs": [
    {
     "name": "stdout",
     "output_type": "stream",
     "text": [
      "tocando myfile.ogg como ogg\n"
     ]
    }
   ],
   "source": [
    "ogg = OggFile(\"myfile.ogg\")\n",
    "ogg.play()"
   ]
  },
  {
   "cell_type": "code",
   "execution_count": 11,
   "metadata": {},
   "outputs": [
    {
     "name": "stdout",
     "output_type": "stream",
     "text": [
      "tocando myfile.mp3 como mp3\n"
     ]
    }
   ],
   "source": [
    "mp3 = MP3File(\"myfile.mp3\")\n",
    "mp3.play()"
   ]
  },
  {
   "cell_type": "code",
   "execution_count": 12,
   "metadata": {},
   "outputs": [
    {
     "ename": "Exception",
     "evalue": "Invalid file format",
     "output_type": "error",
     "traceback": [
      "\u001b[0;31m---------------------------------------------------------------------------\u001b[0m",
      "\u001b[0;31mException\u001b[0m                                 Traceback (most recent call last)",
      "\u001b[0;32m<ipython-input-12-80a298705989>\u001b[0m in \u001b[0;36m<module>\u001b[0;34m\u001b[0m\n\u001b[0;32m----> 1\u001b[0;31m \u001b[0mnot_an_mp3\u001b[0m \u001b[0;34m=\u001b[0m \u001b[0mMP3File\u001b[0m\u001b[0;34m(\u001b[0m\u001b[0;34m\"myfile.ogg\"\u001b[0m\u001b[0;34m)\u001b[0m\u001b[0;34m\u001b[0m\u001b[0;34m\u001b[0m\u001b[0m\n\u001b[0m",
      "\u001b[0;32m<ipython-input-9-0714db3a359a>\u001b[0m in \u001b[0;36m__init__\u001b[0;34m(self, filename)\u001b[0m\n\u001b[1;32m      2\u001b[0m     \u001b[0;32mdef\u001b[0m \u001b[0m__init__\u001b[0m\u001b[0;34m(\u001b[0m\u001b[0mself\u001b[0m\u001b[0;34m,\u001b[0m \u001b[0mfilename\u001b[0m\u001b[0;34m)\u001b[0m\u001b[0;34m:\u001b[0m\u001b[0;34m\u001b[0m\u001b[0;34m\u001b[0m\u001b[0m\n\u001b[1;32m      3\u001b[0m         \u001b[0;32mif\u001b[0m \u001b[0;32mnot\u001b[0m \u001b[0mfilename\u001b[0m\u001b[0;34m.\u001b[0m\u001b[0mendswith\u001b[0m\u001b[0;34m(\u001b[0m\u001b[0mself\u001b[0m\u001b[0;34m.\u001b[0m\u001b[0mext\u001b[0m\u001b[0;34m)\u001b[0m\u001b[0;34m:\u001b[0m\u001b[0;34m\u001b[0m\u001b[0;34m\u001b[0m\u001b[0m\n\u001b[0;32m----> 4\u001b[0;31m             \u001b[0;32mraise\u001b[0m \u001b[0mException\u001b[0m\u001b[0;34m(\u001b[0m\u001b[0;34m\"Invalid file format\"\u001b[0m\u001b[0;34m)\u001b[0m\u001b[0;34m\u001b[0m\u001b[0;34m\u001b[0m\u001b[0m\n\u001b[0m\u001b[1;32m      5\u001b[0m         \u001b[0mself\u001b[0m\u001b[0;34m.\u001b[0m\u001b[0mfilename\u001b[0m \u001b[0;34m=\u001b[0m \u001b[0mfilename\u001b[0m\u001b[0;34m\u001b[0m\u001b[0;34m\u001b[0m\u001b[0m\n\u001b[1;32m      6\u001b[0m \u001b[0;34m\u001b[0m\u001b[0m\n",
      "\u001b[0;31mException\u001b[0m: Invalid file format"
     ]
    }
   ],
   "source": [
    "not_an_mp3 = MP3File(\"myfile.ogg\")"
   ]
  },
  {
   "cell_type": "markdown",
   "metadata": {},
   "source": [
    "## Duck Typing\n",
    "\n",
    "* Como foi visto na primeira aula, **Duck Typing** em Python nos permite usar qualquer objeto que forneça o comportamento necessário sem forçá-lo a ser uma subclasse;\n",
    "* O exemplo a seguir não estende o da classe AudioFile, mas pode ser tocado no media player pois usa a mesma interface:"
   ]
  },
  {
   "cell_type": "code",
   "execution_count": null,
   "metadata": {},
   "outputs": [],
   "source": [
    "class FlacFile:\n",
    "    def __init__(self, filename):\n",
    "        if not filename.endswith(\".flac\"):\n",
    "            raise Exception(\"Invalid file format\")\n",
    "        self.filename = filename\n",
    "    def play(self):\n",
    "        print(\"playing {} as flac\".format(self.filename))"
   ]
  },
  {
   "cell_type": "markdown",
   "metadata": {},
   "source": [
    "### Notas:\n",
    "\n",
    "*  O polimorfismo é uma das razões mais importantes para usar a herança em muitos contextos orientados a objetos.\n",
    "* Como qualquer objeto que forneça a interface correta pode ser usado de forma intercambiável em Python, reduz-se a necessidade superclasses pensadas para realizar polimorfismo.\n",
    "* A herança ainda pode ser útil para o compartilhamento de código, mas, se tudo o que está sendo compartilhado é a interface pública, o Duck Typing é a técnica apropriada em python.\n",
    "    * Isso reduz a necessidade de herança simples e múltipla;\n",
    "    * Normalmente hernaça múltipla pode ser simulada com Duck Typing;"
   ]
  },
  {
   "cell_type": "markdown",
   "metadata": {},
   "source": [
    "## Classes Abstratas\n",
    "\n"
   ]
  },
  {
   "cell_type": "markdown",
   "metadata": {},
   "source": [
    "* Apesar do Duck Typing ser bastante útil, nem sempre é fácil saber com antecedência se uma classe vai cumprir o protocolo estabelecido na \"interface\".\n",
    "* Classes abstratas (Abstract Base Class - ABCs) definem um conjunto de métodos e propriedades que uma subclasse deve implementar para ser considerada uma instância duck typing;\n",
    "    * Uma classe torna-se uma subclasse da ABC ao fornecer a implementação de todos os métodos abstratos definidos na ABC."
   ]
  },
  {
   "cell_type": "markdown",
   "metadata": {},
   "source": [
    "### Usando uma classe abstrata\n",
    "\n",
    "* A maioria das classes abstratas que já existem na biblioteca padrão do python estão no módulo *collections*;\n",
    "    * Vemos inspecionar quais são os métodos abstratos da classe abstrata Container:"
   ]
  },
  {
   "cell_type": "code",
   "execution_count": 4,
   "metadata": {},
   "outputs": [
    {
     "data": {
      "text/plain": [
       "frozenset({'__contains__'})"
      ]
     },
     "execution_count": 4,
     "metadata": {},
     "output_type": "execute_result"
    }
   ],
   "source": [
    "from collections import Container\n",
    "Container.__abstractmethods__"
   ]
  },
  {
   "cell_type": "markdown",
   "metadata": {},
   "source": [
    "* Como podemos ver, a classe Container só tem o método abstrato *\\_\\_contains\\_\\_*;\n",
    "* Vamos usar o comando help para verificar a assinatura deste método:"
   ]
  },
  {
   "cell_type": "code",
   "execution_count": 5,
   "metadata": {},
   "outputs": [
    {
     "name": "stdout",
     "output_type": "stream",
     "text": [
      "Help on function __contains__ in module collections.abc:\n",
      "\n",
      "__contains__(self, x)\n",
      "\n"
     ]
    }
   ],
   "source": [
    "help(Container.__contains__)"
   ]
  },
  {
   "cell_type": "markdown",
   "metadata": {},
   "source": [
    "* A assinatura não é tão informatimava, mas podemos concluir intuitivamente que o *x* é o valor passado para verificar se ele está dentro do Container;\n",
    "* Esse método é implementado, por exemplo, pelas classes *list*, *str* e *dict* para indicar se um dado valor está ou não presente na estrutura de dados;\n",
    "* Entretanto, apenas para fins didáticos, vamos implementar um Container bem simples que verifica se um dado valor é do tipo inteiro e se ele é par:"
   ]
  },
  {
   "cell_type": "code",
   "execution_count": 6,
   "metadata": {},
   "outputs": [],
   "source": [
    "class OddContainer:\n",
    "    def __contains__(self, x):\n",
    "        if isinstance(x, int) and x%2==0:\n",
    "            return True\n",
    "        return False"
   ]
  },
  {
   "cell_type": "markdown",
   "metadata": {},
   "source": [
    "* Vamos testar o método *\\_\\_contains\\_\\_* do nosso Container de valores pares:"
   ]
  },
  {
   "cell_type": "code",
   "execution_count": 8,
   "metadata": {},
   "outputs": [
    {
     "data": {
      "text/plain": [
       "True"
      ]
     },
     "execution_count": 8,
     "metadata": {},
     "output_type": "execute_result"
    }
   ],
   "source": [
    "odd_container = OddContainer()\n",
    "odd_container.__contains__(2)"
   ]
  },
  {
   "cell_type": "code",
   "execution_count": 9,
   "metadata": {},
   "outputs": [
    {
     "data": {
      "text/plain": [
       "False"
      ]
     },
     "execution_count": 9,
     "metadata": {},
     "output_type": "execute_result"
    }
   ],
   "source": [
    "odd_container.__contains__('teste')"
   ]
  },
  {
   "cell_type": "markdown",
   "metadata": {},
   "source": [
    "* Agora note que ao implementar o método *\\_\\_contains\\_\\_* nossa classe passar a ser um Container (duck typing):"
   ]
  },
  {
   "cell_type": "code",
   "execution_count": 10,
   "metadata": {},
   "outputs": [
    {
     "data": {
      "text/plain": [
       "True"
      ]
     },
     "execution_count": 10,
     "metadata": {},
     "output_type": "execute_result"
    }
   ],
   "source": [
    "isinstance(odd_container, Container)"
   ]
  },
  {
   "cell_type": "markdown",
   "metadata": {},
   "source": [
    "* Nosso OddContainer é uma subclasse de Container (duck typing):"
   ]
  },
  {
   "cell_type": "code",
   "execution_count": null,
   "metadata": {},
   "outputs": [],
   "source": [
    "issubclass(OddContainer, Container)"
   ]
  },
  {
   "cell_type": "markdown",
   "metadata": {},
   "source": [
    "* Seguindo a filosofia do *duck typing*, se a classe tem o método *\\_\\_contains\\_\\_*, então ela é um Container ;-)\n",
    "* Isso torna duck typing uma alternativa em tanto se comparada ao polimorfismo clássico que depende da herança;"
   ]
  },
  {
   "cell_type": "markdown",
   "metadata": {},
   "source": [
    "### Nota\n",
    "\n",
    "* Algo interessante é que do Container ABC é que a palavra chave **in** do python nada mais é do que um *syntax sugar* do método \\_\\_contains\\_\\_;\n",
    "    * Assim sendo, qualquer classe que implementar o \\_\\_contains\\_\\_ é um Container e, portanto, pode usar o **in** conforme segue:"
   ]
  },
  {
   "cell_type": "code",
   "execution_count": 11,
   "metadata": {},
   "outputs": [
    {
     "data": {
      "text/plain": [
       "True"
      ]
     },
     "execution_count": 11,
     "metadata": {},
     "output_type": "execute_result"
    }
   ],
   "source": [
    "10 in odd_container"
   ]
  },
  {
   "cell_type": "code",
   "execution_count": 12,
   "metadata": {},
   "outputs": [
    {
     "data": {
      "text/plain": [
       "False"
      ]
     },
     "execution_count": 12,
     "metadata": {},
     "output_type": "execute_result"
    }
   ],
   "source": [
    "1 in odd_container"
   ]
  },
  {
   "cell_type": "code",
   "execution_count": 13,
   "metadata": {},
   "outputs": [
    {
     "data": {
      "text/plain": [
       "False"
      ]
     },
     "execution_count": 13,
     "metadata": {},
     "output_type": "execute_result"
    }
   ],
   "source": [
    "'uma string qualquer' in odd_container"
   ]
  },
  {
   "cell_type": "markdown",
   "metadata": {},
   "source": [
    "### Criando nossas próprias ABCs\n",
    "\n",
    "* Como vimos anteriormente, não é necessário criar uma ABC para permitir o uso do duck typing;\n",
    "* No entanto, imagine que imagine que queremos criar um media player com plugins de terceiros.\n",
    "* É recomendável criar uma ABC para documentar qual API os plug-ins de terceiros devem fornecer.\n",
    "    * Vejamos como fazer isso:"
   ]
  },
  {
   "cell_type": "code",
   "execution_count": 15,
   "metadata": {},
   "outputs": [],
   "source": [
    "import abc\n",
    "\n",
    "class MediaLoader(metaclass=abc.ABCMeta):\n",
    "    @abc.abstractmethod\n",
    "    def play(self):\n",
    "        pass\n",
    "    \n",
    "    @abc.abstractproperty\n",
    "    def ext(self):\n",
    "        pass\n",
    "    \n",
    "    @classmethod\n",
    "    def __subclasshook__(cls, C):\n",
    "        if cls is MediaLoader:\n",
    "            attrs = set(dir(C))\n",
    "            if set(cls.__abstractmethods__) <= attrs:\n",
    "                return True\n",
    "            \n",
    "            return NotImplemented"
   ]
  },
  {
   "cell_type": "markdown",
   "metadata": {},
   "source": [
    "* Este é um exemplo complicado, onde alguns recursos serão explicados posteriormente;\n",
    "    * Nota: você não precisa entender tudo isso para ter uma ideia de como criar sua própria ABC.\n",
    "* De modo bem superficial, ao usar *metaclass=abc.ABCMeta* na linha 3, estamos dando à classe MediaLoader poderes de superclasse;\n",
    "* A seguir usamos os decarators *@abc.abstractmethod* e *@abc.abstractproperty* para impor que subclasses desta superclasse deve fornecer implementação para esse método/propriedade;\n",
    "    * Veja abaixo o que acontece se não fornecermos implementações para esse método e propriedade:"
   ]
  },
  {
   "cell_type": "code",
   "execution_count": 17,
   "metadata": {},
   "outputs": [],
   "source": [
    "class Wav(MediaLoader):\n",
    "    pass"
   ]
  },
  {
   "cell_type": "code",
   "execution_count": 18,
   "metadata": {},
   "outputs": [
    {
     "ename": "TypeError",
     "evalue": "Can't instantiate abstract class Wav with abstract methods ext, play",
     "output_type": "error",
     "traceback": [
      "\u001b[0;31m---------------------------------------------------------------------------\u001b[0m",
      "\u001b[0;31mTypeError\u001b[0m                                 Traceback (most recent call last)",
      "\u001b[0;32m<ipython-input-18-3bef4301f672>\u001b[0m in \u001b[0;36m<module>\u001b[0;34m\u001b[0m\n\u001b[0;32m----> 1\u001b[0;31m \u001b[0mx\u001b[0m \u001b[0;34m=\u001b[0m \u001b[0mWav\u001b[0m\u001b[0;34m(\u001b[0m\u001b[0;34m)\u001b[0m\u001b[0;34m\u001b[0m\u001b[0;34m\u001b[0m\u001b[0m\n\u001b[0m",
      "\u001b[0;31mTypeError\u001b[0m: Can't instantiate abstract class Wav with abstract methods ext, play"
     ]
    }
   ],
   "source": [
    "x = Wav()"
   ]
  },
  {
   "cell_type": "markdown",
   "metadata": {},
   "source": [
    "* Como a classe Wav não fornece as implementações dos itens abstratos, então ela no pode ser instanciada;\n",
    "    * Nesse caso, ao não fornecer tais implementações Wav se torna uma classe abstrata também e **classes abstratas não podem ser instanciadas**;\n",
    "* Agora, como contraexemplo, vamos criar uma classe que implementa o método e a propriedade abstrata:"
   ]
  },
  {
   "cell_type": "code",
   "execution_count": 19,
   "metadata": {},
   "outputs": [],
   "source": [
    "class Ogg(MediaLoader):\n",
    "    ext = '.ogg'\n",
    "    \n",
    "    def play(self):\n",
    "        pass"
   ]
  },
  {
   "cell_type": "code",
   "execution_count": 20,
   "metadata": {},
   "outputs": [],
   "source": [
    "o = Ogg()"
   ]
  },
  {
   "cell_type": "markdown",
   "metadata": {},
   "source": [
    "* Voltando a nossa classe abstrata MediaLoader, vamos analisar o método *\\_\\_subclasshook\\_\\_*;\n",
    "    * Esse é o método que informa que qualquer classe que fornecer uma implementação concreta de todos os itens abstratos da classe MediaLoader é uma subclasse de MediaLoader, **mesmo se a subclasse não herdar de MediaLoader**;\n",
    "* Linguagens orientadas a objetos mais comuns têm uma clara separação entre a interface e a implementação de uma classe.\n",
    "    *  Por exemplo, algumas linguagens de programação fornecem uma palavra-chave **interface** que nos permite definir os métodos que uma classe deve ter sem nenhuma implementação.\n",
    "    * Nesse tipo de linguagem, normalmente uma classe abstrata é aquela que fornece uma interface e uma implementação concreta de alguns métodos, mas não de todos os métodos.\n",
    "* Os ABCs do Python ajudam a fornecer a funcionalidade das interfaces sem comprometer os benefícios do duck typing;"
   ]
  },
  {
   "cell_type": "markdown",
   "metadata": {},
   "source": [
    "### Um pouco mais sobre a classe MediaLoader\n",
    "\n"
   ]
  },
  {
   "cell_type": "code",
   "execution_count": null,
   "metadata": {},
   "outputs": [],
   "source": []
  },
  {
   "cell_type": "code",
   "execution_count": null,
   "metadata": {},
   "outputs": [],
   "source": []
  },
  {
   "cell_type": "code",
   "execution_count": null,
   "metadata": {},
   "outputs": [],
   "source": []
  },
  {
   "cell_type": "code",
   "execution_count": null,
   "metadata": {},
   "outputs": [],
   "source": []
  },
  {
   "cell_type": "markdown",
   "metadata": {},
   "source": [
    "## Exercício Avaliativo\n",
    "\n",
    "* Faça os execícios da seção 10.7 e 10.9, 11.4 e 11.6 da apostila **py14** da caelum. Envie as soluções pelo SIGAA. As soluções podem ser enviadas através de um arquivo compactado ou arquivo com o link do github com seu código;"
   ]
  }
 ],
 "metadata": {
  "kernelspec": {
   "display_name": "Python 3",
   "language": "python",
   "name": "python3"
  },
  "language_info": {
   "codemirror_mode": {
    "name": "ipython",
    "version": 3
   },
   "file_extension": ".py",
   "mimetype": "text/x-python",
   "name": "python",
   "nbconvert_exporter": "python",
   "pygments_lexer": "ipython3",
   "version": "3.6.9"
  }
 },
 "nbformat": 4,
 "nbformat_minor": 2
}
