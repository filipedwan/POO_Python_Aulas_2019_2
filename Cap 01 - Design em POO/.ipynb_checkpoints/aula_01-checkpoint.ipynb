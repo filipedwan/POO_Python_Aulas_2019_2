{
 "cells": [
  {
   "cell_type": "markdown",
   "metadata": {},
   "source": [
    "<center>\n",
    "    <table>\n",
    "        <tr>\n",
    "            <th> <img src=\"figures/ufrr_logo.png\" width=75px> </th>\n",
    "            <th> <img src=\"figures/dcc.jpg\" width=100px> </th>\n",
    "        </tr>\n",
    "    <table>\n",
    "    <font size=4>\n",
    "    Universidade Federal de Roriama\n",
    "    <br>\n",
    "    Departamento de Ciência da Computação\n",
    "    <br>\n",
    "    Professor: Filipe Dwan Pereira\n",
    "    <br>\n",
    "    Código da disciplina: DCC305\n",
    "    <br>\n",
    "    Período: 2019.2\n",
    "    </font>\n",
    "</center>"
   ]
  },
  {
   "cell_type": "markdown",
   "metadata": {},
   "source": [
    "## Disclaimer\n",
    "\n",
    "Esta aula é uma adaptação do capítulo 1 do livro:\n",
    "\n",
    "* Phillips, Dusty. Python 3 Object-oriented Programming - Unleash the power of Python 3 objects. \"Packt Publishing\", 2019. Second Edition."
   ]
  },
  {
   "cell_type": "markdown",
   "metadata": {},
   "source": [
    "# Introdução à orientação a objetos\n",
    "\n",
    "* Orientação a objetos é um paradigma de programação para desenvolvimento de software;\n",
    "* Veja abaixo os 3 estágios desse paradigma:"
   ]
  },
  {
   "cell_type": "markdown",
   "metadata": {},
   "source": [
    "## Análise Orientada a Objetos (OOA)\n",
    "\n",
    "* Objeto é uma coleção de **dados** com **comportamentos** associados;\n",
    "* A análise orientada a objetos (OOA) é o processo de examinar um problema, sistema ou tarefa (que alguém deseja transformar em uma aplicação) e identificar os objetos e as interações entre esses objetos. \n",
    "    * A saída do estágio de análise é um conjunto de requisitos.\n",
    "    * A OOA transforma uma tarefa como \"eu preciso de um site\" em um conjunto de requisitos;\n",
    "    * Veja no exemplo abaixo onde as ações estão em itálico e os objetos em negrito:\n",
    "        * *revisão* de **histórico**;\n",
    "        * *procurar*, *comparar*, *encomendar* e *comprar* **produtos**.\n",
    "    * No desenvolvimento de software, os estágios iniciais de análise incluem entrevistar clientes, estudar seus processos e eliminar possibilidades."
   ]
  },
  {
   "cell_type": "markdown",
   "metadata": {},
   "source": [
    "## Design Orientado a Objetos (OOD)\n",
    "\n",
    "* Design orientado a objetos é o processo de converter esses requerimentos em especificações de implementação.\n",
    "    * Especificação de implementação pode ser vista como um conjunto de classes e interfaces que poderiam ser implementadas em (idealmente) qualquer linguagem de programação orientada a objetos.\n",
    "* O *designer* deve nomear os objetos, definir os comportamentos e especificar formalmente quais objetos podem ativar comportamentos específicos em outros objetos."
   ]
  },
  {
   "cell_type": "markdown",
   "metadata": {},
   "source": [
    "## Programação Orientada a Objetos (OOP)\n",
    "\n",
    "* Programação Orientada a Objetos é o processo de converter o OOD definido em um sistema funcional;"
   ]
  },
  {
   "cell_type": "markdown",
   "metadata": {},
   "source": [
    "## Sobreposição entre os estágios\n",
    "\n",
    "* Infelizmente, normalmente encontraremos problemas que precisam de análise adicional enquanto estamos fazendo o design. \n",
    "* Quando estamos programando, encontramos recursos que precisam de esclarecimento no design.\n",
    "* Atualmente a maior parte do desenvolvimento acontece iterativamente. \n",
    "    * No desenvolvimento iterativo, uma pequena parte da tarefa é modelada, projetada, programado\n",
    "    * O programa é revisado e expandido para melhorar cada recurso e incluir novos recursos em uma série de ciclos de desenvolvimento curtos."
   ]
  },
  {
   "cell_type": "markdown",
   "metadata": {},
   "source": [
    "* A seguir veremos um pouco mais sobre OOD:"
   ]
  },
  {
   "cell_type": "markdown",
   "metadata": {},
   "source": [
    "## Objetos e Classes\n",
    "\n",
    "* Objeto é uma coleção de dados com comportamentos associados;\n",
    "    * Mas como diferenciamos os tipos de objetos?\n",
    "* Por fins didáticos, vamos fingir que estamos fazendo um aplicação de inventário para uma fazenda de frutas.\n",
    "* Para facilitar o exemplo, podemos supor que as maçãs são guardadas em barris (*barrels*) e as laranjas em cestos (*basckets*).\n",
    "    * Agora temos 4 **tipos** de objetos: maça, laranja, barris e cestos;\n",
    "    * Em modelagem orientada a objetos chamamos os *tipos de objetos* de **classe**;\n",
    "    * Assim, em termos técnicos, temos 4 classes de objetos;"
   ]
  },
  {
   "cell_type": "markdown",
   "metadata": {},
   "source": [
    "### Qual a diferença entre classes e objetos?\n",
    "\n",
    "* Classes descrevem objetos;\n",
    "* São como plantas para criar um objeto;\n",
    "* Você pode ter três laranjas à sua frente. \n",
    "* Cada laranja é um objeto distinto, mas todos os três têm os atributos e comportamentos associados a uma classe: a classe geral de laranjas.\n",
    "* Em OOP é comum dizer que um objeto é uma **instância** de uma classe;"
   ]
  },
  {
   "cell_type": "markdown",
   "metadata": {},
   "source": [
    "## Unified Modeling Language (UML)\n",
    "\n",
    "* A relação entre as quatro classes de objetos em nosso sistema de inventário pode ser descrita usando uma Linguagem de Modelagem Unificada;\n",
    "* Abaixo veremos um exemplo de um primeiro exemplo de **diagrama de classes**:\n",
    "\n",
    "<img src=\"figures/01-classes-diagram_.png\"/>\n",
    "\n",
    "* Note que a laranja está associada ao cesto e a maçã ao barril;\n",
    "* **Associação** é a forma mais básica de relação entre duas classes;\n",
    "* Na figura podemos observar também a cardinalidade da relação;"
   ]
  },
  {
   "cell_type": "markdown",
   "metadata": {},
   "source": [
    "## Especificando Atributos e Comportamentos\n",
    "\n",
    "* Uma classe pode definir conjuntos específicos de características que são compartilhados por todos os objetos dessa classe.\n",
    "* Qualquer objeto específico pode ter valores de dados diferentes para tais características.\n",
    "* Para ilustrar, três laranjas da fazenda podem ter diferentes pesos (*weight*);\n",
    "    * A classe laranja pode então ter o atributo *weight*;\n",
    "    * Assim, todas as instâncias da classe laranja têm um atributo weight, mas cada laranja tem um valor diferente para esse atributo.\n",
    "    * No entanto, atributos não precisam ser únicos (duas laranjas quaisquer podem pesar a mesma quantidade);\n",
    "    * Como um exemplo mais realista, dois objetos representando clientes diferentes podem ter o mesmo valor para o atributo *primeiro nome*;"
   ]
  },
  {
   "cell_type": "markdown",
   "metadata": {},
   "source": [
    "### Atributos\n",
    "\n",
    "* Atributos podem ser vistos como **o que tem** (membros ou propriedades) todos objetos de uma classe e são importantes para escopo do problema:\n",
    "\n",
    "<img src=\"figures/02-class-diagram-attributes_.png\"/>"
   ]
  },
  {
   "cell_type": "markdown",
   "metadata": {},
   "source": [
    "### Comportamentos\n",
    "\n",
    "* Comportamentos são ações que ocorrem em um objeto, isto é, **o que faz** o objeto ;\n",
    "* Os comportamentos que podem ser executados em uma classe específica de objetos são chamados de **métodos**;\n",
    "    * No nível de programação, os métodos são como funções na programação estruturada, com a diferença de que métods têm acesso a todos os dados associados a esse objeto.\n",
    "\n",
    "<img src=\"figures/03-class-diagram-methods.png\"/>"
   ]
  },
  {
   "cell_type": "markdown",
   "metadata": {},
   "source": [
    "* Note que cada objeto pode estar em um **estado** diferente, isto é, os dados em cada objeto podem ser diferentes;\n",
    "* Assim, cada objeto pode reagir a um método de maneira diferente em função de seu estado;"
   ]
  },
  {
   "cell_type": "markdown",
   "metadata": {},
   "source": [
    "## Escondendo detalhes e criando interfaces públicas\n",
    "\n",
    "* O objetivo principal da modelagem de um objeto no design orientado a objeto é determinar qual será a **interface** pública desse objeto;\n",
    "    * A interface é a coleção de atributos e métodos que outros objetos podem usar para interagir com esse objeto;\n",
    "    * Normalmente não é permitido o acesso ao funcionamento interno do objeto;\n",
    "        * Um exemplo comum é a televisão.\n",
    "        * Nossa interface para a televisão é o controle remoto.\n",
    "    * Esse processo de esconder a implementação (detalhes de funcionamento de um objeto) é conhecido como **encapsulamento**;\n",
    "        * Note que encapsulamento vai além disso. Iremos discutir isso no momento adequado;"
   ]
  },
  {
   "cell_type": "markdown",
   "metadata": {},
   "source": [
    "* A interface pública deve ser cuidadosamente modelada, uma vez que é difícil modificá-la no futuro;\n",
    "    * Mudar uma interface vai mudar a forma como o cliente do objeto faz uso dela;\n",
    "    * Note que você pode mudar o funcionamento interno sem nenhuma preocupação (o que é uma vantagem do encapsulamento);\n",
    "    * É importante projetar uma interface de um objeto pensando no quão fácil será usá-la, e não quão difícil será codificá-la."
   ]
  },
  {
   "cell_type": "markdown",
   "metadata": {},
   "source": [
    "## Abstração\n",
    "\n",
    "* Programa-se objetos para que eles representem objetos reais, mas eles não são reais ;-)\n",
    "    * Eles são modelos!\n",
    "* Um dos pontos mais importantes em modelagem é ignorar detalhes irrelevantes;\n",
    "    * O modelo é uma **abstração** do conceito real;\n",
    "* Abstração é um conceito relacionado com encapsulamento.\n",
    "    * Abstração significa lidar com o nível de detalhe que é mais apropriado para uma determinada tarefa;\n",
    "    * Abstração é o processo de extrair a interface pública dos detalhes internos;  "
   ]
  },
  {
   "cell_type": "markdown",
   "metadata": {},
   "source": [
    "### Exemplo de Abstração\n",
    "\n",
    "A Figura abaixo mostra dois níveis de abstração diferentes de um carro (a abstração de um carro sob a perspectiva de um motorista e um mecânico):\n",
    "\n",
    "<img src=\"figures/04-abstraction.png\"/>\n",
    "\n",
    "* Observe que o funcionamento interno do carro não importa para o motorista, apenas a interface pública;\n",
    "* Por outro lado, um mecânico trabalha em nível de abstração diferente;"
   ]
  },
  {
   "cell_type": "markdown",
   "metadata": {},
   "source": [
    "## Resumindo\n",
    "\n",
    "* Abstração é o processo de encapsulamento de informação que separa interfaces públicas e privadas;\n",
    "* A lição importante a ser tirada de todas essas definições é **tornar nossos modelos compreensíveis para outros objetos** que precisam interagir com eles.\n",
    "    * Assegure-se de que métodos e propriedades tenham nomes sensatos.\n",
    "    * Ao analisar um sistema, os objetos geralmente representam substantivos no problema original, enquanto os métodos são normalmente verbos.\n",
    "    * Não tente modelar objetos ou ações que possam ser úteis no futuro.\n",
    "        * Isso não quer dizer que a aplicação não possa ser alterada (pelo contrário, o app deve ser open-ended);\n",
    "        * Não deixe objetos terem acesso a dados que não são necessário;\n",
    "            * Imagine que objetos tem prioridade por privacidade;"
   ]
  },
  {
   "cell_type": "markdown",
   "metadata": {},
   "source": [
    "## Composição\n",
    "\n",
    "* Mesmo os padrões de projeto mais complexo dependem de dois famosos princípios da OOP: composição e herança.\n",
    "* Composição é o ato de coletar vários objetos juntos para criar um novo.\n",
    "    * A composição geralmente é uma boa escolha quando um objeto faz parte de outro objeto.\n",
    "    * Ex.: Um carro é composto de um motor, transmissão, motor de arranque, faróis, pára-brisa, entre inúmeras outras partes.\n",
    "        * O motor, por sua vez, é composto de pistões, um eixo de manivela e válvulas."
   ]
  },
  {
   "cell_type": "markdown",
   "metadata": {},
   "source": [
    "### Exemplo de Composição\n",
    "\n",
    "Pense em um jogo de xadrez, onde temos dois jogadores que jogam em um tabuleiro com peças (**Chess Set**):\n",
    "\n",
    "<img src=\"figures/05-chess-set_1.png\"/>"
   ]
  },
  {
   "cell_type": "markdown",
   "metadata": {},
   "source": [
    "* Vamos pensar somente em como seria feita uma composição no **Chess Set**;\n",
    "    * tabuleiro possui 32 peças e 64 posições (uma matriz 8x8);\n",
    "* Note que as peças não fazem parte do tabuleiro, o que nos leva ao conceito de **agregação**;\n",
    "* Em OOP, agregação tem quase que o mesmo significado que composição;\n",
    "    * A diferença é que na agregação os objetos podem existir independentemente.\n",
    "* Note que seria impossível uma posição existir independentemente do tabuleiro;\n",
    "    * Assim, dizemos que o tabuleiro é composto por posições;\n",
    "* Mas as peças, que podem existir independentemente do tabuleiro, são vistas com uma relação de agregação com o tabuleiro;"
   ]
  },
  {
   "cell_type": "markdown",
   "metadata": {},
   "source": [
    "* Outro exemplo:\n",
    "    * Se o objeto composto (externo) controla quando os objetos relacionados (internos) são criados e destruídos, a composição é mais adequada. \n",
    "    * Se o objeto relacionado for criado independentemente do objeto composto ou puder durar mais que esse objeto, um relacionamento agregado fará mais sentido. \n",
    "    * Além disso, tenha em mente que composição é agregação;\n",
    "    * Entretanto, a recíprico pode não ser verdadeira;"
   ]
  },
  {
   "cell_type": "markdown",
   "metadata": {},
   "source": [
    "* A Figura abaixo mostra como poderia ficar a composição no nosso Chess Set:\n",
    "\n",
    "<img src=\"figures/06-chess-board-composition.png\"/>"
   ]
  },
  {
   "cell_type": "markdown",
   "metadata": {},
   "source": [
    "## Herença\n",
    "\n",
    "* Observe que um jogador de xadrez pode ser um humano ou uma implementação de inteligência artificial (rob);\n",
    "    * Não parece sensato dizer que um hamano está associado a um jogador ou mesmo que a IA está associado a um jogador;\n",
    "    * Na verdade, precisamos de um relacionamento que permita afirmar que o \"Gary Kasparov\" é um jogador e o robô (com a IA) é um jogador.\n",
    "    * Quando existe esse relacionamento de \"É UM\", dizemos que existe uma relação de herança.\n",
    "* A herança funciona como uma árvore genealógica.\n",
    "    * Um filho herda de seu pai um sobrenome e uma carga genética;\n",
    "* Em OOP, uma classe herda atributos e métodos de uma outra classe;"
   ]
  },
  {
   "cell_type": "markdown",
   "metadata": {},
   "source": [
    "* Para ilustrar, existem 32 peças de xadrez no nosso *chess set*;\n",
    "    * Entretanto, existem apenas 6 tipos diferentes de peças, onde cada uma se comportamenta diferentemente em relação aos seus movimentos no tabuleiro;\n",
    "    * Todas as classes possuem propriedades em comum como cor, forma, qual chess set que ela faz parte e etc."
   ]
  },
  {
   "cell_type": "markdown",
   "metadata": {},
   "source": [
    "A Figura abaixo mostra como essas 6 peças herdam da classe mais genérica \"Piece\", onde as setas indicam a relação de herança:\n",
    "\n",
    "<img src=\"figures/class_diagram_heranca.png\"/>\n",
    "\n",
    "* Cada subclasse possui automaticamente os atributos **chess_set** e **color**.\n",
    "    * Tais atributos foram herdados da superclasse Piece."
   ]
  },
  {
   "cell_type": "markdown",
   "metadata": {},
   "source": [
    "* Observe que todas as classes possuem o atributo *shape* e o método *move*;\n",
    "    * Assim sendo, hipoteticamente ambos poderiam ir para a superclasse;\n",
    "    * O problema é que cada peça tem uma maneira única de movimento;\n",
    "    * Assim, existe um recurso que permite que se sobrescreva (**override**) o comportamento de um método na subclasse;\n",
    "* Observe ainda que se usássemos apenas herança colocando o método move, o programador seria obrigado a sobreescrever o método *move* em todas as subclasses.\n",
    "    * E se o programador não sobreescrever?\n",
    "        * Resposta: teríamos uma inconcistência em nosso sistema (ex.: um cavalo que não se movimenta em L ou uma torre que não se movimenta apenas horizontalmente ou verticalmente);"
   ]
  },
  {
   "cell_type": "markdown",
   "metadata": {},
   "source": [
    "* Quando não queremos que as subclusses herdem um comportamento padrão, podemos especificar na superclasse que as subclasses precisarão implementar o método **move**.\n",
    "    * Nesse sentido, a subclasse herda uma obrigação ao invés de um comportamento padrão.\n",
    "    * Isso pode ser feito fazendo com que a classes Piece seja uma **classe abstratas** e o método **move** seja um **método abstrato**.\n",
    "    * Métodos abstratos basicamente diz: \"exigimos que este método exista em qualquer subclasse não abstrata, mas não especificamos uma implementação nesta classe\"."
   ]
  },
  {
   "cell_type": "markdown",
   "metadata": {},
   "source": [
    "## Herança fornece abstração\n",
    "\n",
    "* Um dos conceitos mais importantes em OOP é o **polimorfismo**;\n",
    "* **Polimorfismo** é a habilidade de tratar diferentemente um objetos de uma superclasse, dependendo de qual subclasse ele foi implementado;\n",
    "* Para ilustrar, quando é executado um movimento (método *move*) em um objeto *Piece* (uma peça) o movimento será diferente dependendo da subclasse (King, Bishop, Knight e etc), mas a chamada ao método será a mesma (*move* da superclasse *Piece*);\n",
    "* No python esse conceito vai um pouco além.\n",
    "    * O tabuleiro pode mover qualquer objeto que tenho o método *move* (seja ele peça, um carro ou um pato);\n",
    "    * Quando o método *move* é invocado, o Bispo (*Bishop*) irá se mover em diagonal, o carro irá para algum lugar e o pato irá nadar (ou voar...);\n",
    "    * Esse tipo de polimorfismo no python é tipicamente referenciado como **duck typing**:\n",
    "        * \"If it walks like a duck or swims like a duck, it's a duck\".\n",
    "        * Não é importante se ele É UM pato (herança), o que é importante é se ele é nada (swim) e anda (walk);\n",
    "        * Isso facilita o processo de criação de novos tipos de pássaros sem se preocupar com a hierarquia da herança;\n",
    "        * Além disso, isso permite que comportametos não planejados polo designer da classe;"
   ]
  },
  {
   "cell_type": "markdown",
   "metadata": {},
   "source": [
    "## Herança Múltipla\n",
    "\n",
    "* Quando pensamos em herança, podemos pensar na nossa família;\n",
    "* OOD também permite essa opção de herança múltipla, que permite uma classe herdar de múltiplas classes;\n",
    "    * Na prática, essa opção pode se tornar bem complicada e algumas linguagem de programação a proibem (ex.: Java);\n",
    "    * Mas, em alguns casos, a herança múltipla pode ser útil;\n",
    "        Ex.: um Professor pode herdar de Pessoa e Funcionário;\n",
    "* Um dos problemas dessa abordagem é haver métodos ou atributos iguais nas superclasses. Nesse caso, cada linguagem de programação pode tratar o problema de uma forma diferente.\n",
    "    * Na prática, sugere-se fortemente evitar que isso aconteça."
   ]
  },
  {
   "cell_type": "markdown",
   "metadata": {},
   "source": [
    "## Associação vs Herança\n",
    "\n",
    "* Uma maneira simples de indentificar associação é quando usamo o termo \"tem um\" \n",
    "* Já na herança usamos o termo \"é um\";\n",
    "* Exemplo:\n",
    "    * um carro TEM UM motor -> associação;\n",
    "    * um corolla É UM carro -> herança;"
   ]
  },
  {
   "cell_type": "markdown",
   "metadata": {},
   "source": [
    "## Estudo de Caso\n",
    "\n",
    "* Agora vamos modelar um caso mais prático: um sistema de catálogo de livrarias;\n",
    "* Antes de falarmos com o cliente, o que sabemos sobre catálogos de livrarias:\n",
    "    * Catálogos contém listas de livros;\n",
    "    * Pessoas procurarm por livros de certos assuntos, títulos específicos ou por autores;\n",
    "    * Livros são unicamente identificados por um *International Standard Book Number* (ISBN);\n",
    "    *  Cada livro tem um número de *Dewey Decimal System* (DDS) atribuído para ajudar a encontrá-lo em uma prateleira particular."
   ]
  },
  {
   "cell_type": "markdown",
   "metadata": {},
   "source": [
    "* A partir disso, podemos notar que Book será nosso principal objeto com muitos atributos como autor, título, assunto, ISBN, número DDS e catálogo;\n",
    "* Observe que Autor será também um objeto, uma vez que um autor possui atributos como nome, filiação e etc.\n",
    "    * A relação de livro e autor é uma associação, já que um livro TEM UM autor(es).\n",
    "* Precisamos de uma classe *User*?\n",
    "    * Apriori, não! Só precisamos de um catálogo e não precisamos rastrear os dados de usuários;"
   ]
  },
  {
   "cell_type": "markdown",
   "metadata": {},
   "source": [
    "* Em relação ao catálogo?\n",
    "    * Precisaremos de um método de busca;\n",
    "        * A busca poderá ser realizada por autor, título e assunto;\n",
    "    * Bem, já podemos criar um esquema para mostrá-lo ao bibliotecário:\n",
    "\n",
    "<img src=\"figures/esquema-catalogo.png\"/>"
   ]
  },
  {
   "cell_type": "markdown",
   "metadata": {},
   "source": [
    "* Ao apresentar o simples esquema ao bibliotecário, este informou que livrarias não contém somentes livros, mas DVDs, revistas e CDs.\n",
    "    * Nenhum desses possuem ISBN ou número DDS.\n",
    "    * Como só existem poucos CDs, eles são organizados pelo último nome do autor;\n",
    "    * Os DVDs são organizados por gênero e título;\n",
    "    * Revistas são organizadas por título, volume e issue number;\n",
    "    * Como dito anteriormente, os livros são organizados pelo DDS."
   ]
  },
  {
   "cell_type": "markdown",
   "metadata": {},
   "source": [
    "* Como todos os itens da livraria tem características em comum, podemos usar herança e definir nas subclasses as especificidades:\n",
    "\n",
    "<img src=\"figures/catalog-heranca.png\"/>"
   ]
  },
  {
   "cell_type": "markdown",
   "metadata": {},
   "source": [
    "* O funcionário da livraria entendeu nosso sistema, mas ficou confuso em relação à funcionalidade do **locate**.\n",
    "* Vamos explicar usando um diagrama de sequências onde um usuário procura pela palavra \"bunnies\". Veja abaixo como os objetos se comunicam:\n",
    "\n",
    "<img src=\"figures/caso-de-uso-locate.png\"/>\n",
    "\n",
    "* O usuário faz uma requisição de busca ao catálogo. O catálogo procura na usa lista interna de itens e encontra um livro e um DVD onde aparece no título \"bunnies\". São retornodos para o usuário a localização de ambos os itens."
   ]
  },
  {
   "cell_type": "markdown",
   "metadata": {},
   "source": [
    "* Várias pessoas podem contribuir com um item da livraria:\n",
    "    * Para CDs, tem-se artistas, enquanto para livros temos os escritores responsáveis por contribuição.\n",
    "\n",
    "<img src=\"figures/catalog-class-diagram.png\"/>"
   ]
  },
  {
   "cell_type": "markdown",
   "metadata": {},
   "source": [
    "Mais especificamente, ContributorWithType podem ser as várias classes de contribuidores:\n",
    "\n",
    "<img src=\"figures/diagram-classes-contribuidores.png\"/>"
   ]
  },
  {
   "cell_type": "markdown",
   "metadata": {},
   "source": [
    "## Exercício\n",
    "\n",
    "* Faça uma modelagem orientada a objetos de um sistema bancário. Idenfifique os objetos, desenhe alguns diagramas de classe ou de sequência (tente pesquisar na internet por \"diagramas UML\" - existem vários tutoriais).\n",
    "* O trabalho pode ser feito em grupo de até 3 alunos.\n",
    "* As equipes devem apresentar sua proposta de solução na próxima aula."
   ]
  }
 ],
 "metadata": {
  "kernelspec": {
   "display_name": "Python 3",
   "language": "python",
   "name": "python3"
  },
  "language_info": {
   "codemirror_mode": {
    "name": "ipython",
    "version": 3
   },
   "file_extension": ".py",
   "mimetype": "text/x-python",
   "name": "python",
   "nbconvert_exporter": "python",
   "pygments_lexer": "ipython3",
   "version": "3.6.6"
  }
 },
 "nbformat": 4,
 "nbformat_minor": 2
}
